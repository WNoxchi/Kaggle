{
 "cells": [
  {
   "cell_type": "markdown",
   "metadata": {},
   "source": [
    "## SETUP"
   ]
  },
  {
   "cell_type": "code",
   "execution_count": 1,
   "metadata": {},
   "outputs": [],
   "source": [
    "%matplotlib inline\n",
    "%reload_ext autoreload\n",
    "%autoreload 2"
   ]
  },
  {
   "cell_type": "code",
   "execution_count": 2,
   "metadata": {},
   "outputs": [],
   "source": [
    "from fastai import *\n",
    "from fastai.vision import *\n",
    "from utils.utils import open_4_channel\n",
    "from utils.resnet import Resnet4Channel"
   ]
  },
  {
   "cell_type": "code",
   "execution_count": 3,
   "metadata": {},
   "outputs": [],
   "source": [
    "path = Config.data_path()/'proteinatlas'"
   ]
  },
  {
   "cell_type": "code",
   "execution_count": 4,
   "metadata": {},
   "outputs": [],
   "source": [
    "np.random.seed(42)\n",
    "src = (ImageItemList.from_csv(path, 'train.csv', folder='train', suffix='.png')\n",
    "       .random_split_by_pct(0.2)\n",
    "       .label_from_df(sep=' ', classes=[str(i) for i in range(28)])) # 27 classes"
   ]
  },
  {
   "cell_type": "code",
   "execution_count": 5,
   "metadata": {},
   "outputs": [],
   "source": [
    "src.train.x.create_func = open_4_channel\n",
    "src.train.x.open = open_4_channel\n",
    "src.valid.x.create_func = open_4_channel\n",
    "src.valid.x.open = open_4_channel"
   ]
  },
  {
   "cell_type": "code",
   "execution_count": 6,
   "metadata": {},
   "outputs": [],
   "source": [
    "test_ids = list(sorted({fname.split('_')[0] for fname in os.listdir(path/'test')}))\n",
    "test_fnames = [path/'test'/test_id for test_id in test_ids]"
   ]
  },
  {
   "cell_type": "code",
   "execution_count": 7,
   "metadata": {},
   "outputs": [],
   "source": [
    "src.add_test(test_fnames, label='0');\n",
    "src.test.x.create_func = open_4_channel\n",
    "src.test.x.open = open_4_channel"
   ]
  },
  {
   "cell_type": "code",
   "execution_count": 8,
   "metadata": {},
   "outputs": [],
   "source": [
    "protein_stats = ([0.08069, 0.05258, 0.05487, 0.08282], [0.13704, 0.10145, 0.15313, 0.13814])"
   ]
  },
  {
   "cell_type": "code",
   "execution_count": 9,
   "metadata": {},
   "outputs": [],
   "source": [
    "# get_transforms returns tfms for train & valid: https://docs.fast.ai/vision.transform.html#get_transforms\n",
    "train_tfms, _ = get_transforms(do_flip=True, flip_vert=True, max_rotate=30., max_zoom=1,\n",
    "                            max_lighting=0.05, max_warp=0.)\n",
    "size = 128"
   ]
  },
  {
   "cell_type": "code",
   "execution_count": 10,
   "metadata": {},
   "outputs": [],
   "source": [
    "data = (src.transform((train_tfms, _), size=size)\n",
    "        .databunch().normalize(protein_stats))"
   ]
  },
  {
   "cell_type": "code",
   "execution_count": 11,
   "metadata": {},
   "outputs": [],
   "source": [
    "def resnet50(pretrained):\n",
    "    return Resnet4Channel(encoder_depth=50)\n",
    "\n",
    "# copied from https://github.com/fastai/fastai/blob/master/fastai/vision/learner.py\n",
    "def _resnet_split(m): return (m[0][6], m[1])"
   ]
  },
  {
   "cell_type": "code",
   "execution_count": 12,
   "metadata": {},
   "outputs": [],
   "source": [
    "f1_score = partial(fbeta, thresh=0.2, beta=1)"
   ]
  },
  {
   "cell_type": "code",
   "execution_count": 13,
   "metadata": {},
   "outputs": [],
   "source": [
    "learn = create_cnn(\n",
    "    data, \n",
    "    resnet50, \n",
    "    cut=-2, \n",
    "    split_on=_resnet_split,\n",
    "    loss_func=F.binary_cross_entropy_with_logits,\n",
    "    path=path, \n",
    "    metrics=[f1_score]\n",
    ")"
   ]
  },
  {
   "cell_type": "markdown",
   "metadata": {},
   "source": [
    "`# learn.fit_one_cycle(15, slice(3e-5, lr/5))`\n",
    "\n",
    "Total time: 32:32\n",
    "\n",
    "epoch\t|train_loss|\tvalid_loss|\tfbeta\n",
    "-|-|-|-\n",
    "1|\t0.122032\t|0.119484|\t0.573136\n",
    "2\t|0.124276|\t0.121466|\t0.561945\n",
    "3\t|0.125240|\t0.124952|\t0.542730\n",
    "4\t|0.123585|\t0.125676|\t0.552006\n",
    "5\t|0.121753|\t0.120939|\t0.580173\n",
    "6\t|0.119882|\t0.117670|\t0.582705\n",
    "7\t|0.116195|\t0.112468|\t0.607217\n",
    "8\t|0.113114|\t0.110549|\t0.609188\n",
    "9\t|0.107278|\t0.110086|\t0.616795\n",
    "10\t|0.106212|\t0.109549|\t0.629468\n",
    "11\t|0.101763|\t0.103942|\t0.634795\n",
    "12\t|0.097465|\t0.101456|\t0.644239\n",
    "13\t|0.097104|\t0.100028|\t0.645712\n",
    "14\t|0.093200|\t0.099546|\t0.648440\n",
    "15\t|0.093603|\t0.099280|\t0.650713\n"
   ]
  },
  {
   "cell_type": "markdown",
   "metadata": {},
   "source": [
    "## TRAINING"
   ]
  },
  {
   "cell_type": "markdown",
   "metadata": {},
   "source": [
    "left off with train/val/fbeta of: `0.093603\t  0.099280\t0.650713`"
   ]
  },
  {
   "cell_type": "code",
   "execution_count": 14,
   "metadata": {},
   "outputs": [],
   "source": [
    "learn.load('stage-2-rn50-datablocks-sz128');"
   ]
  },
  {
   "cell_type": "markdown",
   "metadata": {},
   "source": [
    "bs = 48 @ sz = 256: \n",
    "\n",
    "- Frozen: `6967MiB /  7611MiB` P4 GPU. 91.5% utilz.\n",
    "\n",
    "- Unfrozen: `7549MiB /  7611MiB`\n",
    "\n",
    "Frozen → Unfrozen **8.35%** Memory Use Increase. `(7549/7611) / (6967/7611)` = `1.0835..`\n",
    "\n",
    "`(frac_new) / (frac_old) = frac_of_old`"
   ]
  },
  {
   "cell_type": "code",
   "execution_count": 15,
   "metadata": {},
   "outputs": [],
   "source": [
    "# resize input data to 256x256; lower batch size to 48\n",
    "bs   = 48; size = 256\n",
    "data = (src.transform((train_tfms, _), size=size)\n",
    "        .databunch(bs=bs).normalize(protein_stats))\n",
    "learn.data = data"
   ]
  },
  {
   "cell_type": "code",
   "execution_count": 16,
   "metadata": {},
   "outputs": [
    {
     "name": "stdout",
     "output_type": "stream",
     "text": [
      "LR Finder is complete, type {learner_name}.recorder.plot() to see the graph.\n"
     ]
    },
    {
     "data": {
      "image/png": "[encoded data removed]",
      "text/plain": [
       "<Figure size 432x288 with 1 Axes>"
      ]
     },
     "metadata": {
      "needs_background": "light"
     },
     "output_type": "display_data"
    }
   ],
   "source": [
    "learn.lr_find()\n",
    "learn.recorder.plot()"
   ]
  },
  {
   "cell_type": "code",
   "execution_count": 16,
   "metadata": {},
   "outputs": [],
   "source": [
    "lr = 3e-3"
   ]
  },
  {
   "cell_type": "code",
   "execution_count": null,
   "metadata": {},
   "outputs": [
    {
     "data": {
      "text/html": [
       "\n",
       "    <div>\n",
       "        <style>\n",
       "            /* Turns off some styling */\n",
       "            progress {\n",
       "                /* gets rid of default border in Firefox and Opera. */\n",
       "                border: none;\n",
       "                /* Needs to be in here for Safari polyfill so background images work as expected. */\n",
       "                background-size: auto;\n",
       "            }\n",
       "            .progress-bar-interrupted, .progress-bar-interrupted::-webkit-progress-bar {\n",
       "                background: #F44336;\n",
       "            }\n",
       "        </style>\n",
       "      <progress value='0' class='' max='8', style='width:300px; height:20px; vertical-align: middle;'></progress>\n",
       "      0.00% [0/8 00:00<00:00]\n",
       "    </div>\n",
       "    \n",
       "<table style='width:300px; margin-bottom:10px'>\n",
       "  <tr>\n",
       "    <th>epoch</th>\n",
       "    <th>train_loss</th>\n",
       "    <th>valid_loss</th>\n",
       "    <th>fbeta</th>\n",
       "  </tr>\n",
       "</table>\n",
       "\n",
       "\n",
       "    <div>\n",
       "        <style>\n",
       "            /* Turns off some styling */\n",
       "            progress {\n",
       "                /* gets rid of default border in Firefox and Opera. */\n",
       "                border: none;\n",
       "                /* Needs to be in here for Safari polyfill so background images work as expected. */\n",
       "                background-size: auto;\n",
       "            }\n",
       "            .progress-bar-interrupted, .progress-bar-interrupted::-webkit-progress-bar {\n",
       "                background: #F44336;\n",
       "            }\n",
       "        </style>\n",
       "      <progress value='396' class='' max='517', style='width:300px; height:20px; vertical-align: middle;'></progress>\n",
       "      76.60% [396/517 03:44<01:08 0.1067]\n",
       "    </div>\n",
       "    "
      ],
      "text/plain": [
       "<IPython.core.display.HTML object>"
      ]
     },
     "metadata": {},
     "output_type": "display_data"
    }
   ],
   "source": [
    "learn.fit_one_cycle(8, slice(lr))"
   ]
  },
  {
   "cell_type": "code",
   "execution_count": null,
   "metadata": {},
   "outputs": [],
   "source": [
    "learn.recorder.plot_losses()"
   ]
  },
  {
   "cell_type": "code",
   "execution_count": null,
   "metadata": {},
   "outputs": [],
   "source": [
    "3"
   ]
  },
  {
   "cell_type": "code",
   "execution_count": null,
   "metadata": {},
   "outputs": [],
   "source": []
  },
  {
   "cell_type": "code",
   "execution_count": null,
   "metadata": {},
   "outputs": [],
   "source": []
  },
  {
   "cell_type": "code",
   "execution_count": null,
   "metadata": {},
   "outputs": [],
   "source": []
  },
  {
   "cell_type": "code",
   "execution_count": null,
   "metadata": {},
   "outputs": [],
   "source": []
  },
  {
   "cell_type": "code",
   "execution_count": null,
   "metadata": {},
   "outputs": [],
   "source": []
  },
  {
   "cell_type": "code",
   "execution_count": null,
   "metadata": {},
   "outputs": [],
   "source": []
  },
  {
   "cell_type": "code",
   "execution_count": null,
   "metadata": {},
   "outputs": [],
   "source": []
  },
  {
   "cell_type": "markdown",
   "metadata": {},
   "source": [
    "## submissions"
   ]
  },
  {
   "cell_type": "code",
   "execution_count": 26,
   "metadata": {},
   "outputs": [],
   "source": [
    "learn.save(f'stage-2-rn50-datablocks-sz{size}')"
   ]
  },
  {
   "cell_type": "code",
   "execution_count": 27,
   "metadata": {},
   "outputs": [],
   "source": [
    "preds,_ = learn.get_preds(DatasetType.Test)\n",
    "pred_labels = [' '.join(list([str(i) for i in np.nonzero(row>0.2)[0]])) for row in np.array(preds)]"
   ]
  },
  {
   "cell_type": "code",
   "execution_count": 29,
   "metadata": {},
   "outputs": [],
   "source": [
    "import datetime; date = str(datetime.date.today()).replace('-','')"
   ]
  },
  {
   "cell_type": "code",
   "execution_count": 31,
   "metadata": {},
   "outputs": [],
   "source": [
    "(path/'submissions').mkdir(exist_ok=True)\n",
    "\n",
    "subm_msg = f\"RN50 Datablocks codealong; fastai {__version__}; size {size}; stage-2; threshold: 20%; date: {date}\"\n",
    "subm_name = f\"rn50-datablocks-sz{size}-stg2-th20p-fastai-{__version__}-{date}.csv\"\n",
    "\n",
    "subm_df = pd.DataFrame({'Id':test_ids,'Predicted':pred_labels})\n",
    "subm_df.to_csv(path/'submissions'/subm_name, header=True, index=False)"
   ]
  },
  {
   "cell_type": "code",
   "execution_count": null,
   "metadata": {},
   "outputs": [],
   "source": [
    "! kaggle competitions submit -c human-protein-atlas-image-classification -f {path}/submissions/{subm_name} -m \"{subm_msg}\""
   ]
  },
  {
   "cell_type": "markdown",
   "metadata": {},
   "source": [
    "## END"
   ]
  },
  {
   "cell_type": "code",
   "execution_count": null,
   "metadata": {},
   "outputs": [],
   "source": []
  }
 ],
 "metadata": {
  "kernelspec": {
   "display_name": "Python 3",
   "language": "python",
   "name": "python3"
  },
  "language_info": {
   "codemirror_mode": {
    "name": "ipython",
    "version": 3
   },
   "file_extension": ".py",
   "mimetype": "text/x-python",
   "name": "python",
   "nbconvert_exporter": "python",
   "pygments_lexer": "ipython3",
   "version": "3.6.8"
  }
 },
 "nbformat": 4,
 "nbformat_minor": 2
}
