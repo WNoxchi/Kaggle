{
 "cells": [
  {
   "cell_type": "markdown",
   "metadata": {},
   "source": [
    "# TrackML Library Orientation\n",
    "\n",
    "---\n",
    "\n",
    "Getting Oriented with the [TrackML Library](https://github.com/LAL/trackml-library)."
   ]
  },
  {
   "cell_type": "code",
   "execution_count": 7,
   "metadata": {},
   "outputs": [],
   "source": [
    "%matplotlib inline\n",
    "%reload_ext autoreload\n",
    "%autoreload 2\n",
    "\n",
    "import matplotlib.pyplot as plt\n",
    "import numpy as np\n",
    "import os\n",
    "from pathlib import Path\n",
    "\n",
    "from trackml.dataset import *\n",
    "from trackml.randomize import *\n",
    "from trackml.score import *\n",
    "from trackml.weights import *"
   ]
  },
  {
   "cell_type": "code",
   "execution_count": 21,
   "metadata": {},
   "outputs": [],
   "source": [
    "path = Path('data/competitions/trackml-particle-identification')\n",
    "path_trn = path/'train_100_events'"
   ]
  },
  {
   "cell_type": "code",
   "execution_count": 28,
   "metadata": {
    "scrolled": false
   },
   "outputs": [
    {
     "data": {
      "text/plain": [
       "['event000001073-hits.csv',\n",
       " 'event000001072-hits.csv',\n",
       " 'event000001086-cells.csv',\n",
       " 'event000001054-particles.csv',\n",
       " 'event000001000-truth.csv',\n",
       " 'event000001043-particles.csv',\n",
       " 'event000001035-cells.csv',\n",
       " 'event000001021-cells.csv',\n",
       " 'event000001014-truth.csv',\n",
       " 'event000001092-cells.csv']"
      ]
     },
     "execution_count": 28,
     "metadata": {},
     "output_type": "execute_result"
    }
   ],
   "source": [
    "os.listdir(path_trn)[:10]"
   ]
  },
  {
   "cell_type": "code",
   "execution_count": 29,
   "metadata": {},
   "outputs": [],
   "source": [
    "event_ids = [o.split('-')[0] for o in os.listdir(path_trn)]\n",
    "event_ids = np.unique(event_ids)"
   ]
  },
  {
   "cell_type": "code",
   "execution_count": 39,
   "metadata": {},
   "outputs": [],
   "source": [
    "random_event = np.random.choice(event_ids)\n",
    "hits, cells, particles, truth = load_event(path_trn/random_event)"
   ]
  },
  {
   "cell_type": "code",
   "execution_count": 40,
   "metadata": {},
   "outputs": [],
   "source": [
    "shuffled = shuffle_hits(truth, 0.05)\n",
    "score = score_event(truth, shuffled)"
   ]
  },
  {
   "cell_type": "code",
   "execution_count": 46,
   "metadata": {},
   "outputs": [
    {
     "data": {
      "text/html": [
       "<div>\n",
       "<style scoped>\n",
       "    .dataframe tbody tr th:only-of-type {\n",
       "        vertical-align: middle;\n",
       "    }\n",
       "\n",
       "    .dataframe tbody tr th {\n",
       "        vertical-align: top;\n",
       "    }\n",
       "\n",
       "    .dataframe thead th {\n",
       "        text-align: right;\n",
       "    }\n",
       "</style>\n",
       "<table border=\"1\" class=\"dataframe\">\n",
       "  <thead>\n",
       "    <tr style=\"text-align: right;\">\n",
       "      <th></th>\n",
       "      <th>hit_id</th>\n",
       "      <th>particle_id</th>\n",
       "      <th>tx</th>\n",
       "      <th>ty</th>\n",
       "      <th>tz</th>\n",
       "      <th>tpx</th>\n",
       "      <th>tpy</th>\n",
       "      <th>tpz</th>\n",
       "      <th>weight</th>\n",
       "    </tr>\n",
       "  </thead>\n",
       "  <tbody>\n",
       "    <tr>\n",
       "      <th>0</th>\n",
       "      <td>1</td>\n",
       "      <td>112593770255482880</td>\n",
       "      <td>-61.440300</td>\n",
       "      <td>-11.388600</td>\n",
       "      <td>-1502.5</td>\n",
       "      <td>-0.500029</td>\n",
       "      <td>-0.108078</td>\n",
       "      <td>-12.312800</td>\n",
       "      <td>0.000008</td>\n",
       "    </tr>\n",
       "    <tr>\n",
       "      <th>1</th>\n",
       "      <td>2</td>\n",
       "      <td>22525763437723648</td>\n",
       "      <td>-64.340302</td>\n",
       "      <td>-5.405970</td>\n",
       "      <td>-1502.5</td>\n",
       "      <td>-1.254670</td>\n",
       "      <td>-0.123671</td>\n",
       "      <td>-29.371901</td>\n",
       "      <td>0.000016</td>\n",
       "    </tr>\n",
       "    <tr>\n",
       "      <th>2</th>\n",
       "      <td>3</td>\n",
       "      <td>81066098962726912</td>\n",
       "      <td>-71.901497</td>\n",
       "      <td>-3.622550</td>\n",
       "      <td>-1502.5</td>\n",
       "      <td>-0.223835</td>\n",
       "      <td>0.005906</td>\n",
       "      <td>-4.468800</td>\n",
       "      <td>0.000006</td>\n",
       "    </tr>\n",
       "    <tr>\n",
       "      <th>3</th>\n",
       "      <td>4</td>\n",
       "      <td>229688460078743552</td>\n",
       "      <td>-96.986504</td>\n",
       "      <td>-6.291530</td>\n",
       "      <td>-1502.5</td>\n",
       "      <td>-0.156155</td>\n",
       "      <td>0.017297</td>\n",
       "      <td>-2.345860</td>\n",
       "      <td>0.000008</td>\n",
       "    </tr>\n",
       "    <tr>\n",
       "      <th>4</th>\n",
       "      <td>5</td>\n",
       "      <td>328766346210836480</td>\n",
       "      <td>-75.786003</td>\n",
       "      <td>0.932985</td>\n",
       "      <td>-1502.5</td>\n",
       "      <td>-0.305416</td>\n",
       "      <td>0.026403</td>\n",
       "      <td>-6.090010</td>\n",
       "      <td>0.000006</td>\n",
       "    </tr>\n",
       "  </tbody>\n",
       "</table>\n",
       "</div>"
      ],
      "text/plain": [
       "   hit_id         particle_id         tx         ty      tz       tpx  \\\n",
       "0       1  112593770255482880 -61.440300 -11.388600 -1502.5 -0.500029   \n",
       "1       2   22525763437723648 -64.340302  -5.405970 -1502.5 -1.254670   \n",
       "2       3   81066098962726912 -71.901497  -3.622550 -1502.5 -0.223835   \n",
       "3       4  229688460078743552 -96.986504  -6.291530 -1502.5 -0.156155   \n",
       "4       5  328766346210836480 -75.786003   0.932985 -1502.5 -0.305416   \n",
       "\n",
       "        tpy        tpz    weight  \n",
       "0 -0.108078 -12.312800  0.000008  \n",
       "1 -0.123671 -29.371901  0.000016  \n",
       "2  0.005906  -4.468800  0.000006  \n",
       "3  0.017297  -2.345860  0.000008  \n",
       "4  0.026403  -6.090010  0.000006  "
      ]
     },
     "execution_count": 46,
     "metadata": {},
     "output_type": "execute_result"
    }
   ],
   "source": [
    "truth.head()"
   ]
  },
  {
   "cell_type": "code",
   "execution_count": 43,
   "metadata": {},
   "outputs": [
    {
     "data": {
      "text/html": [
       "<div>\n",
       "<style scoped>\n",
       "    .dataframe tbody tr th:only-of-type {\n",
       "        vertical-align: middle;\n",
       "    }\n",
       "\n",
       "    .dataframe tbody tr th {\n",
       "        vertical-align: top;\n",
       "    }\n",
       "\n",
       "    .dataframe thead th {\n",
       "        text-align: right;\n",
       "    }\n",
       "</style>\n",
       "<table border=\"1\" class=\"dataframe\">\n",
       "  <thead>\n",
       "    <tr style=\"text-align: right;\">\n",
       "      <th></th>\n",
       "      <th>hit_id</th>\n",
       "      <th>track_id</th>\n",
       "    </tr>\n",
       "  </thead>\n",
       "  <tbody>\n",
       "    <tr>\n",
       "      <th>0</th>\n",
       "      <td>1</td>\n",
       "      <td>3674</td>\n",
       "    </tr>\n",
       "    <tr>\n",
       "      <th>1</th>\n",
       "      <td>2</td>\n",
       "      <td>3703</td>\n",
       "    </tr>\n",
       "    <tr>\n",
       "      <th>2</th>\n",
       "      <td>3</td>\n",
       "      <td>1298</td>\n",
       "    </tr>\n",
       "    <tr>\n",
       "      <th>3</th>\n",
       "      <td>4</td>\n",
       "      <td>5392</td>\n",
       "    </tr>\n",
       "    <tr>\n",
       "      <th>4</th>\n",
       "      <td>5</td>\n",
       "      <td>3072</td>\n",
       "    </tr>\n",
       "  </tbody>\n",
       "</table>\n",
       "</div>"
      ],
      "text/plain": [
       "   hit_id  track_id\n",
       "0       1      3674\n",
       "1       2      3703\n",
       "2       3      1298\n",
       "3       4      5392\n",
       "4       5      3072"
      ]
     },
     "execution_count": 43,
     "metadata": {},
     "output_type": "execute_result"
    }
   ],
   "source": [
    "shuffled.head()"
   ]
  },
  {
   "cell_type": "code",
   "execution_count": 41,
   "metadata": {},
   "outputs": [
    {
     "data": {
      "text/plain": [
       "0.949610699665697"
      ]
     },
     "execution_count": 41,
     "metadata": {},
     "output_type": "execute_result"
    }
   ],
   "source": [
    "score"
   ]
  },
  {
   "cell_type": "markdown",
   "metadata": {},
   "source": [
    "---"
   ]
  },
  {
   "cell_type": "code",
   "execution_count": 48,
   "metadata": {},
   "outputs": [
    {
     "data": {
      "text/html": [
       "<div>\n",
       "<style scoped>\n",
       "    .dataframe tbody tr th:only-of-type {\n",
       "        vertical-align: middle;\n",
       "    }\n",
       "\n",
       "    .dataframe tbody tr th {\n",
       "        vertical-align: top;\n",
       "    }\n",
       "\n",
       "    .dataframe thead th {\n",
       "        text-align: right;\n",
       "    }\n",
       "</style>\n",
       "<table border=\"1\" class=\"dataframe\">\n",
       "  <thead>\n",
       "    <tr style=\"text-align: right;\">\n",
       "      <th></th>\n",
       "      <th>hit_id</th>\n",
       "      <th>x</th>\n",
       "      <th>y</th>\n",
       "      <th>z</th>\n",
       "      <th>volume_id</th>\n",
       "      <th>layer_id</th>\n",
       "      <th>module_id</th>\n",
       "    </tr>\n",
       "  </thead>\n",
       "  <tbody>\n",
       "    <tr>\n",
       "      <th>0</th>\n",
       "      <td>1</td>\n",
       "      <td>-61.443298</td>\n",
       "      <td>-11.380900</td>\n",
       "      <td>-1502.5</td>\n",
       "      <td>7</td>\n",
       "      <td>2</td>\n",
       "      <td>1</td>\n",
       "    </tr>\n",
       "    <tr>\n",
       "      <th>1</th>\n",
       "      <td>2</td>\n",
       "      <td>-64.341103</td>\n",
       "      <td>-5.389760</td>\n",
       "      <td>-1502.5</td>\n",
       "      <td>7</td>\n",
       "      <td>2</td>\n",
       "      <td>1</td>\n",
       "    </tr>\n",
       "    <tr>\n",
       "      <th>2</th>\n",
       "      <td>3</td>\n",
       "      <td>-71.902901</td>\n",
       "      <td>-3.627620</td>\n",
       "      <td>-1502.5</td>\n",
       "      <td>7</td>\n",
       "      <td>2</td>\n",
       "      <td>1</td>\n",
       "    </tr>\n",
       "    <tr>\n",
       "      <th>3</th>\n",
       "      <td>4</td>\n",
       "      <td>-96.995003</td>\n",
       "      <td>-6.304570</td>\n",
       "      <td>-1502.5</td>\n",
       "      <td>7</td>\n",
       "      <td>2</td>\n",
       "      <td>1</td>\n",
       "    </tr>\n",
       "    <tr>\n",
       "      <th>4</th>\n",
       "      <td>5</td>\n",
       "      <td>-75.784897</td>\n",
       "      <td>0.931861</td>\n",
       "      <td>-1502.5</td>\n",
       "      <td>7</td>\n",
       "      <td>2</td>\n",
       "      <td>1</td>\n",
       "    </tr>\n",
       "  </tbody>\n",
       "</table>\n",
       "</div>"
      ],
      "text/plain": [
       "   hit_id          x          y       z  volume_id  layer_id  module_id\n",
       "0       1 -61.443298 -11.380900 -1502.5          7         2          1\n",
       "1       2 -64.341103  -5.389760 -1502.5          7         2          1\n",
       "2       3 -71.902901  -3.627620 -1502.5          7         2          1\n",
       "3       4 -96.995003  -6.304570 -1502.5          7         2          1\n",
       "4       5 -75.784897   0.931861 -1502.5          7         2          1"
      ]
     },
     "execution_count": 48,
     "metadata": {},
     "output_type": "execute_result"
    }
   ],
   "source": [
    "hits.head()"
   ]
  },
  {
   "cell_type": "code",
   "execution_count": 49,
   "metadata": {},
   "outputs": [
    {
     "data": {
      "text/html": [
       "<div>\n",
       "<style scoped>\n",
       "    .dataframe tbody tr th:only-of-type {\n",
       "        vertical-align: middle;\n",
       "    }\n",
       "\n",
       "    .dataframe tbody tr th {\n",
       "        vertical-align: top;\n",
       "    }\n",
       "\n",
       "    .dataframe thead th {\n",
       "        text-align: right;\n",
       "    }\n",
       "</style>\n",
       "<table border=\"1\" class=\"dataframe\">\n",
       "  <thead>\n",
       "    <tr style=\"text-align: right;\">\n",
       "      <th></th>\n",
       "      <th>hit_id</th>\n",
       "      <th>ch0</th>\n",
       "      <th>ch1</th>\n",
       "      <th>value</th>\n",
       "    </tr>\n",
       "  </thead>\n",
       "  <tbody>\n",
       "    <tr>\n",
       "      <th>0</th>\n",
       "      <td>1</td>\n",
       "      <td>298</td>\n",
       "      <td>571</td>\n",
       "      <td>0.291315</td>\n",
       "    </tr>\n",
       "    <tr>\n",
       "      <th>1</th>\n",
       "      <td>2</td>\n",
       "      <td>174</td>\n",
       "      <td>614</td>\n",
       "      <td>0.297029</td>\n",
       "    </tr>\n",
       "    <tr>\n",
       "      <th>2</th>\n",
       "      <td>3</td>\n",
       "      <td>127</td>\n",
       "      <td>745</td>\n",
       "      <td>0.116041</td>\n",
       "    </tr>\n",
       "    <tr>\n",
       "      <th>3</th>\n",
       "      <td>3</td>\n",
       "      <td>127</td>\n",
       "      <td>746</td>\n",
       "      <td>0.147829</td>\n",
       "    </tr>\n",
       "    <tr>\n",
       "      <th>4</th>\n",
       "      <td>4</td>\n",
       "      <td>141</td>\n",
       "      <td>1194</td>\n",
       "      <td>0.274489</td>\n",
       "    </tr>\n",
       "  </tbody>\n",
       "</table>\n",
       "</div>"
      ],
      "text/plain": [
       "   hit_id  ch0   ch1     value\n",
       "0       1  298   571  0.291315\n",
       "1       2  174   614  0.297029\n",
       "2       3  127   745  0.116041\n",
       "3       3  127   746  0.147829\n",
       "4       4  141  1194  0.274489"
      ]
     },
     "execution_count": 49,
     "metadata": {},
     "output_type": "execute_result"
    }
   ],
   "source": [
    "cells.head()"
   ]
  },
  {
   "cell_type": "code",
   "execution_count": 50,
   "metadata": {},
   "outputs": [
    {
     "data": {
      "text/html": [
       "<div>\n",
       "<style scoped>\n",
       "    .dataframe tbody tr th:only-of-type {\n",
       "        vertical-align: middle;\n",
       "    }\n",
       "\n",
       "    .dataframe tbody tr th {\n",
       "        vertical-align: top;\n",
       "    }\n",
       "\n",
       "    .dataframe thead th {\n",
       "        text-align: right;\n",
       "    }\n",
       "</style>\n",
       "<table border=\"1\" class=\"dataframe\">\n",
       "  <thead>\n",
       "    <tr style=\"text-align: right;\">\n",
       "      <th></th>\n",
       "      <th>particle_id</th>\n",
       "      <th>vx</th>\n",
       "      <th>vy</th>\n",
       "      <th>vz</th>\n",
       "      <th>px</th>\n",
       "      <th>py</th>\n",
       "      <th>pz</th>\n",
       "      <th>q</th>\n",
       "      <th>nhits</th>\n",
       "    </tr>\n",
       "  </thead>\n",
       "  <tbody>\n",
       "    <tr>\n",
       "      <th>0</th>\n",
       "      <td>4503737066323968</td>\n",
       "      <td>0.007287</td>\n",
       "      <td>-0.011532</td>\n",
       "      <td>0.279592</td>\n",
       "      <td>-0.171464</td>\n",
       "      <td>-0.396773</td>\n",
       "      <td>3.093680</td>\n",
       "      <td>-1</td>\n",
       "      <td>2</td>\n",
       "    </tr>\n",
       "    <tr>\n",
       "      <th>1</th>\n",
       "      <td>4503805785800704</td>\n",
       "      <td>0.007287</td>\n",
       "      <td>-0.011532</td>\n",
       "      <td>0.279592</td>\n",
       "      <td>-0.717344</td>\n",
       "      <td>0.726660</td>\n",
       "      <td>1.677960</td>\n",
       "      <td>1</td>\n",
       "      <td>12</td>\n",
       "    </tr>\n",
       "    <tr>\n",
       "      <th>2</th>\n",
       "      <td>4503874505277440</td>\n",
       "      <td>0.007287</td>\n",
       "      <td>-0.011532</td>\n",
       "      <td>0.279592</td>\n",
       "      <td>0.890155</td>\n",
       "      <td>0.163685</td>\n",
       "      <td>0.727466</td>\n",
       "      <td>-1</td>\n",
       "      <td>13</td>\n",
       "    </tr>\n",
       "    <tr>\n",
       "      <th>3</th>\n",
       "      <td>4503943224754176</td>\n",
       "      <td>0.007287</td>\n",
       "      <td>-0.011532</td>\n",
       "      <td>0.279592</td>\n",
       "      <td>1.415850</td>\n",
       "      <td>1.695700</td>\n",
       "      <td>-1.231340</td>\n",
       "      <td>-1</td>\n",
       "      <td>11</td>\n",
       "    </tr>\n",
       "    <tr>\n",
       "      <th>4</th>\n",
       "      <td>4504011944230912</td>\n",
       "      <td>0.007287</td>\n",
       "      <td>-0.011532</td>\n",
       "      <td>0.279592</td>\n",
       "      <td>0.211300</td>\n",
       "      <td>0.638523</td>\n",
       "      <td>-0.411258</td>\n",
       "      <td>1</td>\n",
       "      <td>14</td>\n",
       "    </tr>\n",
       "  </tbody>\n",
       "</table>\n",
       "</div>"
      ],
      "text/plain": [
       "        particle_id        vx        vy        vz        px        py  \\\n",
       "0  4503737066323968  0.007287 -0.011532  0.279592 -0.171464 -0.396773   \n",
       "1  4503805785800704  0.007287 -0.011532  0.279592 -0.717344  0.726660   \n",
       "2  4503874505277440  0.007287 -0.011532  0.279592  0.890155  0.163685   \n",
       "3  4503943224754176  0.007287 -0.011532  0.279592  1.415850  1.695700   \n",
       "4  4504011944230912  0.007287 -0.011532  0.279592  0.211300  0.638523   \n",
       "\n",
       "         pz  q  nhits  \n",
       "0  3.093680 -1      2  \n",
       "1  1.677960  1     12  \n",
       "2  0.727466 -1     13  \n",
       "3 -1.231340 -1     11  \n",
       "4 -0.411258  1     14  "
      ]
     },
     "execution_count": 50,
     "metadata": {},
     "output_type": "execute_result"
    }
   ],
   "source": [
    "particles.head()"
   ]
  },
  {
   "cell_type": "code",
   "execution_count": 51,
   "metadata": {},
   "outputs": [
    {
     "data": {
      "text/plain": [
       "'event000001093'"
      ]
     },
     "execution_count": 51,
     "metadata": {},
     "output_type": "execute_result"
    }
   ],
   "source": [
    "random_event"
   ]
  },
  {
   "cell_type": "code",
   "execution_count": null,
   "metadata": {},
   "outputs": [],
   "source": []
  }
 ],
 "metadata": {
  "kernelspec": {
   "display_name": "Python (TrackML)",
   "language": "python",
   "name": "trackml"
  },
  "language_info": {
   "codemirror_mode": {
    "name": "ipython",
    "version": 3
   },
   "file_extension": ".py",
   "mimetype": "text/x-python",
   "name": "python",
   "nbconvert_exporter": "python",
   "pygments_lexer": "ipython3",
   "version": "3.6.5"
  }
 },
 "nbformat": 4,
 "nbformat_minor": 2
}
