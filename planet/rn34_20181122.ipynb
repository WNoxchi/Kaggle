{
 "cells": [
  {
   "cell_type": "markdown",
   "metadata": {},
   "source": [
    "WNixalo | 20181122\n",
    "\n",
    "---"
   ]
  },
  {
   "cell_type": "markdown",
   "metadata": {},
   "source": [
    "This notebook is an attempt to breach a score of 0.93 on the private leaderboard using ResNet34."
   ]
  },
  {
   "cell_type": "code",
   "execution_count": 3,
   "metadata": {},
   "outputs": [
    {
     "data": {
      "text/plain": [
       "'1.0.28'"
      ]
     },
     "execution_count": 3,
     "metadata": {},
     "output_type": "execute_result"
    }
   ],
   "source": [
    "__version__ # fastai"
   ]
  },
  {
   "cell_type": "code",
   "execution_count": 1,
   "metadata": {},
   "outputs": [],
   "source": [
    "%reload_ext autoreload\n",
    "%autoreload 2\n",
    "%matplotlib inline"
   ]
  },
  {
   "cell_type": "code",
   "execution_count": 2,
   "metadata": {},
   "outputs": [],
   "source": [
    "from fastai import *\n",
    "from fastai.vision import *"
   ]
  },
  {
   "cell_type": "markdown",
   "metadata": {},
   "source": [
    "## Data"
   ]
  },
  {
   "cell_type": "code",
   "execution_count": 4,
   "metadata": {},
   "outputs": [],
   "source": [
    "path = Config.data_path()/'planet'\n",
    "path.mkdir(exist_ok=True); #path"
   ]
  },
  {
   "cell_type": "code",
   "execution_count": 5,
   "metadata": {},
   "outputs": [],
   "source": [
    "tfms = get_transforms(flip_vert=True, max_lighting=0.1, max_zoom=1.05, max_warp=0.)"
   ]
  },
  {
   "cell_type": "code",
   "execution_count": 6,
   "metadata": {},
   "outputs": [],
   "source": [
    "np.random.seed(0)\n",
    "src = (ImageItemList.from_csv(path, 'train_v2.csv', folder='train-jpg', suffix='.jpg')\n",
    "       .random_split_by_pct(0.2)\n",
    "       .label_from_df(sep=' '))\n",
    "data = (src.transform(tfms, size=128)\n",
    "       .databunch()\n",
    "       .normalize(imagenet_stats))"
   ]
  },
  {
   "cell_type": "code",
   "execution_count": 7,
   "metadata": {},
   "outputs": [],
   "source": [
    "arch = models.resnet34\n",
    "acc_025 = partial(accuracy_thresh, thresh=0.25)\n",
    "f_score = partial(fbeta, thresh=0.25)\n",
    "learn   = create_cnn(data, arch, metrics=[acc_025, f_score])"
   ]
  },
  {
   "cell_type": "markdown",
   "metadata": {},
   "source": [
    "## Training"
   ]
  },
  {
   "cell_type": "markdown",
   "metadata": {},
   "source": [
    "### size 128 stage 1"
   ]
  },
  {
   "cell_type": "code",
   "execution_count": 8,
   "metadata": {},
   "outputs": [
    {
     "name": "stdout",
     "output_type": "stream",
     "text": [
      "LR Finder is complete, type {learner_name}.recorder.plot() to see the graph.\n"
     ]
    },
    {
     "data": {
      "image/png": "[encoded data removed]",
      "text/plain": [
       "<Figure size 432x288 with 1 Axes>"
      ]
     },
     "metadata": {
      "needs_background": "light"
     },
     "output_type": "display_data"
    }
   ],
   "source": [
    "learn.lr_find(); learn.recorder.plot()"
   ]
  },
  {
   "cell_type": "code",
   "execution_count": 9,
   "metadata": {},
   "outputs": [],
   "source": [
    "lr = 1e-2"
   ]
  },
  {
   "cell_type": "code",
   "execution_count": 11,
   "metadata": {},
   "outputs": [
    {
     "name": "stdout",
     "output_type": "stream",
     "text": [
      "Total time: 05:33\n",
      "epoch  train_loss  valid_loss  accuracy_thresh  fbeta   \n",
      "1      0.123554    0.107391    0.951096         0.898693  (01:00)\n",
      "2      0.114129    0.100087    0.955426         0.912277  (00:53)\n",
      "3      0.105938    0.096603    0.956974         0.914020  (00:54)\n",
      "4      0.101944    0.090963    0.957025         0.919941  (00:54)\n",
      "5      0.094447    0.088413    0.959002         0.922236  (00:54)\n",
      "6      0.092927    0.087332    0.959772         0.922656  (00:54)\n",
      "\n"
     ]
    }
   ],
   "source": [
    "learn.fit_one_cycle(6, slice(lr)) # oh cool: fastai by default uses slice(None, 0.003, None) for max_lr"
   ]
  },
  {
   "cell_type": "code",
   "execution_count": 12,
   "metadata": {},
   "outputs": [
    {
     "name": "stdout",
     "output_type": "stream",
     "text": [
      "LR Finder is complete, type {learner_name}.recorder.plot() to see the graph.\n"
     ]
    },
    {
     "data": {
      "image/png": "[encoded data removed]",
      "text/plain": [
       "<Figure size 432x288 with 1 Axes>"
      ]
     },
     "metadata": {
      "needs_background": "light"
     },
     "output_type": "display_data"
    }
   ],
   "source": [
    "learn.lr_find(); learn.recorder.plot()"
   ]
  },
  {
   "cell_type": "code",
   "execution_count": 13,
   "metadata": {},
   "outputs": [
    {
     "name": "stdout",
     "output_type": "stream",
     "text": [
      "Total time: 05:27\n",
      "epoch  train_loss  valid_loss  accuracy_thresh  fbeta   \n",
      "1      0.090965    0.087516    0.960426         0.922312  (00:53)\n",
      "2      0.094538    0.087673    0.959765         0.922738  (00:54)\n",
      "3      0.091236    0.086872    0.959706         0.923315  (00:54)\n",
      "4      0.088745    0.086896    0.959910         0.923021  (00:55)\n",
      "5      0.089056    0.086656    0.959765         0.923041  (00:55)\n",
      "6      0.086743    0.086573    0.960368         0.923782  (00:54)\n",
      "\n"
     ]
    }
   ],
   "source": [
    "learn.fit_one_cycle(6, slice(lr/10)) "
   ]
  },
  {
   "cell_type": "code",
   "execution_count": 14,
   "metadata": {},
   "outputs": [],
   "source": [
    "learn.save('planet-rn34-sz128-stg1')"
   ]
  },
  {
   "cell_type": "markdown",
   "metadata": {},
   "source": [
    "### size 128 stage 2"
   ]
  },
  {
   "cell_type": "code",
   "execution_count": 15,
   "metadata": {},
   "outputs": [
    {
     "name": "stdout",
     "output_type": "stream",
     "text": [
      "LR Finder is complete, type {learner_name}.recorder.plot() to see the graph.\n"
     ]
    },
    {
     "data": {
      "image/png": "[encoded data removed]",
      "text/plain": [
       "<Figure size 432x288 with 1 Axes>"
      ]
     },
     "metadata": {
      "needs_background": "light"
     },
     "output_type": "display_data"
    }
   ],
   "source": [
    "learn.unfreeze()\n",
    "learn.lr_find(); learn.recorder.plot()"
   ]
  },
  {
   "cell_type": "code",
   "execution_count": 16,
   "metadata": {},
   "outputs": [
    {
     "name": "stdout",
     "output_type": "stream",
     "text": [
      "Total time: 07:51\n",
      "epoch  train_loss  valid_loss  accuracy_thresh  fbeta   \n",
      "1      0.095547    0.090982    0.956269         0.920293  (01:16)\n",
      "2      0.097831    0.091132    0.955557         0.920733  (01:19)\n",
      "3      0.092275    0.089166    0.960382         0.921276  (01:18)\n",
      "4      0.090055    0.085760    0.960491         0.924190  (01:18)\n",
      "5      0.084286    0.083759    0.962707         0.925446  (01:18)\n",
      "6      0.081266    0.083270    0.962373         0.927618  (01:18)\n",
      "\n"
     ]
    }
   ],
   "source": [
    "learn.fit_one_cycle(6, slice(1e-5, lr/5))"
   ]
  },
  {
   "cell_type": "code",
   "execution_count": 17,
   "metadata": {},
   "outputs": [
    {
     "data": {
      "image/png": "[encoded data removed]",
      "text/plain": [
       "<Figure size 432x288 with 1 Axes>"
      ]
     },
     "metadata": {
      "needs_background": "light"
     },
     "output_type": "display_data"
    }
   ],
   "source": [
    "learn.recorder.plot_losses()"
   ]
  },
  {
   "cell_type": "code",
   "execution_count": 18,
   "metadata": {},
   "outputs": [],
   "source": [
    "learn.save('planet-rn34-sz128-stg2')"
   ]
  },
  {
   "cell_type": "markdown",
   "metadata": {},
   "source": [
    "a 2nd training cycle didn't improve. trying with weight decay of 0.001 decreased val_loss by 0.0004 and increased fbeta by 0.0003. Ehh."
   ]
  },
  {
   "cell_type": "markdown",
   "metadata": {},
   "source": [
    "### size 256 stage 1"
   ]
  },
  {
   "cell_type": "code",
   "execution_count": 27,
   "metadata": {},
   "outputs": [],
   "source": [
    "data = (src.transform(tfms, size=256)\n",
    "        .databunch().normalize(imagenet_stats))\n",
    "learn.data = data"
   ]
  },
  {
   "cell_type": "code",
   "execution_count": 28,
   "metadata": {},
   "outputs": [
    {
     "name": "stdout",
     "output_type": "stream",
     "text": [
      "LR Finder is complete, type {learner_name}.recorder.plot() to see the graph.\n"
     ]
    },
    {
     "data": {
      "image/png": "[encoded data removed]",
      "text/plain": [
       "<Figure size 432x288 with 1 Axes>"
      ]
     },
     "metadata": {
      "needs_background": "light"
     },
     "output_type": "display_data"
    }
   ],
   "source": [
    "learn.freeze()\n",
    "learn.lr_find(); learn.recorder.plot()"
   ]
  },
  {
   "cell_type": "code",
   "execution_count": 29,
   "metadata": {},
   "outputs": [],
   "source": [
    "lr = 5e-3"
   ]
  },
  {
   "cell_type": "code",
   "execution_count": 31,
   "metadata": {},
   "outputs": [
    {
     "name": "stdout",
     "output_type": "stream",
     "text": [
      "Total time: 18:07\n",
      "epoch  train_loss  valid_loss  accuracy_thresh  fbeta   \n",
      "1      0.086261    0.085759    0.960971         0.921879  (03:00)\n",
      "2      0.090712    0.085955    0.961203         0.923855  (03:01)\n",
      "3      0.089583    0.084504    0.960811         0.925562  (03:01)\n",
      "4      0.085359    0.082699    0.963020         0.926118  (03:01)\n",
      "5      0.084309    0.081824    0.962736         0.927889  (03:01)\n",
      "6      0.081894    0.081572    0.963202         0.928500  (03:01)\n",
      "\n"
     ]
    }
   ],
   "source": [
    "learn.fit_one_cycle(6, slice(lr))"
   ]
  },
  {
   "cell_type": "code",
   "execution_count": 32,
   "metadata": {},
   "outputs": [],
   "source": [
    "learn.save('planet-rn34-sz256-stg1')"
   ]
  },
  {
   "cell_type": "markdown",
   "metadata": {},
   "source": [
    "training further at lr=1e-3 improved val_loss by 9.3e-5, accuracy_thresh by 7.3e-4, and fbeta by -1.3e-4 (worse). ehh."
   ]
  },
  {
   "cell_type": "markdown",
   "metadata": {},
   "source": [
    "### size 256 stage 2"
   ]
  },
  {
   "cell_type": "code",
   "execution_count": 41,
   "metadata": {},
   "outputs": [
    {
     "name": "stdout",
     "output_type": "stream",
     "text": [
      "LR Finder is complete, type {learner_name}.recorder.plot() to see the graph.\n"
     ]
    },
    {
     "data": {
      "image/png": "[encoded data removed]",
      "text/plain": [
       "<Figure size 432x288 with 1 Axes>"
      ]
     },
     "metadata": {
      "needs_background": "light"
     },
     "output_type": "display_data"
    }
   ],
   "source": [
    "learn.unfreeze()\n",
    "learn.lr_find(); learn.recorder.plot()"
   ]
  },
  {
   "cell_type": "code",
   "execution_count": 44,
   "metadata": {},
   "outputs": [],
   "source": [
    "lr = 1e-3/2"
   ]
  },
  {
   "cell_type": "code",
   "execution_count": 46,
   "metadata": {},
   "outputs": [
    {
     "name": "stdout",
     "output_type": "stream",
     "text": [
      "Total time: 24:33\n",
      "epoch  train_loss  valid_loss  accuracy_thresh  fbeta   \n",
      "1      0.083719    0.083085    0.962315         0.927682  (04:03)\n",
      "2      0.086345    0.083792    0.960179         0.927632  (04:05)\n",
      "3      0.083351    0.082788    0.963027         0.928432  (04:06)\n",
      "4      0.079720    0.081379    0.962504         0.928923  (04:06)\n",
      "5      0.079237    0.080969    0.963572         0.928824  (04:05)\n",
      "6      0.076925    0.080536    0.963333         0.929696  (04:06)\n",
      "\n"
     ]
    }
   ],
   "source": [
    "learn.fit_one_cycle(6, slice(1e-5, lr))"
   ]
  },
  {
   "cell_type": "code",
   "execution_count": 47,
   "metadata": {},
   "outputs": [],
   "source": [
    "learn.save('planet-rn34-sz256-stg2')"
   ]
  },
  {
   "cell_type": "code",
   "execution_count": 49,
   "metadata": {},
   "outputs": [
    {
     "data": {
      "image/png": "[encoded data removed]",
      "text/plain": [
       "<Figure size 432x288 with 1 Axes>"
      ]
     },
     "metadata": {
      "needs_background": "light"
     },
     "output_type": "display_data"
    }
   ],
   "source": [
    "learn.recorder.plot_losses()"
   ]
  },
  {
   "cell_type": "markdown",
   "metadata": {},
   "source": [
    "training further with lr / 2 gave valid_loss: 1.2e-3 worse, acc_thresh: 7.6e-4 better, fbeta: 7.2e-4 worse. Ehh."
   ]
  },
  {
   "cell_type": "markdown",
   "metadata": {},
   "source": [
    "I have this hunch, that further finetuning early on may actually hurt the final state of the model, because it narrows the search space by bringing the training loss down so quickly. Any further training or finetuning later on leads to overfitting much quicker than if that early extra finetuning hadn't been done. *hmmmm*. Refreezing the first conv layer group and training further didn't really help the model."
   ]
  },
  {
   "cell_type": "markdown",
   "metadata": {},
   "source": [
    "## Predictions"
   ]
  },
  {
   "cell_type": "code",
   "execution_count": 75,
   "metadata": {},
   "outputs": [],
   "source": [
    "subm_df = pd.read_csv(path/'sample_submission_v2.csv')\n",
    "subdic = {c1:c2 for c1,c2 in zip(subm_df.image_name,subm_df.tags)}"
   ]
  },
  {
   "cell_type": "code",
   "execution_count": 76,
   "metadata": {},
   "outputs": [],
   "source": [
    "def set_test_datafolder(learner, test_folder):\n",
    "    learner.data = (src.add_test_folder(test_folder)\n",
    "                    .transform(tfms, size=256)\n",
    "                    .databunch().normalize(imagenet_stats))"
   ]
  },
  {
   "cell_type": "markdown",
   "metadata": {},
   "source": [
    "1st testset portion"
   ]
  },
  {
   "cell_type": "code",
   "execution_count": 77,
   "metadata": {},
   "outputs": [],
   "source": [
    "set_test_datafolder(learn, 'test-jpg')\n",
    "fnames = [f.name.split('.')[0] for f in learn.data.test_ds.x.items]"
   ]
  },
  {
   "cell_type": "code",
   "execution_count": 78,
   "metadata": {},
   "outputs": [
    {
     "name": "stdout",
     "output_type": "stream",
     "text": [
      "Total time: 12:09\n",
      "\n"
     ]
    }
   ],
   "source": [
    "preds1 = learn.TTA(ds_type=DatasetType.Test)"
   ]
  },
  {
   "cell_type": "markdown",
   "metadata": {},
   "source": [
    "2nd testset portion"
   ]
  },
  {
   "cell_type": "code",
   "execution_count": 79,
   "metadata": {},
   "outputs": [],
   "source": [
    "set_test_datafolder(learn, 'test-jpg-additional')\n",
    "fnames.extend([f.name.split('.')[0] for f in learn.data.test_ds.x.items])"
   ]
  },
  {
   "cell_type": "code",
   "execution_count": 80,
   "metadata": {},
   "outputs": [
    {
     "name": "stdout",
     "output_type": "stream",
     "text": [
      "Total time: 06:13\n",
      "\n"
     ]
    }
   ],
   "source": [
    "preds2 = learn.TTA(ds_type=DatasetType.Test)"
   ]
  },
  {
   "cell_type": "code",
   "execution_count": 81,
   "metadata": {},
   "outputs": [],
   "source": [
    "preds = (torch.cat((preds1[0],preds2[0])), torch.cat((preds1[1],preds2[1])))"
   ]
  },
  {
   "cell_type": "code",
   "execution_count": 83,
   "metadata": {},
   "outputs": [],
   "source": [
    "torch.save(preds, f'planet-rn34-sz256-stg2.pkl')"
   ]
  },
  {
   "cell_type": "markdown",
   "metadata": {},
   "source": [
    "## Submissions"
   ]
  },
  {
   "cell_type": "code",
   "execution_count": 84,
   "metadata": {},
   "outputs": [],
   "source": [
    "import datetime\n",
    "date = str(datetime.date.today()).replace('-','')"
   ]
  },
  {
   "cell_type": "code",
   "execution_count": 113,
   "metadata": {},
   "outputs": [
    {
     "data": {
      "text/plain": [
       "{'haze': 0,\n",
       " 'cloudy': 1,\n",
       " 'selective_logging': 2,\n",
       " 'bare_ground': 3,\n",
       " 'cultivation': 4,\n",
       " 'partly_cloudy': 5,\n",
       " 'habitation': 6,\n",
       " 'road': 7,\n",
       " 'primary': 8,\n",
       " 'blow_down': 9,\n",
       " 'blooming': 10,\n",
       " 'slash_burn': 11,\n",
       " 'artisinal_mine': 12,\n",
       " 'clear': 13,\n",
       " 'conventional_mine': 14,\n",
       " 'water': 15,\n",
       " 'agriculture': 16}"
      ]
     },
     "execution_count": 113,
     "metadata": {},
     "output_type": "execute_result"
    }
   ],
   "source": [
    "learn.data.c2i"
   ]
  },
  {
   "cell_type": "code",
   "execution_count": 115,
   "metadata": {},
   "outputs": [
    {
     "data": {
      "text/plain": [
       "dict_items([('haze', 0), ('cloudy', 1), ('selective_logging', 2), ('bare_ground', 3), ('cultivation', 4), ('partly_cloudy', 5), ('habitation', 6), ('road', 7), ('primary', 8), ('blow_down', 9), ('blooming', 10), ('slash_burn', 11), ('artisinal_mine', 12), ('clear', 13), ('conventional_mine', 14), ('water', 15), ('agriculture', 16)])"
      ]
     },
     "execution_count": 115,
     "metadata": {},
     "output_type": "execute_result"
    }
   ],
   "source": [
    "learn.data.c2i.items()"
   ]
  },
  {
   "cell_type": "code",
   "execution_count": 116,
   "metadata": {},
   "outputs": [],
   "source": [
    "idx2class = {v:k for k,v in learn.data.c2i.items()}"
   ]
  },
  {
   "cell_type": "code",
   "execution_count": 91,
   "metadata": {},
   "outputs": [
    {
     "data": {
      "text/plain": [
       "{0: 'haze',\n",
       " 1: 'cloudy',\n",
       " 2: 'selective_logging',\n",
       " 3: 'bare_ground',\n",
       " 4: 'cultivation',\n",
       " 5: 'partly_cloudy',\n",
       " 6: 'habitation',\n",
       " 7: 'road',\n",
       " 8: 'primary',\n",
       " 9: 'blow_down',\n",
       " 10: 'blooming',\n",
       " 11: 'slash_burn',\n",
       " 12: 'artisinal_mine',\n",
       " 13: 'clear',\n",
       " 14: 'conventional_mine',\n",
       " 15: 'water',\n",
       " 16: 'agriculture'}"
      ]
     },
     "execution_count": 91,
     "metadata": {},
     "output_type": "execute_result"
    }
   ],
   "source": [
    "idx2class"
   ]
  },
  {
   "cell_type": "code",
   "execution_count": 117,
   "metadata": {},
   "outputs": [],
   "source": [
    "th = 0.3\n",
    "\n",
    "for i,fn in enumerate(fnames):\n",
    "    subdic[fn] = ' '.join(idx2class[cdx] for cdx in np.where(preds[0][i]>=th)[0])\n",
    "    \n",
    "subm_col = [subdic[fn] for fn in subm_df.image_name]\n",
    "subm_df.tags = subm_col"
   ]
  },
  {
   "cell_type": "code",
   "execution_count": 120,
   "metadata": {},
   "outputs": [],
   "source": [
    "sub_msg = f\"fastai {__version__}; rn34 2-stg; thresh:{th}; {date}\""
   ]
  },
  {
   "cell_type": "code",
   "execution_count": 122,
   "metadata": {},
   "outputs": [
    {
     "name": "stdout",
     "output_type": "stream",
     "text": [
      "Could not find competition - please verify that you entered the correct competition ID and that the competition is still accepting submissions.\n",
      "/bin/sh: 1: rn34: not found\n",
      "/bin/sh: 1: thresh:0.3: not found\n",
      "/bin/sh: 1: 20181123: not found\n"
     ]
    }
   ],
   "source": [
    "sub_name = f'planet-rn34-sz256-stg2_{date}_th{str(th).replace(\".\",\"\")}.csv'\n",
    "subm_df.to_csv(path/'submissions/'/sub_name, index=False, )\n",
    "! kaggle competitions submit -c planet-understanding-the-amazon-from-space -f {path}/submissions/{sub_name} -m {sub_msg}"
   ]
  },
  {
   "cell_type": "markdown",
   "metadata": {},
   "source": [
    "## end"
   ]
  },
  {
   "cell_type": "code",
   "execution_count": null,
   "metadata": {},
   "outputs": [],
   "source": []
  }
 ],
 "metadata": {
  "kernelspec": {
   "display_name": "Python 3",
   "language": "python",
   "name": "python3"
  },
  "language_info": {
   "codemirror_mode": {
    "name": "ipython",
    "version": 3
   },
   "file_extension": ".py",
   "mimetype": "text/x-python",
   "name": "python",
   "nbconvert_exporter": "python",
   "pygments_lexer": "ipython3",
   "version": "3.6.5"
  }
 },
 "nbformat": 4,
 "nbformat_minor": 2
}
