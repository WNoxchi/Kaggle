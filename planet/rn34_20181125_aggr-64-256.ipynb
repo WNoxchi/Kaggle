{
 "cells": [
  {
   "cell_type": "markdown",
   "metadata": {},
   "source": [
    "WNixalo | 20181125\n",
    "\n",
    "---"
   ]
  },
  {
   "cell_type": "markdown",
   "metadata": {},
   "source": [
    "This notebook is an attempt to breach a score of 0.93 on the private leaderboard with ResNet34, using aggressive learning rates and extra progressive resizing. 2 versions of a model are trained, one with an extra cycle."
   ]
  },
  {
   "cell_type": "code",
   "execution_count": 1,
   "metadata": {},
   "outputs": [],
   "source": [
    "%reload_ext autoreload\n",
    "%autoreload 2\n",
    "%matplotlib inline"
   ]
  },
  {
   "cell_type": "code",
   "execution_count": 10,
   "metadata": {},
   "outputs": [
    {
     "data": {
      "text/plain": [
       "'1.0.28'"
      ]
     },
     "execution_count": 10,
     "metadata": {},
     "output_type": "execute_result"
    }
   ],
   "source": [
    "from fastai import *\n",
    "from fastai.vision import *\n",
    "__version__ # fastai"
   ]
  },
  {
   "cell_type": "markdown",
   "metadata": {},
   "source": [
    "## Data"
   ]
  },
  {
   "cell_type": "code",
   "execution_count": 11,
   "metadata": {},
   "outputs": [],
   "source": [
    "path = Config.data_path()/'planet'\n",
    "path.mkdir(exist_ok=True); #path"
   ]
  },
  {
   "cell_type": "code",
   "execution_count": 12,
   "metadata": {},
   "outputs": [],
   "source": [
    "tfms = get_transforms(flip_vert=True, max_lighting=0.1, max_zoom=1.05, max_warp=0.)"
   ]
  },
  {
   "cell_type": "code",
   "execution_count": 13,
   "metadata": {},
   "outputs": [],
   "source": [
    "np.random.seed(5)\n",
    "src = (ImageItemList.from_csv(path, 'train_v2.csv', folder='train-jpg', suffix='.jpg')\n",
    "       .random_split_by_pct(0.2)\n",
    "       .label_from_df(sep=' '))\n",
    "data = (src.transform(tfms, size=64)\n",
    "       .databunch()\n",
    "       .normalize(imagenet_stats))"
   ]
  },
  {
   "cell_type": "code",
   "execution_count": 14,
   "metadata": {},
   "outputs": [],
   "source": [
    "arch = models.resnet34\n",
    "acc_025 = partial(accuracy_thresh, thresh=0.25)\n",
    "f_score = partial(fbeta, thresh=0.25)\n",
    "learn   = create_cnn(data, arch, metrics=[acc_025, f_score])"
   ]
  },
  {
   "cell_type": "code",
   "execution_count": 7,
   "metadata": {},
   "outputs": [
    {
     "data": {
      "text/plain": [
       "{'slash_burn': 0,\n",
       " 'partly_cloudy': 1,\n",
       " 'bare_ground': 2,\n",
       " 'primary': 3,\n",
       " 'selective_logging': 4,\n",
       " 'conventional_mine': 5,\n",
       " 'water': 6,\n",
       " 'agriculture': 7,\n",
       " 'road': 8,\n",
       " 'haze': 9,\n",
       " 'cloudy': 10,\n",
       " 'cultivation': 11,\n",
       " 'blooming': 12,\n",
       " 'blow_down': 13,\n",
       " 'clear': 14,\n",
       " 'habitation': 15,\n",
       " 'artisinal_mine': 16}"
      ]
     },
     "execution_count": 7,
     "metadata": {},
     "output_type": "execute_result"
    }
   ],
   "source": [
    "learn.data.c2i"
   ]
  },
  {
   "cell_type": "code",
   "execution_count": 14,
   "metadata": {},
   "outputs": [
    {
     "data": {
      "text/plain": [
       "{'conventional_mine': 0,\n",
       " 'partly_cloudy': 1,\n",
       " 'haze': 2,\n",
       " 'water': 3,\n",
       " 'habitation': 4,\n",
       " 'bare_ground': 5,\n",
       " 'road': 6,\n",
       " 'cultivation': 7,\n",
       " 'selective_logging': 8,\n",
       " 'cloudy': 9,\n",
       " 'blooming': 10,\n",
       " 'agriculture': 11,\n",
       " 'blow_down': 12,\n",
       " 'primary': 13,\n",
       " 'clear': 14,\n",
       " 'artisinal_mine': 15,\n",
       " 'slash_burn': 16}"
      ]
     },
     "execution_count": 14,
     "metadata": {},
     "output_type": "execute_result"
    }
   ],
   "source": [
    "learn.data.c2i"
   ]
  },
  {
   "cell_type": "markdown",
   "metadata": {},
   "source": [
    "## Training"
   ]
  },
  {
   "cell_type": "markdown",
   "metadata": {},
   "source": [
    "### size 64 stage 1"
   ]
  },
  {
   "cell_type": "code",
   "execution_count": 7,
   "metadata": {},
   "outputs": [
    {
     "name": "stdout",
     "output_type": "stream",
     "text": [
      "LR Finder is complete, type {learner_name}.recorder.plot() to see the graph.\n"
     ]
    },
    {
     "data": {
      "image/png": "[encoded data removed]",
      "text/plain": [
       "<Figure size 432x288 with 1 Axes>"
      ]
     },
     "metadata": {
      "needs_background": "light"
     },
     "output_type": "display_data"
    }
   ],
   "source": [
    "learn.lr_find(); learn.recorder.plot()"
   ]
  },
  {
   "cell_type": "code",
   "execution_count": 8,
   "metadata": {},
   "outputs": [],
   "source": [
    "lr = 1e-2"
   ]
  },
  {
   "cell_type": "code",
   "execution_count": 9,
   "metadata": {},
   "outputs": [
    {
     "name": "stdout",
     "output_type": "stream",
     "text": [
      "Total time: 02:56\n",
      "epoch  train_loss  valid_loss  accuracy_thresh  fbeta   \n",
      "1      0.130109    0.116243    0.947077         0.895581  (00:29)\n",
      "2      0.122847    0.111424    0.952018         0.897605  (00:30)\n",
      "3      0.116664    0.107203    0.945369         0.905908  (00:29)\n",
      "4      0.108828    0.102146    0.957578         0.907956  (00:29)\n",
      "5      0.103934    0.096580    0.956764         0.914618  (00:29)\n",
      "6      0.102207    0.095439    0.956655         0.916486  (00:29)\n",
      "\n"
     ]
    }
   ],
   "source": [
    "learn.fit_one_cycle(6, slice(lr)) # oh cool: fastai by default uses slice(None, 0.003, None) for max_lr"
   ]
  },
  {
   "cell_type": "markdown",
   "metadata": {},
   "source": [
    "### size 64 stage 2"
   ]
  },
  {
   "cell_type": "code",
   "execution_count": 10,
   "metadata": {},
   "outputs": [
    {
     "name": "stdout",
     "output_type": "stream",
     "text": [
      "LR Finder is complete, type {learner_name}.recorder.plot() to see the graph.\n"
     ]
    },
    {
     "data": {
      "image/png": "[encoded data removed]",
      "text/plain": [
       "<Figure size 432x288 with 1 Axes>"
      ]
     },
     "metadata": {
      "needs_background": "light"
     },
     "output_type": "display_data"
    }
   ],
   "source": [
    "learn.unfreeze()\n",
    "learn.lr_find(); learn.recorder.plot()"
   ]
  },
  {
   "cell_type": "code",
   "execution_count": 11,
   "metadata": {},
   "outputs": [
    {
     "data": {
      "text/plain": [
       "array([0.001111, 0.003333, 0.01    ])"
      ]
     },
     "execution_count": 11,
     "metadata": {},
     "output_type": "execute_result"
    }
   ],
   "source": [
    "# new d-lr:\n",
    "learn.lr_range(slice(lr/9, lr))"
   ]
  },
  {
   "cell_type": "code",
   "execution_count": 12,
   "metadata": {},
   "outputs": [
    {
     "name": "stdout",
     "output_type": "stream",
     "text": [
      "Total time: 04:08\n",
      "epoch  train_loss  valid_loss  accuracy_thresh  fbeta   \n",
      "1      0.118918    0.117525    0.949802         0.895522  (00:41)\n",
      "2      0.125757    0.118444    0.945871         0.896700  (00:41)\n",
      "3      0.120044    0.113653    0.952701         0.897579  (00:41)\n",
      "4      0.110139    0.103278    0.953472         0.911948  (00:42)\n",
      "5      0.101447    0.095060    0.955630         0.918170  (00:41)\n",
      "6      0.094236    0.092646    0.957541         0.920012  (00:41)\n",
      "\n"
     ]
    }
   ],
   "source": [
    "learn.fit_one_cycle(6, slice(lr/9, lr)) "
   ]
  },
  {
   "cell_type": "code",
   "execution_count": 13,
   "metadata": {},
   "outputs": [
    {
     "data": {
      "image/png": "[encoded data removed]",
      "text/plain": [
       "<Figure size 432x288 with 1 Axes>"
      ]
     },
     "metadata": {
      "needs_background": "light"
     },
     "output_type": "display_data"
    }
   ],
   "source": [
    "learn.recorder.plot_losses()"
   ]
  },
  {
   "cell_type": "markdown",
   "metadata": {},
   "source": [
    "### size 128 stage 1"
   ]
  },
  {
   "cell_type": "code",
   "execution_count": 17,
   "metadata": {},
   "outputs": [],
   "source": [
    "data = (src.transform(tfms, size=128)\n",
    "        .databunch().normalize(imagenet_stats))\n",
    "learn.data = data"
   ]
  },
  {
   "cell_type": "code",
   "execution_count": 15,
   "metadata": {},
   "outputs": [
    {
     "name": "stdout",
     "output_type": "stream",
     "text": [
      "LR Finder is complete, type {learner_name}.recorder.plot() to see the graph.\n"
     ]
    },
    {
     "data": {
      "image/png": "[encoded data removed]",
      "text/plain": [
       "<Figure size 432x288 with 1 Axes>"
      ]
     },
     "metadata": {
      "needs_background": "light"
     },
     "output_type": "display_data"
    }
   ],
   "source": [
    "learn.lr_find(); learn.recorder.plot()"
   ]
  },
  {
   "cell_type": "code",
   "execution_count": 17,
   "metadata": {},
   "outputs": [
    {
     "data": {
      "text/plain": [
       "0.01"
      ]
     },
     "execution_count": 17,
     "metadata": {},
     "output_type": "execute_result"
    }
   ],
   "source": [
    "lr"
   ]
  },
  {
   "cell_type": "code",
   "execution_count": 18,
   "metadata": {},
   "outputs": [
    {
     "name": "stdout",
     "output_type": "stream",
     "text": [
      "Total time: 07:57\n",
      "epoch  train_loss  valid_loss  accuracy_thresh  fbeta   \n",
      "1      0.106404    0.143273    0.939650         0.853916  (01:19)\n",
      "2      0.119634    0.116367    0.952462         0.892107  (01:19)\n",
      "3      0.113930    0.122871    0.952578         0.904147  (01:19)\n",
      "4      0.102845    0.097620    0.953987         0.913758  (01:19)\n",
      "5      0.093838    0.090206    0.961109         0.920778  (01:19)\n",
      "6      0.091415    0.087299    0.960251         0.924442  (01:19)\n",
      "\n"
     ]
    }
   ],
   "source": [
    "learn.fit_one_cycle(6, slice(lr))"
   ]
  },
  {
   "cell_type": "code",
   "execution_count": 19,
   "metadata": {},
   "outputs": [],
   "source": [
    "learn.save('planet-rn34-sz128-stg1-aggr-rsz64')"
   ]
  },
  {
   "cell_type": "markdown",
   "metadata": {},
   "source": [
    "### size 128 stage 2"
   ]
  },
  {
   "cell_type": "code",
   "execution_count": 20,
   "metadata": {},
   "outputs": [
    {
     "name": "stdout",
     "output_type": "stream",
     "text": [
      "LR Finder is complete, type {learner_name}.recorder.plot() to see the graph.\n"
     ]
    },
    {
     "data": {
      "image/png": "[encoded data removed]",
      "text/plain": [
       "<Figure size 432x288 with 1 Axes>"
      ]
     },
     "metadata": {
      "needs_background": "light"
     },
     "output_type": "display_data"
    }
   ],
   "source": [
    "learn.unfreeze()\n",
    "learn.lr_find(); learn.recorder.plot()"
   ]
  },
  {
   "cell_type": "code",
   "execution_count": 21,
   "metadata": {},
   "outputs": [
    {
     "data": {
      "text/plain": [
       "array([0.000556, 0.001667, 0.005   ])"
      ]
     },
     "execution_count": 21,
     "metadata": {},
     "output_type": "execute_result"
    }
   ],
   "source": [
    "# new d-lr:\n",
    "learn.lr_range(slice(lr/2/9, lr/2)) # lrs: lr/18, lr/6, lr/2; 5.5e-4, 1.6e-3, 5e-3"
   ]
  },
  {
   "cell_type": "code",
   "execution_count": 22,
   "metadata": {},
   "outputs": [
    {
     "name": "stdout",
     "output_type": "stream",
     "text": [
      "Total time: 07:56\n",
      "epoch  train_loss  valid_loss  accuracy_thresh  fbeta   \n",
      "1      0.093793    0.089140    0.959517         0.921136  (01:18)\n",
      "2      0.096755    0.090300    0.960070         0.920496  (01:19)\n",
      "3      0.090770    0.090481    0.960695         0.923051  (01:19)\n",
      "4      0.090148    0.087450    0.961756         0.922565  (01:19)\n",
      "5      0.089314    0.085745    0.962417         0.925336  (01:19)\n",
      "6      0.087949    0.084917    0.962366         0.926581  (01:19)\n",
      "\n"
     ]
    }
   ],
   "source": [
    "learn.fit_one_cycle(6, slice(lr/2/9, lr/2)) "
   ]
  },
  {
   "cell_type": "code",
   "execution_count": 23,
   "metadata": {},
   "outputs": [
    {
     "data": {
      "image/png": "[encoded data removed]",
      "text/plain": [
       "<Figure size 432x288 with 1 Axes>"
      ]
     },
     "metadata": {
      "needs_background": "light"
     },
     "output_type": "display_data"
    }
   ],
   "source": [
    "learn.recorder.plot_losses()"
   ]
  },
  {
   "cell_type": "code",
   "execution_count": 24,
   "metadata": {},
   "outputs": [],
   "source": [
    "learn.save('planet-rn34-sz128-stg2-aggr-rsz64')"
   ]
  },
  {
   "cell_type": "markdown",
   "metadata": {},
   "source": [
    "### size 256 stage 1"
   ]
  },
  {
   "cell_type": "code",
   "execution_count": 25,
   "metadata": {},
   "outputs": [],
   "source": [
    "data = (src.transform(tfms, size=256)\n",
    "        .databunch().normalize(imagenet_stats))\n",
    "learn.data = data"
   ]
  },
  {
   "cell_type": "code",
   "execution_count": 26,
   "metadata": {},
   "outputs": [
    {
     "name": "stdout",
     "output_type": "stream",
     "text": [
      "LR Finder is complete, type {learner_name}.recorder.plot() to see the graph.\n"
     ]
    },
    {
     "data": {
      "image/png": "[encoded data removed]",
      "text/plain": [
       "<Figure size 432x288 with 1 Axes>"
      ]
     },
     "metadata": {
      "needs_background": "light"
     },
     "output_type": "display_data"
    }
   ],
   "source": [
    "learn.freeze()\n",
    "learn.lr_find(); learn.recorder.plot()"
   ]
  },
  {
   "cell_type": "code",
   "execution_count": 27,
   "metadata": {},
   "outputs": [],
   "source": [
    "# lr = 5e-3 # 1e-2/2\n",
    "lr = 1e-2/2"
   ]
  },
  {
   "cell_type": "code",
   "execution_count": 28,
   "metadata": {},
   "outputs": [
    {
     "name": "stdout",
     "output_type": "stream",
     "text": [
      "Total time: 18:09\n",
      "epoch  train_loss  valid_loss  accuracy_thresh  fbeta   \n",
      "1      0.095412    0.089032    0.958195         0.923063  (03:00)\n",
      "2      0.093080    0.099791    0.962889         0.919962  (03:02)\n",
      "3      0.092367    0.087658    0.960579         0.922884  (03:01)\n",
      "4      0.088490    0.085579    0.961123         0.924880  (03:01)\n",
      "5      0.087679    0.084932    0.961218         0.925247  (03:01)\n",
      "6      0.087334    0.084348    0.961581         0.926157  (03:02)\n",
      "\n"
     ]
    }
   ],
   "source": [
    "learn.fit_one_cycle(6, slice(lr))"
   ]
  },
  {
   "cell_type": "code",
   "execution_count": 29,
   "metadata": {},
   "outputs": [],
   "source": [
    "learn.save('planet-rn34-sz256-stg1-aggr-rsz64')"
   ]
  },
  {
   "cell_type": "code",
   "execution_count": 30,
   "metadata": {},
   "outputs": [
    {
     "data": {
      "image/png": "[encoded data removed]",
      "text/plain": [
       "<Figure size 432x288 with 1 Axes>"
      ]
     },
     "metadata": {
      "needs_background": "light"
     },
     "output_type": "display_data"
    }
   ],
   "source": [
    "learn.recorder.plot_losses()"
   ]
  },
  {
   "cell_type": "markdown",
   "metadata": {},
   "source": [
    "### size 256 stage 2"
   ]
  },
  {
   "cell_type": "code",
   "execution_count": 31,
   "metadata": {},
   "outputs": [
    {
     "name": "stdout",
     "output_type": "stream",
     "text": [
      "LR Finder is complete, type {learner_name}.recorder.plot() to see the graph.\n"
     ]
    },
    {
     "data": {
      "image/png": "[encoded data removed]",
      "text/plain": [
       "<Figure size 432x288 with 1 Axes>"
      ]
     },
     "metadata": {
      "needs_background": "light"
     },
     "output_type": "display_data"
    }
   ],
   "source": [
    "learn.unfreeze()\n",
    "learn.lr_find(); learn.recorder.plot()"
   ]
  },
  {
   "cell_type": "code",
   "execution_count": 32,
   "metadata": {},
   "outputs": [],
   "source": [
    "lr = 1e-3"
   ]
  },
  {
   "cell_type": "code",
   "execution_count": 33,
   "metadata": {},
   "outputs": [
    {
     "name": "stdout",
     "output_type": "stream",
     "text": [
      "Total time: 25:09\n",
      "epoch  train_loss  valid_loss  accuracy_thresh  fbeta   \n",
      "1      0.086774    0.084588    0.961697         0.926462  (04:06)\n",
      "2      0.088873    0.084505    0.962054         0.925885  (04:15)\n",
      "3      0.087274    0.084064    0.962359         0.926228  (04:19)\n",
      "4      0.085111    0.084134    0.961632         0.926250  (04:12)\n",
      "5      0.082155    0.084033    0.962678         0.925518  (04:06)\n",
      "6      0.084214    0.083414    0.962155         0.926980  (04:07)\n",
      "\n"
     ]
    }
   ],
   "source": [
    "learn.fit_one_cycle(6, slice(5e-5, lr))"
   ]
  },
  {
   "cell_type": "code",
   "execution_count": 34,
   "metadata": {},
   "outputs": [],
   "source": [
    "learn.save('planet-rn34-sz256-stg2-aggr-rsz64')"
   ]
  },
  {
   "cell_type": "code",
   "execution_count": 35,
   "metadata": {},
   "outputs": [
    {
     "data": {
      "image/png": "[encoded data removed]",
      "text/plain": [
       "<Figure size 432x288 with 1 Axes>"
      ]
     },
     "metadata": {
      "needs_background": "light"
     },
     "output_type": "display_data"
    }
   ],
   "source": [
    "learn.recorder.plot_losses()"
   ]
  },
  {
   "cell_type": "markdown",
   "metadata": {},
   "source": [
    "extra training"
   ]
  },
  {
   "cell_type": "code",
   "execution_count": null,
   "metadata": {},
   "outputs": [],
   "source": [
    "# learn.load('planet-rn34-sz256-stg2-aggr-rsz64'); learn.unfreeze()"
   ]
  },
  {
   "cell_type": "code",
   "execution_count": 49,
   "metadata": {},
   "outputs": [
    {
     "name": "stdout",
     "output_type": "stream",
     "text": [
      "LR Finder is complete, type {learner_name}.recorder.plot() to see the graph.\n"
     ]
    },
    {
     "data": {
      "image/png": "[encoded data removed]",
      "text/plain": [
       "<Figure size 432x288 with 1 Axes>"
      ]
     },
     "metadata": {
      "needs_background": "light"
     },
     "output_type": "display_data"
    }
   ],
   "source": [
    "learn.lr_find(); learn.recorder.plot()"
   ]
  },
  {
   "cell_type": "code",
   "execution_count": 50,
   "metadata": {},
   "outputs": [
    {
     "name": "stdout",
     "output_type": "stream",
     "text": [
      "Total time: 24:49\n",
      "epoch  train_loss  valid_loss  accuracy_thresh  fbeta   \n",
      "1      0.083140    0.083376    0.961465         0.926513  (04:04)\n",
      "2      0.084222    0.083345    0.962112         0.926514  (04:07)\n",
      "3      0.085133    0.083491    0.962155         0.925630  (04:06)\n",
      "4      0.086156    0.083241    0.961748         0.926588  (04:07)\n",
      "5      0.085662    0.082943    0.962235         0.927568  (04:07)\n",
      "6      0.083263    0.083046    0.961545         0.926912  (04:17)\n",
      "\n"
     ]
    }
   ],
   "source": [
    "learn.fit_one_cycle(6, slice(5e-5/2, lr/2))"
   ]
  },
  {
   "cell_type": "code",
   "execution_count": 51,
   "metadata": {},
   "outputs": [
    {
     "data": {
      "image/png": "[encoded data removed]",
      "text/plain": [
       "<Figure size 432x288 with 1 Axes>"
      ]
     },
     "metadata": {
      "needs_background": "light"
     },
     "output_type": "display_data"
    }
   ],
   "source": [
    "learn.recorder.plot_losses()"
   ]
  },
  {
   "cell_type": "code",
   "execution_count": 52,
   "metadata": {},
   "outputs": [],
   "source": [
    "learn.save('planet-rn34-sz256-stg2-aggr-x-rsz64')"
   ]
  },
  {
   "cell_type": "code",
   "execution_count": 16,
   "metadata": {},
   "outputs": [
    {
     "data": {
      "text/plain": [
       "{'conventional_mine': 0,\n",
       " 'partly_cloudy': 1,\n",
       " 'haze': 2,\n",
       " 'water': 3,\n",
       " 'habitation': 4,\n",
       " 'bare_ground': 5,\n",
       " 'road': 6,\n",
       " 'cultivation': 7,\n",
       " 'selective_logging': 8,\n",
       " 'cloudy': 9,\n",
       " 'blooming': 10,\n",
       " 'agriculture': 11,\n",
       " 'blow_down': 12,\n",
       " 'primary': 13,\n",
       " 'clear': 14,\n",
       " 'artisinal_mine': 15,\n",
       " 'slash_burn': 16}"
      ]
     },
     "execution_count": 16,
     "metadata": {},
     "output_type": "execute_result"
    }
   ],
   "source": [
    "learn.load('planet-rn34-sz256-stg2-aggr-x-rsz64');\n",
    "learn.data.c2i"
   ]
  },
  {
   "cell_type": "markdown",
   "metadata": {},
   "source": [
    "## Predictions"
   ]
  },
  {
   "cell_type": "code",
   "execution_count": 7,
   "metadata": {},
   "outputs": [],
   "source": [
    "subm_df = pd.read_csv(path/'sample_submission_v2.csv')\n",
    "subdic = {c1:c2 for c1,c2 in zip(subm_df.image_name,subm_df.tags)}"
   ]
  },
  {
   "cell_type": "code",
   "execution_count": 8,
   "metadata": {},
   "outputs": [],
   "source": [
    "def set_test_datafolder(learner, test_folder):\n",
    "    learner.data = (src.add_test_folder(test_folder)\n",
    "                    .transform(tfms, size=256)\n",
    "                    .databunch().normalize(imagenet_stats))"
   ]
  },
  {
   "cell_type": "markdown",
   "metadata": {},
   "source": [
    "1st testset portion"
   ]
  },
  {
   "cell_type": "code",
   "execution_count": 9,
   "metadata": {},
   "outputs": [],
   "source": [
    "set_test_datafolder(learn, 'test-jpg')\n",
    "fnames = [f.name.split('.')[0] for f in learn.data.test_ds.x.items]"
   ]
  },
  {
   "cell_type": "code",
   "execution_count": 56,
   "metadata": {},
   "outputs": [
    {
     "name": "stdout",
     "output_type": "stream",
     "text": [
      "Total time: 12:14\n",
      "\n"
     ]
    }
   ],
   "source": [
    "preds1 = learn.TTA(ds_type=DatasetType.Test)"
   ]
  },
  {
   "cell_type": "markdown",
   "metadata": {},
   "source": [
    "2nd testset portion"
   ]
  },
  {
   "cell_type": "code",
   "execution_count": 10,
   "metadata": {},
   "outputs": [],
   "source": [
    "set_test_datafolder(learn, 'test-jpg-additional')\n",
    "fnames.extend([f.name.split('.')[0] for f in learn.data.test_ds.x.items])"
   ]
  },
  {
   "cell_type": "code",
   "execution_count": 58,
   "metadata": {},
   "outputs": [
    {
     "name": "stdout",
     "output_type": "stream",
     "text": [
      "Total time: 06:25\n",
      "\n"
     ]
    }
   ],
   "source": [
    "preds2 = learn.TTA(ds_type=DatasetType.Test)"
   ]
  },
  {
   "cell_type": "code",
   "execution_count": 59,
   "metadata": {},
   "outputs": [],
   "source": [
    "preds = (torch.cat((preds1[0],preds2[0])), torch.cat((preds1[1],preds2[1])))"
   ]
  },
  {
   "cell_type": "markdown",
   "metadata": {},
   "source": [
    "saving results to disk"
   ]
  },
  {
   "cell_type": "code",
   "execution_count": 11,
   "metadata": {},
   "outputs": [],
   "source": [
    "# torch.save(preds, f'planet-rn34-sz256-stg2-aggr-rsz64.pkl')\n",
    "preds = torch.load(f'planet-rn34-sz256-stg2-aggr-rsz64.pkl')"
   ]
  },
  {
   "cell_type": "code",
   "execution_count": 18,
   "metadata": {},
   "outputs": [],
   "source": [
    "# torch.save(preds, f'planet-rn34-sz256-stg2-aggr-x-rsz64.pkl')\n",
    "preds = torch.load(f'planet-rn34-sz256-stg2-aggr-x-rsz64.pkl')"
   ]
  },
  {
   "cell_type": "markdown",
   "metadata": {},
   "source": [
    "## Submissions"
   ]
  },
  {
   "cell_type": "code",
   "execution_count": null,
   "metadata": {},
   "outputs": [],
   "source": []
  },
  {
   "cell_type": "code",
   "execution_count": null,
   "metadata": {},
   "outputs": [],
   "source": []
  },
  {
   "cell_type": "code",
   "execution_count": null,
   "metadata": {},
   "outputs": [],
   "source": []
  },
  {
   "cell_type": "code",
   "execution_count": null,
   "metadata": {},
   "outputs": [],
   "source": []
  },
  {
   "cell_type": "code",
   "execution_count": 12,
   "metadata": {},
   "outputs": [],
   "source": [
    "import datetime\n",
    "date = str(datetime.date.today()).replace('-','')"
   ]
  },
  {
   "cell_type": "code",
   "execution_count": 7,
   "metadata": {},
   "outputs": [
    {
     "data": {
      "text/plain": [
       "{0: 'blow_down',\n",
       " 1: 'water',\n",
       " 2: 'haze',\n",
       " 3: 'blooming',\n",
       " 4: 'bare_ground',\n",
       " 5: 'slash_burn',\n",
       " 6: 'agriculture',\n",
       " 7: 'partly_cloudy',\n",
       " 8: 'road',\n",
       " 9: 'cultivation',\n",
       " 10: 'cloudy',\n",
       " 11: 'habitation',\n",
       " 12: 'conventional_mine',\n",
       " 13: 'primary',\n",
       " 14: 'clear',\n",
       " 15: 'artisinal_mine',\n",
       " 16: 'selective_logging'}"
      ]
     },
     "execution_count": 7,
     "metadata": {},
     "output_type": "execute_result"
    }
   ],
   "source": [
    "{v:k for k,v in learn.data.c2i.items()}"
   ]
  },
  {
   "cell_type": "code",
   "execution_count": 19,
   "metadata": {},
   "outputs": [],
   "source": [
    "idx2class = {v:k for k,v in learn.data.c2i.items()}"
   ]
  },
  {
   "cell_type": "code",
   "execution_count": 20,
   "metadata": {},
   "outputs": [
    {
     "data": {
      "text/plain": [
       "{0: 'cultivation',\n",
       " 1: 'selective_logging',\n",
       " 2: 'blooming',\n",
       " 3: 'clear',\n",
       " 4: 'haze',\n",
       " 5: 'conventional_mine',\n",
       " 6: 'bare_ground',\n",
       " 7: 'blow_down',\n",
       " 8: 'partly_cloudy',\n",
       " 9: 'road',\n",
       " 10: 'water',\n",
       " 11: 'agriculture',\n",
       " 12: 'cloudy',\n",
       " 13: 'artisinal_mine',\n",
       " 14: 'habitation',\n",
       " 15: 'slash_burn',\n",
       " 16: 'primary'}"
      ]
     },
     "execution_count": 20,
     "metadata": {},
     "output_type": "execute_result"
    }
   ],
   "source": [
    "idx2class"
   ]
  },
  {
   "cell_type": "code",
   "execution_count": 14,
   "metadata": {},
   "outputs": [],
   "source": [
    "th = 0.15\n",
    "\n",
    "for i,fn in enumerate(fnames):\n",
    "    subdic[fn] = ' '.join(idx2class[cdx] for cdx in np.where(preds[0][i]>=th)[0])\n",
    "    \n",
    "subm_col = [subdic[fn] for fn in subm_df.image_name]\n",
    "subm_df.tags = subm_col"
   ]
  },
  {
   "cell_type": "code",
   "execution_count": 15,
   "metadata": {},
   "outputs": [],
   "source": [
    "sub_msg = f\"fastai {__version__}; rn34 2-stg; aggr-rsz64; thresh:{th}; {date}\""
   ]
  },
  {
   "cell_type": "code",
   "execution_count": 16,
   "metadata": {},
   "outputs": [
    {
     "name": "stdout",
     "output_type": "stream",
     "text": [
      "100%|██████████████████████████████████████| 3.21M/3.21M [00:00<00:00, 3.96MB/s]\n",
      "Successfully submitted to Planet: Understanding the Amazon from Space"
     ]
    }
   ],
   "source": [
    "sub_name = f'planet-rn34-sz256-stg2-aggr-rsz64{date}_th{str(th).replace(\".\",\"\")}.csv'\n",
    "subm_df.to_csv(path/'submissions/'/sub_name, index=False, )\n",
    "! kaggle competitions submit -c planet-understanding-the-amazon-from-space -f {path}/submissions/{sub_name} -m \"{sub_msg}\""
   ]
  },
  {
   "cell_type": "markdown",
   "metadata": {},
   "source": [
    "## Results"
   ]
  },
  {
   "cell_type": "markdown",
   "metadata": {},
   "source": [
    "threshold | aggr-64 | aggrx64\n",
    "--------  | ------- | -------\n",
    "0.350     | ------- | -------\n",
    "0.300     | ------- | -------\n",
    "0.250     | ------- | -------\n",
    "0.200     | ------- | -------\n",
    "0.150     | 0.89321 | -------"
   ]
  },
  {
   "cell_type": "markdown",
   "metadata": {},
   "source": [
    "### previous results"
   ]
  },
  {
   "cell_type": "markdown",
   "metadata": {},
   "source": [
    "training for 1 6-length cycle for each stage with 2 sizes (20% val out):\n",
    "\n",
    "    thres    aggr1  -  aggr2  -  aggr2x\n",
    "    0.400 - ------- - 0.90992 - -------\n",
    "    0.350 - ------- - 0.91524 - 0.91519\n",
    "    0.300 - 0.91920 - 0.91341 - 0.91417\n",
    "    0.275 - ------- - ------- - -------\n",
    "    0.250 - 0.92314 - 0.88908 - 0.89742\n",
    "    0.225 - ------- - ------- - -------\n",
    "    0.200 - 0.92532 - 0.88367 - 0.88705\n",
    "    0.180 - 0.92532 - ------- - -------\n",
    "    0.150 - 0.92428 - ------- - -------"
   ]
  },
  {
   "cell_type": "markdown",
   "metadata": {},
   "source": [
    "All results @80% train:\n",
    "\n",
    "threshold| norm1   |  aggr1  |  aggr1x |  aggr2  |  aggr2x\n",
    " ------- | ------- | ------- | ------- | ------- | ------- \n",
    "   0.400 | ------- | ------- | ------- | 0.90992 | -------\n",
    "   0.350 | ------- | ------- | 0.91230 | 0.91524 | 0.91519\n",
    "   0.300 | 0.92206 | 0.91920 | 0.91757 | 0.91341 | 0.91417\n",
    "   0.250 | 0.92546 | 0.92314 | 0.92074 | 0.88908 | 0.89742\n",
    "   0.200 | 0.92601 | 0.92532 | 0.92278 | 0.88367 | 0.88705\n",
    "   0.180 | ------- | 0.92532 | ------- | ------- | -------\n",
    "   0.150 | 0.92329 | 0.92428 | 0.92210 | 0.92329 | ------- "
   ]
  },
  {
   "cell_type": "markdown",
   "metadata": {},
   "source": [
    "Results:\n",
    "\n",
    "threshold | normal-pvt-score | aggr-1-pvt-score\n",
    "-|-|-\n",
    "0.3|0.92206|0.91920\n",
    "0.25|0.92546|0.92314\n",
    "0.2|0.92601|0.92532\n",
    "0.15|0.92329|0.92428\n",
    "\n",
    "Final metrics:\n",
    "\n",
    "model|train_loss | valid_loss | accuracy_thresh | fbeta\n",
    "-|-|-|-|-\n",
    "norm-1|0.076459  |  0.080886  |  0.964379    |     0.929328\n",
    "aggr-1|0.086619  |  0.087704  |  0.961886    |     0.926379\n",
    "\n",
    "Training schedule:\n",
    "\n",
    "stage|norm-1 6len-cycle dlr|aggr-1 6len-cycle dlr\n",
    "-|-|-\n",
    "size128-1|0.01|0.01\n",
    "size128-2|1e-5, 1.414214e-4, 0.002|5.56e-4, 0.001667, 0.005 \n",
    "size256-1|0.005|0.01\n",
    "size256-2|1e-5, 4.472136e-5, 2e-4|1.11e-4, 3.33e-4, 0.001"
   ]
  },
  {
   "cell_type": "code",
   "execution_count": null,
   "metadata": {},
   "outputs": [],
   "source": [
    "learn.lr_range(slice(1e-5, 1e-2/5))"
   ]
  },
  {
   "cell_type": "markdown",
   "metadata": {},
   "source": [
    "################################################################################"
   ]
  },
  {
   "cell_type": "markdown",
   "metadata": {},
   "source": [
    "#### training schedule (text)"
   ]
  },
  {
   "cell_type": "markdown",
   "metadata": {},
   "source": [
    "---\n",
    "\n",
    "Model training schedules:\n",
    "norm-1:\n",
    "\n",
    "size128 stg1:\n",
    "\n",
    "    # 1 6-len cycle:\n",
    "    lr = 1e-2\n",
    "    learn.lr_range(slice(lr)) = array([0.003333, 0.003333, 0.01    ])\n",
    "    # frozen: only 0.01 for last layer-group used\n",
    "    \n",
    "size128 stg2:\n",
    "\n",
    "    # 1 6-len cycle:\n",
    "    learn.lr_range(slice(1e-5,lr/5)) = aarray([1.000000e-05, 1.414214e-04, 2.000000e-03])\n",
    "    \n",
    "size256 stg1:\n",
    "\n",
    "    # 1 6-len cycle:\n",
    "    lr = 5e-3\n",
    "    learn.lr_range(slice(lr)) = array([3.333333e-06, 3.333333e-06, 1.000000e-05])\n",
    "    # frozen: only 1e-5 for last layer-group used\n",
    "    \n",
    "size256 stg2:\n",
    "\n",
    "    # 1 6-len cycle:\n",
    "    lr = 1e-3\n",
    "    learn.lr_range(slice(1e-5, lr/5)) = array([1.000000e-05, 4.472136e-05, 2.000000e-04])\n",
    "    \n",
    "aggr-1:\n",
    "\n",
    "size128 stg1:\n",
    "\n",
    "    # 1 6-len cycle:\n",
    "    lr = 1e-2\n",
    "    learn.lr_range(slice(lr)) = array([0.003333, 0.003333, 0.01    ])\n",
    "    # frozen: only 0.01 for last layer-group used\n",
    "    \n",
    "size128 stg2:\n",
    "\n",
    "    # 1 6-len cycle:\n",
    "    learn.lr_range(slice(lr/2/9,lr/2)) = array([0.000556, 0.001667, 0.005   ])\n",
    "    \n",
    "size256 stg1:\n",
    "\n",
    "    # 1 6-len cycle:\n",
    "    lr = 1e-2\n",
    "    learn.lr_range(slice(lr)) = array([0.003333, 0.003333, 0.01    ])\n",
    "    # frozen: only 1e-5 for last layer-group used\n",
    "    \n",
    "size256 stg2:\n",
    "\n",
    "    # 1 6-len cycle:\n",
    "    lr = 1e-3\n",
    "    learn.lr_range(slice(lr/9, lr)) = array([0.000111, 0.000333, 0.001   ])\n",
    "    "
   ]
  },
  {
   "cell_type": "markdown",
   "metadata": {},
   "source": [
    "### discovering the class mappings problem:"
   ]
  },
  {
   "cell_type": "code",
   "execution_count": 7,
   "metadata": {},
   "outputs": [
    {
     "data": {
      "text/plain": [
       "{0: 'blow_down',\n",
       " 1: 'water',\n",
       " 2: 'haze',\n",
       " 3: 'blooming',\n",
       " 4: 'bare_ground',\n",
       " 5: 'slash_burn',\n",
       " 6: 'agriculture',\n",
       " 7: 'partly_cloudy',\n",
       " 8: 'road',\n",
       " 9: 'cultivation',\n",
       " 10: 'cloudy',\n",
       " 11: 'habitation',\n",
       " 12: 'conventional_mine',\n",
       " 13: 'primary',\n",
       " 14: 'clear',\n",
       " 15: 'artisinal_mine',\n",
       " 16: 'selective_logging'}"
      ]
     },
     "execution_count": 7,
     "metadata": {},
     "output_type": "execute_result"
    }
   ],
   "source": [
    "{v:k for k,v in learn.data.c2i.items()}"
   ]
  },
  {
   "cell_type": "code",
   "execution_count": 19,
   "metadata": {},
   "outputs": [],
   "source": [
    "idx2class = {v:k for k,v in learn.data.c2i.items()}"
   ]
  },
  {
   "cell_type": "code",
   "execution_count": 20,
   "metadata": {},
   "outputs": [
    {
     "data": {
      "text/plain": [
       "{0: 'cultivation',\n",
       " 1: 'selective_logging',\n",
       " 2: 'blooming',\n",
       " 3: 'clear',\n",
       " 4: 'haze',\n",
       " 5: 'conventional_mine',\n",
       " 6: 'bare_ground',\n",
       " 7: 'blow_down',\n",
       " 8: 'partly_cloudy',\n",
       " 9: 'road',\n",
       " 10: 'water',\n",
       " 11: 'agriculture',\n",
       " 12: 'cloudy',\n",
       " 13: 'artisinal_mine',\n",
       " 14: 'habitation',\n",
       " 15: 'slash_burn',\n",
       " 16: 'primary'}"
      ]
     },
     "execution_count": 20,
     "metadata": {},
     "output_type": "execute_result"
    }
   ],
   "source": [
    "idx2class"
   ]
  },
  {
   "cell_type": "markdown",
   "metadata": {},
   "source": [
    "### recreating the class mappings problem:"
   ]
  },
  {
   "cell_type": "code",
   "execution_count": 7,
   "metadata": {},
   "outputs": [
    {
     "data": {
      "text/plain": [
       "{'artisinal_mine': 0,\n",
       " 'slash_burn': 1,\n",
       " 'road': 2,\n",
       " 'haze': 3,\n",
       " 'cultivation': 4,\n",
       " 'blow_down': 5,\n",
       " 'conventional_mine': 6,\n",
       " 'water': 7,\n",
       " 'blooming': 8,\n",
       " 'clear': 9,\n",
       " 'primary': 10,\n",
       " 'agriculture': 11,\n",
       " 'cloudy': 12,\n",
       " 'partly_cloudy': 13,\n",
       " 'bare_ground': 14,\n",
       " 'habitation': 15,\n",
       " 'selective_logging': 16}"
      ]
     },
     "execution_count": 7,
     "metadata": {},
     "output_type": "execute_result"
    }
   ],
   "source": [
    "# initialize a fresh learner and data\n",
    "learn.data.c2i"
   ]
  },
  {
   "cell_type": "code",
   "execution_count": 9,
   "metadata": {},
   "outputs": [
    {
     "data": {
      "text/plain": [
       "{'artisinal_mine': 0,\n",
       " 'slash_burn': 1,\n",
       " 'road': 2,\n",
       " 'haze': 3,\n",
       " 'cultivation': 4,\n",
       " 'blow_down': 5,\n",
       " 'conventional_mine': 6,\n",
       " 'water': 7,\n",
       " 'blooming': 8,\n",
       " 'clear': 9,\n",
       " 'primary': 10,\n",
       " 'agriculture': 11,\n",
       " 'cloudy': 12,\n",
       " 'partly_cloudy': 13,\n",
       " 'bare_ground': 14,\n",
       " 'habitation': 15,\n",
       " 'selective_logging': 16}"
      ]
     },
     "execution_count": 9,
     "metadata": {},
     "output_type": "execute_result"
    }
   ],
   "source": [
    "# same kernel. load weights\n",
    "learn.load('planet-rn34-sz256-stg2-aggr-x-rsz64')\n",
    "learn.data.c2i"
   ]
  },
  {
   "cell_type": "code",
   "execution_count": 14,
   "metadata": {},
   "outputs": [
    {
     "data": {
      "text/plain": [
       "{'artisinal_mine': 0,\n",
       " 'slash_burn': 1,\n",
       " 'road': 2,\n",
       " 'haze': 3,\n",
       " 'cultivation': 4,\n",
       " 'blow_down': 5,\n",
       " 'conventional_mine': 6,\n",
       " 'water': 7,\n",
       " 'blooming': 8,\n",
       " 'clear': 9,\n",
       " 'primary': 10,\n",
       " 'agriculture': 11,\n",
       " 'cloudy': 12,\n",
       " 'partly_cloudy': 13,\n",
       " 'bare_ground': 14,\n",
       " 'habitation': 15,\n",
       " 'selective_logging': 16}"
      ]
     },
     "execution_count": 14,
     "metadata": {},
     "output_type": "execute_result"
    }
   ],
   "source": [
    "# adjust data size\n",
    "data = (src.transform(tfms, size=256)\n",
    "        .databunch().normalize(imagenet_stats))\n",
    "learn.data = data\n",
    "learn.data.c2i"
   ]
  },
  {
   "cell_type": "code",
   "execution_count": 17,
   "metadata": {},
   "outputs": [
    {
     "data": {
      "text/plain": [
       "{'artisinal_mine': 0,\n",
       " 'slash_burn': 1,\n",
       " 'road': 2,\n",
       " 'haze': 3,\n",
       " 'cultivation': 4,\n",
       " 'blow_down': 5,\n",
       " 'conventional_mine': 6,\n",
       " 'water': 7,\n",
       " 'blooming': 8,\n",
       " 'clear': 9,\n",
       " 'primary': 10,\n",
       " 'agriculture': 11,\n",
       " 'cloudy': 12,\n",
       " 'partly_cloudy': 13,\n",
       " 'bare_ground': 14,\n",
       " 'habitation': 15,\n",
       " 'selective_logging': 16}"
      ]
     },
     "execution_count": 17,
     "metadata": {},
     "output_type": "execute_result"
    }
   ],
   "source": [
    "# add a test set\n",
    "learn.data = (src.add_test_folder('test-jpg')\n",
    "                .transform(tfms, size=256)\n",
    "                .databunch().normalize(imagenet_stats))\n",
    "learn.data.c2i"
   ]
  },
  {
   "cell_type": "markdown",
   "metadata": {},
   "source": [
    "Loading weights from a previous model, changing data size / transforms, and adding test data *do not* change the class mapping of a learner: `learn.data.c2i`. This is despite it seeming to be the case to me when I discovered this problem (I may have just had a mappings dict printed from a previous session). Changing the random seed also has no effect."
   ]
  },
  {
   "cell_type": "code",
   "execution_count": 8,
   "metadata": {},
   "outputs": [
    {
     "data": {
      "text/plain": [
       "{'slash_burn': 0,\n",
       " 'partly_cloudy': 1,\n",
       " 'bare_ground': 2,\n",
       " 'primary': 3,\n",
       " 'selective_logging': 4,\n",
       " 'conventional_mine': 5,\n",
       " 'water': 6,\n",
       " 'agriculture': 7,\n",
       " 'road': 8,\n",
       " 'haze': 9,\n",
       " 'cloudy': 10,\n",
       " 'cultivation': 11,\n",
       " 'blooming': 12,\n",
       " 'blow_down': 13,\n",
       " 'clear': 14,\n",
       " 'habitation': 15,\n",
       " 'artisinal_mine': 16}"
      ]
     },
     "execution_count": 8,
     "metadata": {},
     "output_type": "execute_result"
    }
   ],
   "source": [
    "# restart kernel. fresh data and learner; same random seed.\n",
    "learn.data.c2i"
   ]
  },
  {
   "cell_type": "markdown",
   "metadata": {},
   "source": [
    "Restarting the kernel *does change the class mapping* of `learn.data.c2i`."
   ]
  },
  {
   "cell_type": "code",
   "execution_count": 15,
   "metadata": {},
   "outputs": [
    {
     "data": {
      "text/plain": [
       "{'slash_burn': 0,\n",
       " 'partly_cloudy': 1,\n",
       " 'bare_ground': 2,\n",
       " 'primary': 3,\n",
       " 'selective_logging': 4,\n",
       " 'conventional_mine': 5,\n",
       " 'water': 6,\n",
       " 'agriculture': 7,\n",
       " 'road': 8,\n",
       " 'haze': 9,\n",
       " 'cloudy': 10,\n",
       " 'cultivation': 11,\n",
       " 'blooming': 12,\n",
       " 'blow_down': 13,\n",
       " 'clear': 14,\n",
       " 'habitation': 15,\n",
       " 'artisinal_mine': 16}"
      ]
     },
     "execution_count": 15,
     "metadata": {},
     "output_type": "execute_result"
    }
   ],
   "source": [
    "# re-importing fastai library and then re-initializing data and learner:\n",
    "learn.data.c2i"
   ]
  },
  {
   "cell_type": "code",
   "execution_count": 19,
   "metadata": {},
   "outputs": [
    {
     "data": {
      "text/plain": [
       "355687428096000"
      ]
     },
     "execution_count": 19,
     "metadata": {},
     "output_type": "execute_result"
    }
   ],
   "source": [
    "np.math.factorial(17)"
   ]
  },
  {
   "cell_type": "code",
   "execution_count": 27,
   "metadata": {},
   "outputs": [],
   "source": [
    "params = list(learn.model.parameters())"
   ]
  },
  {
   "cell_type": "code",
   "execution_count": 32,
   "metadata": {},
   "outputs": [],
   "source": [
    "x = params[0]"
   ]
  },
  {
   "cell_type": "code",
   "execution_count": 34,
   "metadata": {},
   "outputs": [
    {
     "data": {
      "text/plain": [
       "torch.Size([9408])"
      ]
     },
     "execution_count": 34,
     "metadata": {},
     "output_type": "execute_result"
    }
   ],
   "source": [
    "x.flatten().shape"
   ]
  },
  {
   "cell_type": "code",
   "execution_count": 52,
   "metadata": {},
   "outputs": [
    {
     "data": {
      "text/plain": [
       "21821265"
      ]
     },
     "execution_count": 52,
     "metadata": {},
     "output_type": "execute_result"
    }
   ],
   "source": [
    "params = list(learn.model.parameters())\n",
    "total_parameters = [len(param.flatten()) for param in params]\n",
    "sum(total_parameters)"
   ]
  },
  {
   "cell_type": "code",
   "execution_count": null,
   "metadata": {},
   "outputs": [],
   "source": []
  },
  {
   "cell_type": "code",
   "execution_count": 28,
   "metadata": {},
   "outputs": [
    {
     "name": "stdout",
     "output_type": "stream",
     "text": [
      "64\n",
      "64\n",
      "64\n",
      "64\n",
      "64\n",
      "64\n",
      "64\n",
      "64\n",
      "64\n",
      "64\n",
      "64\n",
      "64\n",
      "64\n",
      "64\n",
      "64\n",
      "64\n",
      "64\n",
      "64\n",
      "64\n",
      "64\n",
      "64\n",
      "128\n",
      "128\n",
      "128\n",
      "128\n",
      "128\n",
      "128\n",
      "128\n",
      "128\n",
      "128\n",
      "128\n",
      "128\n",
      "128\n",
      "128\n",
      "128\n",
      "128\n",
      "128\n",
      "128\n",
      "128\n",
      "128\n",
      "128\n",
      "128\n",
      "128\n",
      "128\n",
      "128\n",
      "128\n",
      "128\n",
      "128\n",
      "256\n",
      "256\n",
      "256\n",
      "256\n",
      "256\n",
      "256\n",
      "256\n",
      "256\n",
      "256\n",
      "256\n",
      "256\n",
      "256\n",
      "256\n",
      "256\n",
      "256\n",
      "256\n",
      "256\n",
      "256\n",
      "256\n",
      "256\n",
      "256\n",
      "256\n",
      "256\n",
      "256\n",
      "256\n",
      "256\n",
      "256\n",
      "256\n",
      "256\n",
      "256\n",
      "256\n",
      "256\n",
      "256\n",
      "256\n",
      "256\n",
      "256\n",
      "256\n",
      "256\n",
      "256\n",
      "512\n",
      "512\n",
      "512\n",
      "512\n",
      "512\n",
      "512\n",
      "512\n",
      "512\n",
      "512\n",
      "512\n",
      "512\n",
      "512\n",
      "512\n",
      "512\n",
      "512\n",
      "512\n",
      "512\n",
      "512\n",
      "512\n",
      "512\n",
      "512\n",
      "1024\n",
      "1024\n",
      "512\n",
      "512\n",
      "512\n",
      "512\n",
      "17\n",
      "17\n"
     ]
    }
   ],
   "source": [
    "for p in params: print(len(p))b"
   ]
  },
  {
   "cell_type": "code",
   "execution_count": null,
   "metadata": {},
   "outputs": [],
   "source": []
  },
  {
   "cell_type": "code",
   "execution_count": null,
   "metadata": {},
   "outputs": [],
   "source": []
  },
  {
   "cell_type": "code",
   "execution_count": null,
   "metadata": {},
   "outputs": [],
   "source": []
  },
  {
   "cell_type": "code",
   "execution_count": 23,
   "metadata": {},
   "outputs": [
    {
     "data": {
      "text/plain": [
       "\u001b[0;31mSignature:\u001b[0m \u001b[0mlearn\u001b[0m\u001b[0;34m.\u001b[0m\u001b[0mmodel\u001b[0m\u001b[0;34m.\u001b[0m\u001b[0mparameters\u001b[0m\u001b[0;34m(\u001b[0m\u001b[0mrecurse\u001b[0m\u001b[0;34m=\u001b[0m\u001b[0;32mTrue\u001b[0m\u001b[0;34m)\u001b[0m\u001b[0;34m\u001b[0m\u001b[0m\n",
       "\u001b[0;31mDocstring:\u001b[0m\n",
       "Returns an iterator over module parameters.\n",
       "\n",
       "This is typically passed to an optimizer.\n",
       "\n",
       "Args:\n",
       "    recurse (bool): if True, then yields parameters of this module\n",
       "        and all submodules. Otherwise, yields only parameters that\n",
       "        are direct members of this module.\n",
       "\n",
       "Yields:\n",
       "    Parameter: module parameter\n",
       "\n",
       "Example::\n",
       "\n",
       "    >>> for param in model.parameters():\n",
       "    >>>     print(type(param.data), param.size())\n",
       "    <class 'torch.FloatTensor'> (20L,)\n",
       "    <class 'torch.FloatTensor'> (20L, 1L, 5L, 5L)\n",
       "\u001b[0;31mFile:\u001b[0m      /opt/anaconda3/lib/python3.6/site-packages/torch/nn/modules/module.py\n",
       "\u001b[0;31mType:\u001b[0m      method\n"
      ]
     },
     "metadata": {},
     "output_type": "display_data"
    }
   ],
   "source": [
    "?learn.model.parameters"
   ]
  },
  {
   "cell_type": "code",
   "execution_count": 22,
   "metadata": {},
   "outputs": [
    {
     "ename": "TypeError",
     "evalue": "object of type 'method' has no len()",
     "output_type": "error",
     "traceback": [
      "\u001b[0;31m---------------------------------------------------------------------------\u001b[0m",
      "\u001b[0;31mTypeError\u001b[0m                                 Traceback (most recent call last)",
      "\u001b[0;32m<ipython-input-22-d2837826727e>\u001b[0m in \u001b[0;36m<module>\u001b[0;34m\u001b[0m\n\u001b[0;32m----> 1\u001b[0;31m \u001b[0mlen\u001b[0m\u001b[0;34m(\u001b[0m\u001b[0mlearn\u001b[0m\u001b[0;34m.\u001b[0m\u001b[0mmodel\u001b[0m\u001b[0;34m.\u001b[0m\u001b[0mparameters\u001b[0m\u001b[0;34m)\u001b[0m\u001b[0;34m\u001b[0m\u001b[0m\n\u001b[0m",
      "\u001b[0;31mTypeError\u001b[0m: object of type 'method' has no len()"
     ]
    }
   ],
   "source": [
    "len(learn.model.parameters)"
   ]
  },
  {
   "cell_type": "markdown",
   "metadata": {},
   "source": [
    "## end"
   ]
  },
  {
   "cell_type": "code",
   "execution_count": null,
   "metadata": {},
   "outputs": [],
   "source": []
  }
 ],
 "metadata": {
  "kernelspec": {
   "display_name": "Python 3",
   "language": "python",
   "name": "python3"
  },
  "language_info": {
   "codemirror_mode": {
    "name": "ipython",
    "version": 3
   },
   "file_extension": ".py",
   "mimetype": "text/x-python",
   "name": "python",
   "nbconvert_exporter": "python",
   "pygments_lexer": "ipython3",
   "version": "3.6.5"
  }
 },
 "nbformat": 4,
 "nbformat_minor": 2
}
