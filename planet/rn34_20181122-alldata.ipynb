{
 "cells": [
  {
   "cell_type": "markdown",
   "metadata": {},
   "source": [
    "WNixalo | 20181123\n",
    "\n",
    "---"
   ]
  },
  {
   "cell_type": "markdown",
   "metadata": {},
   "source": [
    "This notebook is an attempt to breach a score of 0.93 on the private leaderboard using ResNet34."
   ]
  },
  {
   "cell_type": "code",
   "execution_count": 3,
   "metadata": {},
   "outputs": [
    {
     "data": {
      "text/plain": [
       "'1.0.28'"
      ]
     },
     "execution_count": 3,
     "metadata": {},
     "output_type": "execute_result"
    }
   ],
   "source": [
    "__version__ # fastai"
   ]
  },
  {
   "cell_type": "code",
   "execution_count": 1,
   "metadata": {},
   "outputs": [],
   "source": [
    "%reload_ext autoreload\n",
    "%autoreload 2\n",
    "%matplotlib inline"
   ]
  },
  {
   "cell_type": "code",
   "execution_count": 2,
   "metadata": {},
   "outputs": [],
   "source": [
    "from fastai import *\n",
    "from fastai.vision import *"
   ]
  },
  {
   "cell_type": "markdown",
   "metadata": {},
   "source": [
    "## Data"
   ]
  },
  {
   "cell_type": "code",
   "execution_count": 4,
   "metadata": {},
   "outputs": [],
   "source": [
    "path = Config.data_path()/'planet'\n",
    "path.mkdir(exist_ok=True); #path"
   ]
  },
  {
   "cell_type": "code",
   "execution_count": 5,
   "metadata": {},
   "outputs": [],
   "source": [
    "tfms = get_transforms(flip_vert=True, max_lighting=0.1, max_zoom=1.05, max_warp=0.)"
   ]
  },
  {
   "cell_type": "code",
   "execution_count": 6,
   "metadata": {},
   "outputs": [],
   "source": [
    "# np.random.seed(0)\n",
    "src = (ImageItemList.from_csv(path, 'train_v2.csv', folder='train-jpg', suffix='.jpg')\n",
    "       .random_split_by_pct(0.0001)\n",
    "       .label_from_df(sep=' '))\n",
    "data = (src.transform(tfms, size=128)\n",
    "       .databunch()\n",
    "       .normalize(imagenet_stats))"
   ]
  },
  {
   "cell_type": "code",
   "execution_count": 7,
   "metadata": {},
   "outputs": [],
   "source": [
    "arch = models.resnet34\n",
    "acc_025 = partial(accuracy_thresh, thresh=0.25)\n",
    "f_score = partial(fbeta, thresh=0.25)\n",
    "learn   = create_cnn(data, arch, metrics=[acc_025, f_score])"
   ]
  },
  {
   "cell_type": "markdown",
   "metadata": {},
   "source": [
    "## Training"
   ]
  },
  {
   "cell_type": "markdown",
   "metadata": {},
   "source": [
    "### size 128 stage 1"
   ]
  },
  {
   "cell_type": "code",
   "execution_count": 8,
   "metadata": {},
   "outputs": [],
   "source": [
    "# learn.lr_find(); learn.recorder.plot()"
   ]
  },
  {
   "cell_type": "code",
   "execution_count": 8,
   "metadata": {},
   "outputs": [],
   "source": [
    "lr = 1e-2"
   ]
  },
  {
   "cell_type": "code",
   "execution_count": 9,
   "metadata": {},
   "outputs": [
    {
     "name": "stdout",
     "output_type": "stream",
     "text": [
      "Total time: 10:07\n",
      "epoch  train_loss  valid_loss  accuracy_thresh  fbeta   \n",
      "1      0.118372    0.004901    1.000000         1.000000  (01:00)\n",
      "2      0.108183    0.001784    1.000000         1.000000  (01:00)\n",
      "3      0.108300    0.003552    1.000000         1.000000  (01:00)\n",
      "4      0.102324    0.002872    1.000000         1.000000  (01:00)\n",
      "5      0.101986    0.002763    1.000000         1.000000  (01:00)\n",
      "6      0.097974    0.001640    1.000000         1.000000  (01:00)\n",
      "7      0.093356    0.001292    1.000000         1.000000  (01:00)\n",
      "8      0.091281    0.001641    1.000000         1.000000  (01:00)\n",
      "9      0.089991    0.001758    1.000000         1.000000  (01:00)\n",
      "10     0.088749    0.002201    1.000000         1.000000  (01:00)\n",
      "\n"
     ]
    }
   ],
   "source": [
    "learn.fit_one_cycle(10, slice(lr)) # oh cool: fastai by default uses slice(None, 0.003, None) for max_lr"
   ]
  },
  {
   "cell_type": "code",
   "execution_count": 11,
   "metadata": {},
   "outputs": [],
   "source": [
    "# learn.lr_find(); learn.recorder.plot()"
   ]
  },
  {
   "cell_type": "code",
   "execution_count": 11,
   "metadata": {},
   "outputs": [],
   "source": [
    "# learn.fit_one_cycle(6, slice(lr/10)) "
   ]
  },
  {
   "cell_type": "code",
   "execution_count": 10,
   "metadata": {},
   "outputs": [],
   "source": [
    "learn.save('planet-rn34-sz128-stg1-cyclen10-all')"
   ]
  },
  {
   "cell_type": "markdown",
   "metadata": {},
   "source": [
    "### size 128 stage 2"
   ]
  },
  {
   "cell_type": "code",
   "execution_count": 22,
   "metadata": {},
   "outputs": [],
   "source": [
    "learn.unfreeze()\n",
    "# learn.lr_find(); learn.recorder.plot()"
   ]
  },
  {
   "cell_type": "code",
   "execution_count": 23,
   "metadata": {},
   "outputs": [
    {
     "name": "stdout",
     "output_type": "stream",
     "text": [
      "Total time: 15:05\n",
      "epoch  train_loss  valid_loss  accuracy_thresh  fbeta   \n",
      "1      0.089844    0.002748    1.000000         1.000000  (01:28)\n",
      "2      0.093764    0.001791    1.000000         1.000000  (01:30)\n",
      "3      0.092766    0.004137    1.000000         1.000000  (01:30)\n",
      "4      0.088647    0.004206    1.000000         1.000000  (01:30)\n",
      "5      0.086481    0.003484    1.000000         1.000000  (01:30)\n",
      "6      0.086954    0.001938    1.000000         1.000000  (01:30)\n",
      "7      0.083152    0.002265    1.000000         1.000000  (01:30)\n",
      "8      0.080485    0.002935    1.000000         1.000000  (01:30)\n",
      "9      0.080488    0.001985    1.000000         1.000000  (01:30)\n",
      "10     0.077615    0.002631    1.000000         1.000000  (01:30)\n",
      "\n"
     ]
    }
   ],
   "source": [
    "learn.fit_one_cycle(10, slice(1e-5, lr/5))"
   ]
  },
  {
   "cell_type": "code",
   "execution_count": 24,
   "metadata": {},
   "outputs": [
    {
     "data": {
      "image/png": "[encoded data removed]",
      "text/plain": [
       "<Figure size 432x288 with 1 Axes>"
      ]
     },
     "metadata": {
      "needs_background": "light"
     },
     "output_type": "display_data"
    }
   ],
   "source": [
    "learn.recorder.plot_losses()"
   ]
  },
  {
   "cell_type": "code",
   "execution_count": 25,
   "metadata": {},
   "outputs": [],
   "source": [
    "learn.save('planet-rn34-sz128-stg2-cyclen10-all')"
   ]
  },
  {
   "cell_type": "markdown",
   "metadata": {},
   "source": [
    "### size 256 stage 1"
   ]
  },
  {
   "cell_type": "code",
   "execution_count": 26,
   "metadata": {},
   "outputs": [],
   "source": [
    "data = (src.transform(tfms, size=256)\n",
    "        .databunch().normalize(imagenet_stats))\n",
    "learn.data = data"
   ]
  },
  {
   "cell_type": "code",
   "execution_count": 27,
   "metadata": {},
   "outputs": [],
   "source": [
    "learn.freeze()\n",
    "# learn.lr_find(); learn.recorder.plot()"
   ]
  },
  {
   "cell_type": "code",
   "execution_count": 28,
   "metadata": {},
   "outputs": [],
   "source": [
    "lr = 5e-3 # 1e-2/2"
   ]
  },
  {
   "cell_type": "code",
   "execution_count": 29,
   "metadata": {},
   "outputs": [
    {
     "name": "stdout",
     "output_type": "stream",
     "text": [
      "Total time: 33:41\n",
      "epoch  train_loss  valid_loss  accuracy_thresh  fbeta   \n",
      "1      0.086252    0.002070    1.000000         1.000000  (03:23)\n",
      "2      0.084398    0.001038    1.000000         1.000000  (03:21)\n",
      "3      0.086319    0.001850    1.000000         1.000000  (03:21)\n",
      "4      0.088424    0.003380    1.000000         1.000000  (03:22)\n",
      "5      0.084672    0.002116    1.000000         1.000000  (03:21)\n",
      "6      0.086573    0.002854    1.000000         1.000000  (03:22)\n",
      "7      0.081710    0.000990    1.000000         1.000000  (03:21)\n",
      "8      0.081583    0.001937    1.000000         1.000000  (03:22)\n",
      "9      0.079507    0.002083    1.000000         1.000000  (03:22)\n",
      "10     0.078538    0.002106    1.000000         1.000000  (03:22)\n",
      "\n"
     ]
    }
   ],
   "source": [
    "learn.fit_one_cycle(10, slice(lr))"
   ]
  },
  {
   "cell_type": "code",
   "execution_count": 30,
   "metadata": {},
   "outputs": [],
   "source": [
    "learn.save('planet-rn34-sz256-stg1-cyclen10-all')"
   ]
  },
  {
   "cell_type": "code",
   "execution_count": 31,
   "metadata": {},
   "outputs": [
    {
     "data": {
      "image/png": "[encoded data removed]",
      "text/plain": [
       "<Figure size 432x288 with 1 Axes>"
      ]
     },
     "metadata": {
      "needs_background": "light"
     },
     "output_type": "display_data"
    }
   ],
   "source": [
    "learn.recorder.plot_losses()"
   ]
  },
  {
   "cell_type": "markdown",
   "metadata": {},
   "source": [
    "### size 256 stage 2"
   ]
  },
  {
   "cell_type": "code",
   "execution_count": 32,
   "metadata": {},
   "outputs": [],
   "source": [
    "learn.unfreeze()\n",
    "# learn.lr_find(); learn.recorder.plot()"
   ]
  },
  {
   "cell_type": "code",
   "execution_count": 33,
   "metadata": {},
   "outputs": [],
   "source": [
    "lr = 1e-3"
   ]
  },
  {
   "cell_type": "code",
   "execution_count": 34,
   "metadata": {},
   "outputs": [
    {
     "name": "stdout",
     "output_type": "stream",
     "text": [
      "Total time: 49:39\n",
      "epoch  train_loss  valid_loss  accuracy_thresh  fbeta   \n",
      "1      0.079715    0.002106    1.000000         1.000000  (04:52)\n",
      "2      0.079075    0.000994    1.000000         1.000000  (04:58)\n",
      "3      0.080988    0.002322    1.000000         1.000000  (04:58)\n",
      "4      0.081726    0.001434    1.000000         1.000000  (04:58)\n",
      "5      0.080995    0.002119    1.000000         1.000000  (04:58)\n",
      "6      0.077168    0.001749    1.000000         1.000000  (04:58)\n",
      "7      0.076317    0.003150    1.000000         1.000000  (04:58)\n",
      "8      0.076902    0.002232    1.000000         1.000000  (04:58)\n",
      "9      0.074154    0.001783    1.000000         1.000000  (04:58)\n",
      "10     0.074020    0.001996    1.000000         1.000000  (04:58)\n",
      "\n"
     ]
    }
   ],
   "source": [
    "learn.fit_one_cycle(10, slice(1e-5, lr/5))"
   ]
  },
  {
   "cell_type": "code",
   "execution_count": 35,
   "metadata": {},
   "outputs": [],
   "source": [
    "learn.save('planet-rn34-sz256-stg2-cyclen10-all')"
   ]
  },
  {
   "cell_type": "code",
   "execution_count": 36,
   "metadata": {},
   "outputs": [
    {
     "data": {
      "image/png": "[encoded data removed]",
      "text/plain": [
       "<Figure size 432x288 with 1 Axes>"
      ]
     },
     "metadata": {
      "needs_background": "light"
     },
     "output_type": "display_data"
    }
   ],
   "source": [
    "learn.recorder.plot_losses()"
   ]
  },
  {
   "cell_type": "markdown",
   "metadata": {},
   "source": [
    "## Predictions"
   ]
  },
  {
   "cell_type": "code",
   "execution_count": 37,
   "metadata": {},
   "outputs": [],
   "source": [
    "# learn.load('planet-rn34-sz256-stg2-all');"
   ]
  },
  {
   "cell_type": "code",
   "execution_count": 38,
   "metadata": {},
   "outputs": [],
   "source": [
    "subm_df = pd.read_csv(path/'sample_submission_v2.csv')\n",
    "subdic = {c1:c2 for c1,c2 in zip(subm_df.image_name,subm_df.tags)}"
   ]
  },
  {
   "cell_type": "code",
   "execution_count": 39,
   "metadata": {},
   "outputs": [],
   "source": [
    "def set_test_datafolder(learner, test_folder):\n",
    "    learner.data = (src.add_test_folder(test_folder)\n",
    "                    .transform(tfms, size=256)\n",
    "                    .databunch().normalize(imagenet_stats))"
   ]
  },
  {
   "cell_type": "markdown",
   "metadata": {},
   "source": [
    "1st testset portion"
   ]
  },
  {
   "cell_type": "code",
   "execution_count": 40,
   "metadata": {},
   "outputs": [],
   "source": [
    "set_test_datafolder(learn, 'test-jpg')\n",
    "fnames = [f.name.split('.')[0] for f in learn.data.test_ds.x.items]"
   ]
  },
  {
   "cell_type": "code",
   "execution_count": 41,
   "metadata": {},
   "outputs": [
    {
     "name": "stdout",
     "output_type": "stream",
     "text": [
      "Total time: 12:10\n",
      "\n"
     ]
    }
   ],
   "source": [
    "preds1 = learn.TTA(ds_type=DatasetType.Test)"
   ]
  },
  {
   "cell_type": "markdown",
   "metadata": {},
   "source": [
    "2nd testset portion"
   ]
  },
  {
   "cell_type": "code",
   "execution_count": 42,
   "metadata": {},
   "outputs": [],
   "source": [
    "set_test_datafolder(learn, 'test-jpg-additional')\n",
    "fnames.extend([f.name.split('.')[0] for f in learn.data.test_ds.x.items])"
   ]
  },
  {
   "cell_type": "code",
   "execution_count": 43,
   "metadata": {},
   "outputs": [
    {
     "name": "stdout",
     "output_type": "stream",
     "text": [
      "Total time: 06:14\n",
      "\n"
     ]
    }
   ],
   "source": [
    "preds2 = learn.TTA(ds_type=DatasetType.Test)"
   ]
  },
  {
   "cell_type": "code",
   "execution_count": 44,
   "metadata": {},
   "outputs": [],
   "source": [
    "preds = (torch.cat((preds1[0],preds2[0])), torch.cat((preds1[1],preds2[1])))"
   ]
  },
  {
   "cell_type": "markdown",
   "metadata": {},
   "source": [
    "saving results to disk"
   ]
  },
  {
   "cell_type": "code",
   "execution_count": 45,
   "metadata": {},
   "outputs": [],
   "source": [
    "torch.save(preds, f'planet-rn34-sz256-stg2-cyclen10-all.pkl')"
   ]
  },
  {
   "cell_type": "code",
   "execution_count": 46,
   "metadata": {},
   "outputs": [],
   "source": [
    "# preds = torch.load(f'planet-rn34-sz256-stg2.pkl')"
   ]
  },
  {
   "cell_type": "markdown",
   "metadata": {},
   "source": [
    "## Submissions"
   ]
  },
  {
   "cell_type": "code",
   "execution_count": 47,
   "metadata": {},
   "outputs": [],
   "source": [
    "import datetime\n",
    "date = str(datetime.date.today()).replace('-','')"
   ]
  },
  {
   "cell_type": "code",
   "execution_count": 48,
   "metadata": {},
   "outputs": [],
   "source": [
    "idx2class = {v:k for k,v in learn.data.c2i.items()}"
   ]
  },
  {
   "cell_type": "code",
   "execution_count": 61,
   "metadata": {},
   "outputs": [],
   "source": [
    "th = 0.225\n",
    "\n",
    "for i,fn in enumerate(fnames):\n",
    "    subdic[fn] = ' '.join(idx2class[cdx] for cdx in np.where(preds[0][i]>=th)[0])\n",
    "    \n",
    "subm_col = [subdic[fn] for fn in subm_df.image_name]\n",
    "subm_df.tags = subm_col"
   ]
  },
  {
   "cell_type": "code",
   "execution_count": 62,
   "metadata": {},
   "outputs": [],
   "source": [
    "sub_msg = f\"fastai {__version__}; rn34 2-stg; cyclen10 all-data; thresh:{th}; {date}\""
   ]
  },
  {
   "cell_type": "code",
   "execution_count": 63,
   "metadata": {},
   "outputs": [
    {
     "name": "stdout",
     "output_type": "stream",
     "text": [
      "100%|██████████████████████████████████████| 2.16M/2.16M [00:01<00:00, 1.57MB/s]\n",
      "Successfully submitted to Planet: Understanding the Amazon from Space"
     ]
    }
   ],
   "source": [
    "sub_name = f'planet-rn34-sz256-stg2-alldata-cyclen10_{date}_th{str(th).replace(\".\",\"\")}.csv'\n",
    "subm_df.to_csv(path/'submissions/'/sub_name, index=False, )\n",
    "! kaggle competitions submit -c planet-understanding-the-amazon-from-space -f {path}/submissions/{sub_name} -m \"{sub_msg}\""
   ]
  },
  {
   "cell_type": "markdown",
   "metadata": {},
   "source": [
    "training for 1 6-length cycle for each stage with 2 sizes:\n",
    "\n",
    "    0.300 - 0.92455\n",
    "    0.275 - 0.92582\n",
    "    0.250 - 0.92638\n",
    "    0.225 - 0.92618\n",
    "    0.200 - 0.92527\n",
    "    \n",
    "training for 1 10-length cycle for each stage with 2 sizes:\n",
    "\n",
    "    0.300 - 0.92157\n",
    "    0.250 - 0.92452\n",
    "    0.225 - 0.92487\n",
    "    0.200 - 0.92479\n",
    "    0.150 - 0.92083\n",
    "    "
   ]
  },
  {
   "cell_type": "markdown",
   "metadata": {},
   "source": [
    "## end"
   ]
  },
  {
   "cell_type": "code",
   "execution_count": null,
   "metadata": {},
   "outputs": [],
   "source": []
  }
 ],
 "metadata": {
  "kernelspec": {
   "display_name": "Python 3",
   "language": "python",
   "name": "python3"
  },
  "language_info": {
   "codemirror_mode": {
    "name": "ipython",
    "version": 3
   },
   "file_extension": ".py",
   "mimetype": "text/x-python",
   "name": "python",
   "nbconvert_exporter": "python",
   "pygments_lexer": "ipython3",
   "version": "3.6.5"
  }
 },
 "nbformat": 4,
 "nbformat_minor": 2
}
