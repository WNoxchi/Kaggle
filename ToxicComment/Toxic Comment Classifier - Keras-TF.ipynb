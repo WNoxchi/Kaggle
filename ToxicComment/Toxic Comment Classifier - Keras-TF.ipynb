{
 "cells": [
  {
   "cell_type": "markdown",
   "metadata": {},
   "source": [
    "# Toxic Comment Classifier"
   ]
  },
  {
   "cell_type": "markdown",
   "metadata": {},
   "source": [
    "Below is a classifier for the Jigsaw [Toxic Comment Classification Challenge](https://www.kaggle.com/c/jigsaw-toxic-comment-classification-challenge) hosted by Kaggle, written in Keras/TF. This model leverages multiple insights from high-scoring Kaggle kernels, as well as exploratory work in PyTorch's Torchtext library.\n",
    "\n",
    "In this notebook I compare a simply bidirectional LSTM with a more complex bi-GRU-ConvNet. I also implement a simple linear model: a Naïve Bayes Support Vector Machine, and try out various combinations of ensembles.\n",
    "\n",
    "This notebook can be run linearly, although multiple runs may be desired to load and train different neural-net models: since Jupyter (as of yet) does not release GPU memory once it is allocated. There are points in the notebook where blocks of code are commented out: in most cases these are data preprocessing steps - meant to be run once - and the preprocessed data is saved to disk for quick access. In other cases these are options between loading GloVe or fastText word vector embeddings.\n",
    "\n",
    "The data used in this notebook must be downloaded before running. The data was obtained from the Jigsaw [Toxic Comment Classification Challenge](https://www.kaggle.com/c/jigsaw-toxic-comment-classification-challenge) Kaggle competition. Lastly, this notebook assumes the correct data directory structure is set up. You can simply recreate the structure in the Paths section below, or make your own changes. Viewing this notebook in Jupyter is recommended so you can use the collapsible headers for easy navigation (provided you have them, see: [Jupyter Extensions](https://github.com/ipython-contrib/jupyter_contrib_nbextensions)).\n",
    "\n",
    "**Final Note**: an ensemble of an NB-SVM, and LSTM and GRU with fastText embeddings achieved the highest AUC-ROC score of 0.9830 (98.3% true-positive classification rate).\n",
    "\n",
    "**See Aside 1** for terms.\n",
    "\n",
    "-- Wayne Nixalo 1/4/2018\n",
    "\n",
    "---"
   ]
  },
  {
   "cell_type": "markdown",
   "metadata": {
    "heading_collapsed": true
   },
   "source": [
    "## 1. Imports & Config"
   ]
  },
  {
   "cell_type": "markdown",
   "metadata": {
    "hidden": true
   },
   "source": [
    "Imports & Paths"
   ]
  },
  {
   "cell_type": "code",
   "execution_count": 2,
   "metadata": {
    "hidden": true
   },
   "outputs": [],
   "source": [
    "%matplotlib inline\n",
    "import matplotlib.pyplot as plt\n",
    "\n",
    "import pathlib\n",
    "import pandas as pd\n",
    "import numpy as np\n",
    "\n",
    "from keras.preprocessing.text import Tokenizer\n",
    "from keras.preprocessing.text import text_to_word_sequence\n",
    "from keras.preprocessing.sequence import pad_sequences\n",
    "from keras.layers import Embedding\n",
    "from keras.layers import SpatialDropout1D\n",
    "from keras.layers import Bidirectional\n",
    "from keras.layers import GRU\n",
    "from keras.layers import LSTM\n",
    "from keras.layers import Conv1D\n",
    "from keras.layers import GlobalAveragePooling1D\n",
    "from keras.layers import GlobalMaxPooling1D\n",
    "from keras.layers import concatenate\n",
    "from keras.layers import Dense\n",
    "from keras.layers import Input\n",
    "from keras.models import Model\n",
    "from keras.callbacks import EarlyStopping\n",
    "from keras.callbacks import ModelCheckpoint\n",
    "\n",
    "import pickle\n",
    "import bcolz\n",
    "import time\n",
    "import os\n",
    "\n",
    "from sklearn.linear_model import LogisticRegression\n",
    "from sklearn.feature_extraction.text import TfidfVectorizer"
   ]
  },
  {
   "cell_type": "code",
   "execution_count": 3,
   "metadata": {
    "hidden": true
   },
   "outputs": [
    {
     "name": "stdout",
     "output_type": "stream",
     "text": [
      "CPU times: user 0 ns, sys: 0 ns, total: 0 ns\n",
      "Wall time: 75.1 µs\n"
     ]
    }
   ],
   "source": [
    "%%time\n",
    "PATH_DATA = pathlib.Path('../../data')\n",
    "PATH_COMP = PATH_DATA/'competitions/jigsaw-toxic-comment-classification-challenge'\n",
    "TRAIN_FILE = 'train.csv'\n",
    "TEST_FILE  = 'test.csv'\n",
    "EMBEDDING_GLOVE    = PATH_DATA/'glove/glove.6B.50d.txt'\n",
    "EMBEDDING_FASTTEXT = PATH_DATA/'fasttext/crawl-300d-2M.vec'"
   ]
  },
  {
   "cell_type": "markdown",
   "metadata": {
    "hidden": true
   },
   "source": [
    "Basic Config Parameters"
   ]
  },
  {
   "cell_type": "code",
   "execution_count": 4,
   "metadata": {
    "hidden": true
   },
   "outputs": [
    {
     "name": "stdout",
     "output_type": "stream",
     "text": [
      "CPU times: user 0 ns, sys: 0 ns, total: 0 ns\n",
      "Wall time: 6.44 µs\n"
     ]
    }
   ],
   "source": [
    "%%time\n",
    "embed_sz = 50    # embedding vector length\n",
    "max_feat = 20000 # num unique words\n",
    "maxlen   = 100   # max length of sequence to read"
   ]
  },
  {
   "cell_type": "markdown",
   "metadata": {
    "hidden": true
   },
   "source": [
    "---"
   ]
  },
  {
   "cell_type": "markdown",
   "metadata": {},
   "source": [
    "## 2. Data Preprocessing & Embeddings"
   ]
  },
  {
   "cell_type": "markdown",
   "metadata": {},
   "source": [
    "**See: Aside 2**"
   ]
  },
  {
   "cell_type": "code",
   "execution_count": 5,
   "metadata": {},
   "outputs": [
    {
     "name": "stdout",
     "output_type": "stream",
     "text": [
      "CPU times: user 1.42 s, sys: 144 ms, total: 1.57 s\n",
      "Wall time: 1.57 s\n"
     ]
    }
   ],
   "source": [
    "%%time\n",
    "# read data & replace missing values\n",
    "train_df = pd.read_csv(PATH_COMP/TRAIN_FILE)\n",
    "test_df  = pd.read_csv(PATH_COMP/TEST_FILE)\n",
    "\n",
    "list_sentences_train = train_df[\"comment_text\"].fillna(\"_na_\").values\n",
    "list_sentences_test  = test_df[\"comment_text\"].fillna(\"_na_\").values\n",
    "\n",
    "list_classes = [\"toxic\", \"severe_toxic\", \"obscene\", \"threat\", \"insult\", \"identity_hate\"]\n",
    "labels = train_df[list_classes].values"
   ]
  },
  {
   "cell_type": "code",
   "execution_count": 6,
   "metadata": {},
   "outputs": [
    {
     "name": "stdout",
     "output_type": "stream",
     "text": [
      "CPU times: user 29.1 s, sys: 256 ms, total: 29.4 s\n",
      "Wall time: 29 s\n"
     ]
    }
   ],
   "source": [
    "%%time\n",
    "# tokenize, numericalize, and pad\n",
    "tokenizer = Tokenizer(num_words=max_feat, lower=True, oov_token='<unk>')\n",
    "tokenizer.fit_on_texts(list(list_sentences_train))\n",
    "\n",
    "list_tokenized_train = tokenizer.texts_to_sequences(list_sentences_train)\n",
    "list_tokenized_test  = tokenizer.texts_to_sequences(list_sentences_test)\n",
    "\n",
    "input_train = pad_sequences(list_tokenized_train, maxlen=maxlen)\n",
    "input_test  = pad_sequences(list_tokenized_test, maxlen=maxlen)"
   ]
  },
  {
   "cell_type": "markdown",
   "metadata": {},
   "source": [
    "Writing preprocessed data to disk **See: Aside 3**"
   ]
  },
  {
   "cell_type": "code",
   "execution_count": 7,
   "metadata": {},
   "outputs": [
    {
     "name": "stdout",
     "output_type": "stream",
     "text": [
      "CPU times: user 23.9 s, sys: 15.2 s, total: 39.1 s\n",
      "Wall time: 1min 1s\n"
     ]
    }
   ],
   "source": [
    "%%time\n",
    "PATH_BC = PATH_COMP/'tmp/bc'\n",
    "os.makedirs(PATH_BC, exist_ok=True)\n",
    "\n",
    "# WRITE\n",
    "bcolz.carray(list_tokenized_train, rootdir=PATH_BC/'list_tokenized_train', mode='w').flush()\n",
    "bcolz.carray(list_tokenized_test, rootdir=PATH_BC/'list_tokenized_test', mode='w').flush()\n",
    "bcolz.carray(input_train, rootdir=PATH_BC/'input_train', mode='w').flush()\n",
    "bcolz.carray(input_test,  rootdir=PATH_BC/'input_test',  mode='w').flush()\n",
    "\n",
    "# READ\n",
    "list_tokenized_train = np.asarray(bcolz.open(rootdir=PATH_BC/'list_tokenized_train'))\n",
    "list_tokenized_test  = np.asarray(bcolz.open(rootdir=PATH_BC/'list_tokenized_test'))\n",
    "input_train          = np.asarray(bcolz.open(rootdir=PATH_BC/'input_train'))\n",
    "input_test           = np.asarray(bcolz.open(rootdir=PATH_BC/'input_test'))"
   ]
  },
  {
   "cell_type": "markdown",
   "metadata": {},
   "source": [
    "Load pretrained word vectors (GloVe or fastText) into word->vector dictionary **See: Aside 4**"
   ]
  },
  {
   "cell_type": "code",
   "execution_count": 11,
   "metadata": {},
   "outputs": [
    {
     "name": "stdout",
     "output_type": "stream",
     "text": [
      "CPU times: user 8.11 s, sys: 836 ms, total: 8.95 s\n",
      "Wall time: 8.89 s\n"
     ]
    }
   ],
   "source": [
    "%%time\n",
    "# build word-vector lookup dictionary\n",
    "def get_coefficients(word, *arr):\n",
    "    \"\"\"return a word and an ndarray of its associated vector embedding\"\"\"\n",
    "    return word, np.asarray(arr, dtype='float32')\n",
    "\n",
    "# GloVe embeddings\n",
    "# embeddings_index = dict(get_coefficients(*o.strip().split()) for o in open(EMBEDDING_GLOVE))\n",
    "\n",
    "# fastText embeddings\n",
    "# embeddings_index = dict(get_coefficients(*o.strip().split()) for o in open(EMBEDDING_FASTTEXT))\n",
    "\n",
    "# fastText embeddings_index is very large - save/load to disk -  3 min -> 9 sec\n",
    "# pickle.dump(embeddings_index, open(PATH_COMP/'fasttext_embeddings_index.pickle', 'wb'))\n",
    "embeddings_index = pickle.load(open(PATH_COMP/'fasttext_embeddings_index.pickle', 'rb'))"
   ]
  },
  {
   "cell_type": "markdown",
   "metadata": {},
   "source": [
    "'fixing' fastText embeddings"
   ]
  },
  {
   "cell_type": "code",
   "execution_count": 14,
   "metadata": {},
   "outputs": [
    {
     "name": "stdout",
     "output_type": "stream",
     "text": [
      "CPU times: user 3.76 s, sys: 1.12 s, total: 4.88 s\n",
      "Wall time: 4.04 s\n"
     ]
    }
   ],
   "source": [
    "%%time\n",
    "# some fastText embeddings are 299D instead of 300D; breaking np.stack.\n",
    "# I fix this by concatenating the mean & stdev to the 'short' vectors\n",
    "\n",
    "# get Mean & StdDev of Embeddings Matrix\n",
    "fasttext_values = np.concatenate([vec for vec in embeddings_index.values()])\n",
    "emb_mean = fasttext_values.mean()\n",
    "emb_stdv = fasttext_values.std()\n",
    "\n",
    "# Find all short Word Vectors\n",
    "shortkeys = [key for key in iter(embeddings_index.keys()) \n",
    "                     if len(embeddings_index[key]) < 300]\n",
    "\n",
    "# in this case I know there are 5 keys off by 1\n",
    "rand_nums = np.random.normal(emb_mean, emb_stdv, len(shortkeys))\n",
    "\n",
    "# 'fix' short Word Vectors\n",
    "for i,key in enumerate(shortkeys):\n",
    "    embeddings_index[key] = np.concatenate((embeddings_index[key], np.array([rand_nums[i]])))"
   ]
  },
  {
   "cell_type": "code",
   "execution_count": 15,
   "metadata": {},
   "outputs": [],
   "source": [
    "# if you want to use embedding size of the pretrained vectors:\n",
    "embed_sz = len(embeddings_index[next(iter(embeddings_index.keys()))])"
   ]
  },
  {
   "cell_type": "markdown",
   "metadata": {},
   "source": [
    "Build Embedding Matrix. Randomly initialize out-of-vocab words to the mean & standard deviation of the embeddings."
   ]
  },
  {
   "cell_type": "code",
   "execution_count": 16,
   "metadata": {},
   "outputs": [
    {
     "name": "stdout",
     "output_type": "stream",
     "text": [
      "CPU times: user 7.67 s, sys: 2.45 s, total: 10.1 s\n",
      "Wall time: 8.44 s\n"
     ]
    }
   ],
   "source": [
    "%%time\n",
    "embeddings = np.stack(embeddings_index.values())\n",
    "emb_mean   = embeddings.mean()\n",
    "emb_stdv   = embeddings.std()"
   ]
  },
  {
   "cell_type": "code",
   "execution_count": 17,
   "metadata": {},
   "outputs": [
    {
     "name": "stdout",
     "output_type": "stream",
     "text": [
      "CPU times: user 316 ms, sys: 20 ms, total: 336 ms\n",
      "Wall time: 335 ms\n"
     ]
    }
   ],
   "source": [
    "%%time\n",
    "n_words = min(max_feat, tokenizer.num_words)\n",
    "embedding_matrix = np.random.normal(emb_mean, emb_stdv, (n_words, embed_sz))\n",
    "\n",
    "# build using the first `max_feat` most common words\n",
    "for word, i in tokenizer.word_index.items():\n",
    "    if i >= max_feat:\n",
    "        continue\n",
    "    embedding_vector = embeddings_index.get(word)\n",
    "    \n",
    "    if embedding_vector is not None:\n",
    "        embedding_matrix[i] = embedding_vector"
   ]
  },
  {
   "cell_type": "markdown",
   "metadata": {},
   "source": [
    "### NB-SVM"
   ]
  },
  {
   "cell_type": "markdown",
   "metadata": {},
   "source": [
    "Processing for the NB-SVM classifier **See: Aside 5**"
   ]
  },
  {
   "cell_type": "code",
   "execution_count": 18,
   "metadata": {},
   "outputs": [
    {
     "name": "stdout",
     "output_type": "stream",
     "text": [
      "CPU times: user 16 ms, sys: 0 ns, total: 16 ms\n",
      "Wall time: 14.9 ms\n"
     ]
    }
   ],
   "source": [
    "%%time\n",
    "# create 'None' label for unlabeled classes\n",
    "train_df[\"none\"] = 1 - train_df[list_classes].max(axis=1)"
   ]
  },
  {
   "cell_type": "markdown",
   "metadata": {},
   "source": [
    "Build Term-Document Matrix for NB-SVM, using TF-IDF to create priors:"
   ]
  },
  {
   "cell_type": "code",
   "execution_count": 19,
   "metadata": {},
   "outputs": [],
   "source": [
    "# to stay consistent, I wanted to use the same tokenizer.\n",
    "# adapted from the Keras source code: https://github.com/keras-team/keras/blob/master/keras/preprocessing/text.py#L290:23\n",
    "def keras_tokenizer(s):\n",
    "    seq = text_to_word_sequence(s, tokenizer.filters, tokenizer.lower, tokenizer.split)\n",
    "    return seq"
   ]
  },
  {
   "cell_type": "code",
   "execution_count": 20,
   "metadata": {},
   "outputs": [
    {
     "name": "stdout",
     "output_type": "stream",
     "text": [
      "CPU times: user 1min 2s, sys: 688 ms, total: 1min 3s\n",
      "Wall time: 1min 2s\n"
     ]
    }
   ],
   "source": [
    "%%time\n",
    "# quick hack to get Keras' vocab into Sklearn. (Keras 1-index; Sklearn 0-index)\n",
    "nbsvm_vocab  = {key:tokenizer.word_index[key] - 1 for key in tokenizer.word_index.keys()}\n",
    "\n",
    "# using Keras vocab\n",
    "# tfidf_vectorizer = TfidfVectorizer(\n",
    "#     ngram_range=(1,4), tokenizer=keras_tokenizer, vocabulary=nbsvm_vocab, \n",
    "#     strip_accents='unicode', use_idf=1, smooth_idf=1, sublinear_tf=1\n",
    "# )\n",
    "\n",
    "# building new vocab\n",
    "tfidf_vectorizer = TfidfVectorizer(\n",
    "    ngram_range=(1,2), tokenizer=keras_tokenizer, min_df=3, max_df=0.9,\n",
    "    strip_accents='unicode', use_idf=1, smooth_idf=1, sublinear_tf=1\n",
    ")\n",
    "\n",
    "train_term_doc = tfidf_vectorizer.fit_transform(train_df[\"comment_text\"])\n",
    "test_term_doc  = tfidf_vectorizer.transform(test_df[\"comment_text\"])"
   ]
  },
  {
   "cell_type": "markdown",
   "metadata": {},
   "source": [
    "---"
   ]
  },
  {
   "cell_type": "markdown",
   "metadata": {},
   "source": [
    "## 3. Architecture Design"
   ]
  },
  {
   "cell_type": "code",
   "execution_count": 21,
   "metadata": {},
   "outputs": [],
   "source": [
    "# naive bayes feature equation\n",
    "def pr(x, y_i, y):\n",
    "    p = x[y==y_i].sum(0)\n",
    "    return (p+1) / ((y==y_i).sum() + 1)\n",
    "\n",
    "# fit model for one dependent-variable at a time\n",
    "def get_mdl(x,y):\n",
    "    y = y.values\n",
    "    r = np.log(pr(x, 1, y) / pr(x, 0, y))\n",
    "    m = LogisticRegression(C=4, dual=True)\n",
    "    x_nb = x.multiply(r)\n",
    "    return m.fit(x_nb, y), r"
   ]
  },
  {
   "cell_type": "code",
   "execution_count": 22,
   "metadata": {},
   "outputs": [],
   "source": [
    "def BiLSTM():\n",
    "    m_input = Input(shape=(maxlen,))\n",
    "    x = Embedding(max_feat, embed_sz, weights=[embedding_matrix])(m_input)\n",
    "    x = Bidirectional(LSTM(50, return_sequences=True, dropout=0.1, recurrent_dropout=0.1))(x)\n",
    "    x = GlobalMaxPool1D()(x)\n",
    "    x = Dense(50, activation=\"relu\")(x)\n",
    "    x = Dropout(0.1)(x)\n",
    "    x = Dense(len(list_classes), activation=\"sigmoid\")(x)\n",
    "    \n",
    "    return keras.models.Model(inputs=m_input, outputs=x)"
   ]
  },
  {
   "cell_type": "code",
   "execution_count": 23,
   "metadata": {},
   "outputs": [],
   "source": [
    "def BiGRU_ConvNet():\n",
    "    m_input = Input(shape=(maxlen,))\n",
    "    x = Embedding(max_feat, embed_sz, weights=[embedding_matrix], trainable=False)(m_input)\n",
    "    x = SpatialDropout1D(0.2)(x)\n",
    "    x = Bidirectional(GRU(128, return_sequences=True,dropout=0.1, recurrent_dropout=0.1))(x)\n",
    "    x = Conv1D(64, kernel_size=3)(x)\n",
    "    x = concatenate([\n",
    "            GlobalAveragePooling1D()(x), \n",
    "            GlobalMaxPooling1D()(x)\n",
    "        ])\n",
    "    x = Dense(len(list_classes), activation=\"sigmoid\")(x)\n",
    "    \n",
    "    return Model(inputs=m_input, outputs=x)"
   ]
  },
  {
   "cell_type": "markdown",
   "metadata": {},
   "source": [
    "### 3.1 Model Checkpoints"
   ]
  },
  {
   "cell_type": "code",
   "execution_count": 24,
   "metadata": {},
   "outputs": [],
   "source": [
    "PATH_CHECKPOINT = PATH_COMP/'checkpoints/'\n",
    "os.makedirs(PATH_CHECKPOINT, exist_ok=True)\n",
    "\n",
    "# GloVe run\n",
    "# fpath_LSTM = PATH_CHECKPOINT/'lstm_glove_best.hdf5'\n",
    "# fpath_GRU  = PATH_CHECKPOINT/'gru_glove_best.hdf5'\n",
    "\n",
    "# fastText run\n",
    "fpath_LSTM = PATH_CHECKPOINT/'lstm_fasttext_best.hdf5'\n",
    "fpath_GRU  = PATH_CHECKPOINT/'gru_fasttext_best.hdf5'"
   ]
  },
  {
   "cell_type": "code",
   "execution_count": 25,
   "metadata": {},
   "outputs": [],
   "source": [
    "def create_checkpoint(fpath):\n",
    "    return ModelCheckpoint(f'{str(fpath)}', monitor='val_acc', \n",
    "                           verbose=1, save_best_only=True, mode='max')"
   ]
  },
  {
   "cell_type": "markdown",
   "metadata": {},
   "source": [
    "---"
   ]
  },
  {
   "cell_type": "markdown",
   "metadata": {
    "heading_collapsed": true
   },
   "source": [
    "## 4. Training"
   ]
  },
  {
   "cell_type": "markdown",
   "metadata": {
    "hidden": true
   },
   "source": [
    "### 4.1 NB-SVM"
   ]
  },
  {
   "cell_type": "code",
   "execution_count": 75,
   "metadata": {
    "hidden": true
   },
   "outputs": [
    {
     "name": "stdout",
     "output_type": "stream",
     "text": [
      "fit toxic\n",
      "fit severe_toxic\n",
      "fit obscene\n",
      "fit threat\n",
      "fit insult\n",
      "fit identity_hate\n"
     ]
    }
   ],
   "source": [
    "NBSVM_predictions = np.zeros((len(test_df), len(list_classes)))\n",
    "\n",
    "# fit-loop\n",
    "for i, clss in enumerate(list_classes):\n",
    "    print('fit', clss)\n",
    "    m, r = get_mdl(train_term_doc, train_df[clss])\n",
    "    NBSVM_predictions[:,i] = m.predict_proba(test_term_doc.multiply(r))[:,1]"
   ]
  },
  {
   "cell_type": "markdown",
   "metadata": {
    "hidden": true
   },
   "source": [
    "### 4.2 LSTM"
   ]
  },
  {
   "cell_type": "code",
   "execution_count": 137,
   "metadata": {
    "hidden": true
   },
   "outputs": [],
   "source": [
    "model = BiLSTM()\n",
    "model.compile(optimizer=\"adam\", loss=\"binary_crossentropy\", metrics=[\"accuracy\"])\n",
    "checkpoint = [create_checkpoint(fpath_LSTM)]"
   ]
  },
  {
   "cell_type": "code",
   "execution_count": 138,
   "metadata": {
    "hidden": true
   },
   "outputs": [
    {
     "name": "stdout",
     "output_type": "stream",
     "text": [
      "Train on 143613 samples, validate on 15958 samples\n",
      "Epoch 1/2\n",
      "143552/143613 [============================>.] - ETA: 0s - loss: 0.0596 - acc: 0.9795\n",
      "Epoch 00001: val_acc improved from -inf to 0.98269, saving model to ../../data/competitions/jigsaw-toxic-comment-classification-challenge/checkpoints/lstm_fasttext_best.hdf5\n",
      "143613/143613 [==============================] - 800s 6ms/step - loss: 0.0595 - acc: 0.9795 - val_loss: 0.0459 - val_acc: 0.9827\n",
      "Epoch 2/2\n",
      "143552/143613 [============================>.] - ETA: 0s - loss: 0.0415 - acc: 0.9841\n",
      "Epoch 00002: val_acc did not improve\n",
      "143613/143613 [==============================] - 799s 6ms/step - loss: 0.0415 - acc: 0.9841 - val_loss: 0.0469 - val_acc: 0.9826\n"
     ]
    },
    {
     "data": {
      "text/plain": [
       "<keras.callbacks.History at 0x7f5aeabd9358>"
      ]
     },
     "execution_count": 138,
     "metadata": {},
     "output_type": "execute_result"
    }
   ],
   "source": [
    "model.fit(input_train, labels, batch_size=64, epochs=2, \n",
    "          validation_split=0.1, callbacks=checkpoint)"
   ]
  },
  {
   "cell_type": "code",
   "execution_count": 15,
   "metadata": {
    "hidden": true
   },
   "outputs": [],
   "source": [
    "model = BiLSTM()\n",
    "model.compile(optimizer=\"adam\", loss=\"binary_crossentropy\", metrics=[\"accuracy\"])"
   ]
  },
  {
   "cell_type": "code",
   "execution_count": 16,
   "metadata": {
    "hidden": true
   },
   "outputs": [
    {
     "name": "stdout",
     "output_type": "stream",
     "text": [
      "Epoch 1/2\n",
      "159571/159571 [==============================] - 876s 5ms/step - loss: 0.0575 - acc: 0.9799\n",
      "Epoch 2/2\n",
      "159571/159571 [==============================] - 864s 5ms/step - loss: 0.0410 - acc: 0.9842\n"
     ]
    }
   ],
   "source": [
    "# final training run uses full dataset\n",
    "model.fit(input_train, labels, batch_size=64, epochs=2)\n",
    "model.save(fpath_LSTM)"
   ]
  },
  {
   "cell_type": "markdown",
   "metadata": {
    "hidden": true
   },
   "source": [
    "### 4.3 GRU+Conv"
   ]
  },
  {
   "cell_type": "code",
   "execution_count": 17,
   "metadata": {
    "hidden": true
   },
   "outputs": [
    {
     "name": "stdout",
     "output_type": "stream",
     "text": [
      "WARNING:tensorflow:From /home/ubuntu/src/anaconda3/envs/aersu/lib/python3.6/site-packages/tensorflow/python/util/deprecation.py:497: calling conv1d (from tensorflow.python.ops.nn_ops) with data_format=NHWC is deprecated and will be removed in a future version.\n",
      "Instructions for updating:\n",
      "`NHWC` for data_format is deprecated, use `NWC` instead\n"
     ]
    }
   ],
   "source": [
    "model = BiGRU_ConvNet()\n",
    "model.compile(optimizer=\"adam\", loss='binary_crossentropy',metrics=['accuracy'])\n",
    "checkpoint = [create_checkpoint(fpath_GRU)]"
   ]
  },
  {
   "cell_type": "code",
   "execution_count": 18,
   "metadata": {
    "hidden": true
   },
   "outputs": [
    {
     "name": "stdout",
     "output_type": "stream",
     "text": [
      "Train on 143613 samples, validate on 15958 samples\n",
      "Epoch 1/2\n",
      "143552/143613 [============================>.] - ETA: 0s - loss: 0.0570 - acc: 0.9798\n",
      "Epoch 00001: val_acc improved from -inf to 0.98171, saving model to ../../data/competitions/jigsaw-toxic-comment-classification-challenge/checkpoints/gru_fasttext_best.hdf5\n",
      "143613/143613 [==============================] - 584s 4ms/step - loss: 0.0570 - acc: 0.9798 - val_loss: 0.0489 - val_acc: 0.9817\n",
      "Epoch 2/2\n",
      "143552/143613 [============================>.] - ETA: 0s - loss: 0.0462 - acc: 0.9828\n",
      "Epoch 00002: val_acc improved from 0.98171 to 0.98288, saving model to ../../data/competitions/jigsaw-toxic-comment-classification-challenge/checkpoints/gru_fasttext_best.hdf5\n",
      "143613/143613 [==============================] - 574s 4ms/step - loss: 0.0462 - acc: 0.9828 - val_loss: 0.0457 - val_acc: 0.9829\n"
     ]
    },
    {
     "data": {
      "text/plain": [
       "<keras.callbacks.History at 0x7f88df9504e0>"
      ]
     },
     "execution_count": 18,
     "metadata": {},
     "output_type": "execute_result"
    }
   ],
   "source": [
    "model.fit(input_train, labels, batch_size=64, epochs=2, \n",
    "          validation_split=0.1, callbacks=checkpoint)"
   ]
  },
  {
   "cell_type": "code",
   "execution_count": 19,
   "metadata": {
    "hidden": true
   },
   "outputs": [],
   "source": [
    "model = BiGRU_ConvNet()\n",
    "model.compile(optimizer=\"adam\", loss='binary_crossentropy',metrics=['accuracy'])"
   ]
  },
  {
   "cell_type": "code",
   "execution_count": 20,
   "metadata": {
    "hidden": true
   },
   "outputs": [
    {
     "name": "stdout",
     "output_type": "stream",
     "text": [
      "Epoch 1/2\n",
      "159571/159571 [==============================] - 619s 4ms/step - loss: 0.0561 - acc: 0.9803\n",
      "Epoch 2/2\n",
      "159571/159571 [==============================] - 612s 4ms/step - loss: 0.0462 - acc: 0.9829\n"
     ]
    }
   ],
   "source": [
    "# final training run uses full dataset\n",
    "model.fit(input_train, labels, batch_size=64, epochs=2)\n",
    "model.save(fpath_GRU)"
   ]
  },
  {
   "cell_type": "markdown",
   "metadata": {},
   "source": [
    "## 5. Predictions"
   ]
  },
  {
   "cell_type": "markdown",
   "metadata": {},
   "source": [
    "Scores are from Kaggle: Private-score / Public-score.\n",
    "\n",
    "Public-score uses a subset of test data, Private-score uses the full test dataset."
   ]
  },
  {
   "cell_type": "markdown",
   "metadata": {},
   "source": [
    "### 5.1 NB-SVM"
   ]
  },
  {
   "cell_type": "code",
   "execution_count": 76,
   "metadata": {},
   "outputs": [],
   "source": [
    "nbsvm_submission = pd.read_csv(PATH_COMP/'sample_submission.csv')\n",
    "for i,col in enumerate(list_classes):\n",
    "    nbsvm_submission[col] = NBSVM_predictions[:,i]\n",
    "    \n",
    "# select appropriate\n",
    "# nbsvm_submission.to_csv(PATH_COMP/'nbsvm_submission_keras_vocab.csv', index=False)\n",
    "nbsvm_submission.to_csv(PATH_COMP/'nbsvm_submission.csv', index=False)"
   ]
  },
  {
   "cell_type": "markdown",
   "metadata": {},
   "source": [
    "NBSVM with Keras vocab & tokenizer, 1-4 ngrams:\n",
    "- 0.9744 / 0.9747\n",
    "\n",
    "NBSVM with Keras tokenizer, 1-2 ngrams:\n",
    "- 0.9770 / 0.9762"
   ]
  },
  {
   "cell_type": "markdown",
   "metadata": {},
   "source": [
    "### 5.2 LSTM"
   ]
  },
  {
   "cell_type": "code",
   "execution_count": 16,
   "metadata": {},
   "outputs": [],
   "source": [
    "model = BiLSTM()\n",
    "model.compile(optimizer=\"adam\", loss=\"binary_crossentropy\", metrics=[\"accuracy\"])\n",
    "model.load_weights(fpath_LSTM)"
   ]
  },
  {
   "cell_type": "code",
   "execution_count": 17,
   "metadata": {},
   "outputs": [
    {
     "name": "stdout",
     "output_type": "stream",
     "text": [
      "153164/153164 [==============================] - 24s 157us/step\n"
     ]
    }
   ],
   "source": [
    "LSTM_predictions = model.predict(input_test, batch_size=1024, verbose=1)"
   ]
  },
  {
   "cell_type": "code",
   "execution_count": 18,
   "metadata": {},
   "outputs": [],
   "source": [
    "LSTM_submissions = pd.read_csv(PATH_COMP/'sample_submission.csv')\n",
    "LSTM_submissions[list_classes] = LSTM_predictions\n",
    "LSTM_submissions.to_csv(PATH_COMP/'LSTM_fasttext_submission_final.csv', index=False)"
   ]
  },
  {
   "cell_type": "markdown",
   "metadata": {},
   "source": [
    "Bidirectional LSTM with GloVe 6B 50D Embeddings:\n",
    "- 0.9755 / 0.9763\n",
    "\n",
    "Bidirectional LSTM with fastText 2M 300D Embeddings:\n",
    "\n",
    "- 0.9799 / 0.9791"
   ]
  },
  {
   "cell_type": "markdown",
   "metadata": {},
   "source": [
    "### 5.3 GRU+Conv"
   ]
  },
  {
   "cell_type": "code",
   "execution_count": 15,
   "metadata": {},
   "outputs": [
    {
     "name": "stdout",
     "output_type": "stream",
     "text": [
      "WARNING:tensorflow:From /home/ubuntu/src/anaconda3/envs/aersu/lib/python3.6/site-packages/tensorflow/python/util/deprecation.py:497: calling conv1d (from tensorflow.python.ops.nn_ops) with data_format=NHWC is deprecated and will be removed in a future version.\n",
      "Instructions for updating:\n",
      "`NHWC` for data_format is deprecated, use `NWC` instead\n"
     ]
    }
   ],
   "source": [
    "model = BiGRU_ConvNet()\n",
    "model.compile(optimizer=\"adam\", loss=\"binary_crossentropy\", metrics=[\"accuracy\"])\n",
    "model.load_weights(fpath_GRU)"
   ]
  },
  {
   "cell_type": "code",
   "execution_count": 16,
   "metadata": {},
   "outputs": [
    {
     "name": "stdout",
     "output_type": "stream",
     "text": [
      "153164/153164 [==============================] - 28s 183us/step\n"
     ]
    }
   ],
   "source": [
    "GRUConv_predictions = model.predict(input_test, batch_size=1024, verbose=1)"
   ]
  },
  {
   "cell_type": "code",
   "execution_count": 17,
   "metadata": {},
   "outputs": [],
   "source": [
    "GRUConv_submissions = pd.read_csv(PATH_COMP/'sample_submission.csv')\n",
    "GRUConv_submissions[list_classes] = GRUConv_predictions\n",
    "GRUConv_submissions.to_csv(PATH_COMP/'GRUConv_fasttext_submission_final.csv', index=False)"
   ]
  },
  {
   "cell_type": "markdown",
   "metadata": {},
   "source": [
    "Bidirectional GRU+ConvNet1D with GloVe 6B 50D Embeddings: \n",
    "- 0.9724 / 0.9719\n",
    "\n",
    "Bidirectional GRU+ConvNet1D with fastText 2M 300D Embeddings: \n",
    "- 0.9809 / 0.9791"
   ]
  },
  {
   "cell_type": "markdown",
   "metadata": {},
   "source": [
    "### 5.4 Ensembles"
   ]
  },
  {
   "cell_type": "markdown",
   "metadata": {},
   "source": [
    "Ensembling is theoretically best when the models used are as different as possible from one another. This suggests that accuracy increases from ensembling the two RNNs should be slight if any, but should be significant with the NB-SVM and any of the RNNs. I'll ensemble RNN predictions that used fastText only, since they scored higher, and in the interest of time. I'll also use the NB-SVM without Keras-generated vocabulary, as that scored higher than it's counterpart. For curiosity one final ensemble of every model trained in this notebook will be run."
   ]
  },
  {
   "cell_type": "code",
   "execution_count": 26,
   "metadata": {},
   "outputs": [],
   "source": [
    "file_lstm_glove  = 'LSTM_glove_submission_final.csv'\n",
    "file_gru_glove   = 'GRUConv_glove_submission_final.csv'\n",
    "\n",
    "file_lstm_fasttext  = 'LSTM_fasttext_submission_final.csv'\n",
    "file_gru_fasttext   = 'GRUConv_fasttext_submission_final.csv'\n",
    "\n",
    "file_nbsvm_keras_vocab = 'nbsvm_submission_keras_vocab.csv'\n",
    "file_nbsvm = 'nbsvm_submission.csv'"
   ]
  },
  {
   "cell_type": "code",
   "execution_count": 27,
   "metadata": {},
   "outputs": [],
   "source": [
    "def ensemble(filenames, classes):\n",
    "    \n",
    "    # ensure filenames are in a list\n",
    "    if type(filenames) != list:\n",
    "        filenames = [filenames]\n",
    "    n = len(filenames)\n",
    "    \n",
    "    # load submission format & zero\n",
    "    ensemble_predictions = pd.read_csv(PATH_COMP/'sample_submission.csv')\n",
    "    ensemble_predictions[classes] = 0.0\n",
    "    \n",
    "    # record averages\n",
    "    for filename in filenames:\n",
    "        predictions = pd.read_csv(PATH_COMP/filename)\n",
    "        ensemble_predictions[classes] += predictions[classes]\n",
    "    ensemble_predictions[classes] /= n\n",
    "    \n",
    "    del predictions\n",
    "    \n",
    "    return ensemble_predictions"
   ]
  },
  {
   "cell_type": "markdown",
   "metadata": {},
   "source": [
    "#### 5.4.0 Baselines:"
   ]
  },
  {
   "cell_type": "markdown",
   "metadata": {},
   "source": [
    "NBSVM with Keras vocab & tokenizer, 1-4 ngrams:\n",
    "- 0.9744 / 0.9747\n",
    "\n",
    "NBSVM with Keras tokenizer, 1-2 ngrams:\n",
    "- 0.9770 / 0.9762"
   ]
  },
  {
   "cell_type": "markdown",
   "metadata": {},
   "source": [
    "Bidirectional LSTM with GloVe 6B 50D Embeddings:\n",
    "- 0.9755 / 0.9763\n",
    "\n",
    "Bidirectional LSTM with fastText 2M 300D Embeddings:\n",
    "\n",
    "- 0.9799 / 0.9791"
   ]
  },
  {
   "cell_type": "markdown",
   "metadata": {},
   "source": [
    "Bidirectional GRU+ConvNet1D with GloVe 6B 50D Embeddings: \n",
    "- 0.9724 / 0.9719\n",
    "\n",
    "Bidirectional GRU+ConvNet1D with fastText 2M 300D Embeddings: \n",
    "- 0.9809 / 0.9791"
   ]
  },
  {
   "cell_type": "markdown",
   "metadata": {},
   "source": [
    "#### 5.4.1 RNNs: LSTM + GRU"
   ]
  },
  {
   "cell_type": "code",
   "execution_count": 44,
   "metadata": {},
   "outputs": [],
   "source": [
    "filenames = [file_lstm_fasttext, file_gru_fasttext]\n",
    "Ensemble_LSTM_GRU_predictions = ensemble(filenames, list_classes)\n",
    "Ensemble_LSTM_GRU_predictions.to_csv(PATH_COMP/'ensemble_lstm_gru_predictions.csv', index=False)"
   ]
  },
  {
   "cell_type": "markdown",
   "metadata": {},
   "source": [
    "- 0.9819 / 0.9812"
   ]
  },
  {
   "cell_type": "markdown",
   "metadata": {},
   "source": [
    "#### 5.4.2 NB-SVM + LSTM + GRU"
   ]
  },
  {
   "cell_type": "code",
   "execution_count": 45,
   "metadata": {},
   "outputs": [],
   "source": [
    "filenames = [file_nbsvm, file_lstm_fasttext, file_gru_fasttext]\n",
    "Ensemble_NBSVM_LSTM_GRU_predictions = ensemble(filenames, list_classes)\n",
    "Ensemble_NBSVM_LSTM_GRU_predictions.to_csv(PATH_COMP/'ensemble_nbsvm_lstm_gru_predictions.csv', index=False)"
   ]
  },
  {
   "cell_type": "markdown",
   "metadata": {},
   "source": [
    "- **0.9830 / 0.9827**"
   ]
  },
  {
   "cell_type": "markdown",
   "metadata": {},
   "source": [
    "#### 5.4.3 NB-SVM + LSTM"
   ]
  },
  {
   "cell_type": "code",
   "execution_count": 46,
   "metadata": {},
   "outputs": [],
   "source": [
    "filenames = [file_nbsvm, file_lstm_fasttext]\n",
    "Ensemble_NBSVM_LSTM_predictions = ensemble(filenames, list_classes)\n",
    "Ensemble_NBSVM_LSTM_predictions.to_csv(PATH_COMP/'ensemble_nbsvm_lstm_predictions.csv', index=False)"
   ]
  },
  {
   "cell_type": "markdown",
   "metadata": {},
   "source": [
    "- 0.9816 / 0.9813"
   ]
  },
  {
   "cell_type": "markdown",
   "metadata": {},
   "source": [
    "#### 5.4.4 NB-SVM + GRU"
   ]
  },
  {
   "cell_type": "code",
   "execution_count": 47,
   "metadata": {},
   "outputs": [],
   "source": [
    "filenames = [file_nbsvm, file_gru_fasttext]\n",
    "Ensemble_NBSVM_GRU_predictions = ensemble(filenames, list_classes)\n",
    "Ensemble_NBSVM_GRU_predictions.to_csv(PATH_COMP/'ensemble_nbsvm_gru_predictions.csv', index=False)"
   ]
  },
  {
   "cell_type": "markdown",
   "metadata": {},
   "source": [
    "- 0.9823 / 0.9818"
   ]
  },
  {
   "cell_type": "markdown",
   "metadata": {},
   "source": [
    "### 5.4.5 Ensemble Everything"
   ]
  },
  {
   "cell_type": "code",
   "execution_count": 49,
   "metadata": {},
   "outputs": [],
   "source": [
    "filenames = [file_nbsvm,         file_nbsvm_keras_vocab, \n",
    "             file_lstm_glove,    file_gru_glove, \n",
    "             file_lstm_fasttext, file_gru_fasttext]\n",
    "\n",
    "Ensemble_All_predictions = ensemble(filenames, list_classes)\n",
    "Ensemble_All_predictions.to_csv(PATH_COMP/'ensemble_all_predictions.csv', index=False)"
   ]
  },
  {
   "cell_type": "markdown",
   "metadata": {},
   "source": [
    "- 0.9829 / 0.9829"
   ]
  },
  {
   "cell_type": "markdown",
   "metadata": {},
   "source": [
    "Ensembling everything provided a slightly worse model than the best ensemble: the NB-SVM with its own generated vocabulary, and the LSTM & GRU-ConvNet with fastText word embeddings. The final private score of 0.9830 [AUC-ROC](http://gim.unmc.edu/dxtests/roc3.htm) ties this version at 1,794 on the private leaderboard, out of 4,551 contestants.\n",
    "\n",
    "For reference, the 1000th place score is 0.9861, and the 1st place score is 0.9885. I'm confident a near or super-first place score can be achieved with automated hyper-parameter search, a [pretrained language model](http://www.sysml.cc/doc/50.pdf), and an adaptive training regime (using [discriminative finetuning](https://towardsdatascience.com/understanding-learning-rates-and-how-it-improves-performance-in-deep-learning-d0d4059c1c10) and [cyclic learning rates](https://arxiv.org/pdf/1506.01186.pdf), and [SGDR](https://medium.com/38th-street-studios/exploring-stochastic-gradient-descent-with-restarts-sgdr-fa206c38a74e)).\n",
    "\n",
    "This notebook achieves a high AUC-ROC score on a sentiment classification task by using the combined average of a linear model and two simple RNNs.\n",
    "\n",
    "An AUC-ROC score of 1.0 is a perfect true-positive classification rate. At 0.5 false-positive rate = true-positive rate. At 0.0 all predictions are false-positives."
   ]
  },
  {
   "cell_type": "markdown",
   "metadata": {},
   "source": [
    "## 6. Visualizations and Statistics"
   ]
  },
  {
   "cell_type": "markdown",
   "metadata": {
    "heading_collapsed": true
   },
   "source": [
    "### 6.0 Parameters; Definitions"
   ]
  },
  {
   "cell_type": "code",
   "execution_count": 28,
   "metadata": {
    "hidden": true
   },
   "outputs": [],
   "source": [
    "score_nbsvm       = 0.9770\n",
    "score_nbsvm_keras = 0.9744\n",
    "\n",
    "score_lstm_glove    = 0.9755\n",
    "score_lstm_fasttext = 0.9799\n",
    "\n",
    "score_gru_glove    = 0.9724\n",
    "score_gru_fasttext = 0.9809\n",
    "\n",
    "score_ensemble_nbsvm_lstm_gru = 0.9830\n",
    "score_ensemble_nbsvm_lstm = 0.9816\n",
    "score_ensemble_nbsvm_gru  = 0.9823\n",
    "score_ensemble_lstm_gru   = 0.9819\n",
    "score_ensemble_all        = 0.9829"
   ]
  },
  {
   "cell_type": "code",
   "execution_count": 32,
   "metadata": {
    "hidden": true
   },
   "outputs": [],
   "source": [
    "def bar_visual():\n",
    "    plt.style.use('seaborn')\n",
    "    colors = ['steelblue', 'firebrick', 'goldenrod', 'turquoise']\n",
    "    fg, ax = plt.subplots(figsize=(12,12))\n",
    "    ax.set_title('Toxic Comment Classification AUC-ROC Scores & Models', size=25)\n",
    "    ax.set_ylim(0.95, 1.0)\n",
    "\n",
    "    plt.bar([0],[score_nbsvm], color=[colors[0]], alpha=0.9)\n",
    "    plt.bar([0],[score_nbsvm_keras], color=[colors[1]], alpha=0.4)\n",
    "    plt.bar([1],[score_lstm_fasttext], color=[colors[0]], alpha=0.9)\n",
    "    plt.bar([1],[score_lstm_glove], color=[colors[1]], alpha=0.4)\n",
    "    plt.bar([2],[score_gru_fasttext], color=[colors[0]], alpha=0.9)\n",
    "    plt.bar([2],[score_gru_glove], color=[colors[1]], alpha=0.4)\n",
    "    plt.bar([3],[score_ensemble_nbsvm_lstm_gru], color=[colors[1]], alpha=0.8)\n",
    "    plt.bar([3],[score_ensemble_nbsvm_gru], color=[colors[0]], alpha=1)\n",
    "    plt.bar([3],[score_ensemble_nbsvm_lstm], color=[colors[1]], alpha=0.4)\n",
    "    plt.bar([4],[score_ensemble_lstm_gru], color=[colors[0]], alpha=0.8)\n",
    "    plt.bar([5],[score_ensemble_all], color=[colors[0]], alpha=0.8)\n",
    "\n",
    "    ax.axhline(y=0.9885, color='r')\n",
    "    ax.axhline(y=0.9830, color='m')\n",
    "    ax.axhline(y=0.9763)\n",
    "\n",
    "    plt.annotate('Ensemble NBSVM+LSTM+GRUL: 0.9830',xy=[3,score_ensemble_nbsvm_lstm_gru], xytext=(2.78,score_ensemble_nbsvm_lstm_gru+0.0005), size=20)\n",
    "    plt.annotate('Winning Competition Score: 0.9885',xy=[3, 0.9885], xytext=(3.31,0.9885+0.0005), size=20)\n",
    "    plt.annotate('1981-2001st place: 0.9763',xy=[3,0.9763], xytext=(4.05,0.9763+0.0005), size=20)\n",
    "\n",
    "    plt.xticks(np.arange(6), ['NBSVM', 'LSTM', 'GRU', 'Ens:N+L+G\\nEns:N+G   \\nEns:N+L   ', 'Ens:L+G', 'Ens:All'], size=20)\n",
    "    plt.xlabel('Model Type', size=25)\n",
    "    plt.ylabel('True-Positive Rate', size=25)\n",
    "    plt.yticks(size=20)\n",
    "    plt.show()"
   ]
  },
  {
   "cell_type": "code",
   "execution_count": 33,
   "metadata": {
    "hidden": true,
    "scrolled": false
   },
   "outputs": [],
   "source": [
    "def scatter_visual():\n",
    "    plt.style.use('seaborn')\n",
    "    fg, ax = plt.subplots(figsize=(12,12))\n",
    "    ax.set_title('Toxic Comment Classification AUC-ROC Scores & Models', size=25)\n",
    "    ax.set_ylim(0.95, 1.0)\n",
    "    ax.set_xlim(-0.25, 6)\n",
    "    ax.axhline(y=0.9885, color='r')\n",
    "    ax.axhline(y=0.9830, color='m')\n",
    "    ax.axhline(y=0.9763)\n",
    "    \n",
    "    plt.plot([0,0],[score_nbsvm, score_nbsvm_keras], marker='o', markersize=10)\n",
    "    plt.plot([1,1],[score_lstm_glove, score_lstm_fasttext], marker='o', markersize=10)\n",
    "    plt.plot([2,2],[score_gru_glove, score_gru_fasttext], marker='o', markersize=10)\n",
    "    plt.plot([3,3,3],[score_ensemble_nbsvm_lstm_gru, score_ensemble_nbsvm_gru, score_ensemble_nbsvm_lstm], marker='o')\n",
    "    plt.plot([3],[score_ensemble_nbsvm_lstm_gru], marker='o', color='#BB00EE', markersize=10)\n",
    "    plt.plot([4],[score_ensemble_lstm_gru], marker='o', color='#F151ED', markersize=10)\n",
    "    plt.plot([5],[score_ensemble_all], marker='o', color='k', markersize=10)\n",
    "\n",
    "    plt.annotate('Ensemble NBSVM+LSTM+GRU',xy=[3,score_ensemble_nbsvm_lstm_gru], xytext=(2.,score_ensemble_nbsvm_lstm_gru+0.0005), size=20)\n",
    "    plt.annotate('Winning Competition Score',xy=[3,0.9885], xytext=(2.,0.9885+0.0005), size=20)\n",
    "    plt.annotate('1981-2001st place',xy=[3,0.9763], xytext=(3+0.01,0.9763+0.0005), size=20)\n",
    "    plt.annotate('All',xy=[5,score_ensemble_all], xytext=(5+0.01,score_ensemble_all+0.0005), size=20)\n",
    "    plt.annotate('fastText embeddings',xy=[1, score_lstm_fasttext], \n",
    "                 xytext=(3.2,0.966), size=20, arrowprops=dict(width=0.15,headwidth=8))\n",
    "    plt.annotate('fastText embeddings',xy=[2, score_gru_fasttext], \n",
    "                 xytext=(3.2,0.966), size=20, arrowprops=dict(width=0.15,headwidth=8))\n",
    "    plt.annotate('GloVe embeddings',xy=[2, score_gru_glove], \n",
    "                 xytext=(3,0.96), size=20, arrowprops=dict(width=0.15,headwidth=8))\n",
    "    plt.annotate('GloVe embeddings',xy=[1, score_lstm_glove], \n",
    "                 xytext=(3,0.96), size=20, arrowprops=dict(width=0.15,headwidth=8))\n",
    "\n",
    "    plt.xticks(np.arange(6), ['NBSVM', 'LSTM', 'GRU', 'Ens:N+L+G\\nEns:N+G   \\nEns:N+L   ', 'Ens:L+G', 'Ens:All'], size=20)\n",
    "    plt.xlabel('Model Type', size=25)\n",
    "    plt.ylabel('True-Positive Rate', size=25)\n",
    "    plt.yticks(size=20)\n",
    "    plt.show()"
   ]
  },
  {
   "cell_type": "markdown",
   "metadata": {},
   "source": [
    "### 6.1 Bar Plot"
   ]
  },
  {
   "cell_type": "code",
   "execution_count": 428,
   "metadata": {},
   "outputs": [
    {
     "data": {
      "image/png": "[encoded data removed]",
      "text/plain": [
       "<matplotlib.figure.Figure at 0x7f91e92890f0>"
      ]
     },
     "metadata": {},
     "output_type": "display_data"
    }
   ],
   "source": [
    "bar_visual()"
   ]
  },
  {
   "cell_type": "markdown",
   "metadata": {},
   "source": [
    "### 6.2 Scatter Plot"
   ]
  },
  {
   "cell_type": "code",
   "execution_count": 431,
   "metadata": {},
   "outputs": [
    {
     "data": {
      "image/png": "[encoded data removed]",
      "text/plain": [
       "<matplotlib.figure.Figure at 0x7f91ea743438>"
      ]
     },
     "metadata": {},
     "output_type": "display_data"
    }
   ],
   "source": [
    "scatter_visual()"
   ]
  },
  {
   "cell_type": "markdown",
   "metadata": {},
   "source": [
    "### 6.4 Data Stats"
   ]
  },
  {
   "cell_type": "markdown",
   "metadata": {},
   "source": [
    "#### 6.4.1 Word Frequency"
   ]
  },
  {
   "cell_type": "code",
   "execution_count": 416,
   "metadata": {},
   "outputs": [],
   "source": [
    "comment_lengths_train = train_df.comment_text.str.len()\n",
    "comment_lengths_test  = test_df.comment_text.str.len()"
   ]
  },
  {
   "cell_type": "code",
   "execution_count": 438,
   "metadata": {},
   "outputs": [
    {
     "name": "stdout",
     "output_type": "stream",
     "text": [
      "Comment length distribution of Training Data\n"
     ]
    },
    {
     "data": {
      "image/png": "[encoded data removed]",
      "text/plain": [
       "<matplotlib.figure.Figure at 0x7f91eb5d94e0>"
      ]
     },
     "metadata": {},
     "output_type": "display_data"
    }
   ],
   "source": [
    "print(\"Comment length distribution of Training Data\")\n",
    "comment_lengths_train.hist(figsize=(12,8));"
   ]
  },
  {
   "cell_type": "code",
   "execution_count": 439,
   "metadata": {},
   "outputs": [
    {
     "name": "stdout",
     "output_type": "stream",
     "text": [
      "Comment length distribution of Testing Data\n"
     ]
    },
    {
     "data": {
      "image/png": "[encoded data removed]",
      "text/plain": [
       "<matplotlib.figure.Figure at 0x7f91e7ea2b00>"
      ]
     },
     "metadata": {},
     "output_type": "display_data"
    }
   ],
   "source": [
    "print(\"Comment length distribution of Testing Data\")\n",
    "comment_lengths_test.hist(figsize=(12,8));"
   ]
  },
  {
   "cell_type": "markdown",
   "metadata": {},
   "source": [
    "### 6.4.2 Comment Toxicity"
   ]
  },
  {
   "cell_type": "code",
   "execution_count": 443,
   "metadata": {},
   "outputs": [
    {
     "data": {
      "text/plain": [
       "toxic            15294\n",
       "severe_toxic      1595\n",
       "obscene           8449\n",
       "threat             478\n",
       "insult            7877\n",
       "identity_hate     1405\n",
       "dtype: int64"
      ]
     },
     "execution_count": 443,
     "metadata": {},
     "output_type": "execute_result"
    }
   ],
   "source": [
    "toxics = train_df[list_classes].sum()\n",
    "toxics"
   ]
  },
  {
   "cell_type": "markdown",
   "metadata": {},
   "source": [
    "I wonder if the distribution of toxic-type text in the testing data is the same as in the training data. I can get an idea by checking my best performing model, the NBSVM-LSTM-GRU Ensemble, with a True-Positive rate of 0.9830."
   ]
  },
  {
   "cell_type": "code",
   "execution_count": 45,
   "metadata": {},
   "outputs": [],
   "source": [
    "Ensemble_NBSVM_LSTM_GRU_predictions = pd.read_csv(PATH_COMP/'ensemble_nbsvm_lstm_gru_predictions.csv')"
   ]
  },
  {
   "cell_type": "code",
   "execution_count": 445,
   "metadata": {},
   "outputs": [
    {
     "data": {
      "text/plain": [
       "toxic            34344.977026\n",
       "severe_toxic      3339.525630\n",
       "obscene          19362.121195\n",
       "threat             836.808538\n",
       "insult           17248.985868\n",
       "identity_hate     2898.387233\n",
       "dtype: float64"
      ]
     },
     "execution_count": 445,
     "metadata": {},
     "output_type": "execute_result"
    }
   ],
   "source": [
    "predicted_toxics = Ensemble_NBSVM_LSTM_GRU_predictions[list_classes].sum()\n",
    "predicted_toxics"
   ]
  },
  {
   "cell_type": "code",
   "execution_count": 492,
   "metadata": {},
   "outputs": [
    {
     "name": "stdout",
     "output_type": "stream",
     "text": [
      "Nontoxics in Training Data:            143346\n",
      "Nontoxics in Testing Data (Predicted): 118796\n",
      "Ratio nontoxics Train:                 0.90\n",
      "Ratio nontoxics Test (Predicted):      0.78\n"
     ]
    }
   ],
   "source": [
    "# nontoxic comments\n",
    "nontoxics_train = sum(1 - train_df[list_classes].max(axis=1))\n",
    "nontoxics_test  = sum(1 - Ensemble_NBSVM_LSTM_GRU_predictions[list_classes].max(axis=1))\n",
    "\n",
    "print(f'Nontoxics in Training Data: {nontoxics_train:>17}\\nNontoxics in Testing Data (Predicted): {nontoxics_test:>.0f}')\n",
    "print(f'Ratio nontoxics Train: {nontoxics_train/len(train_df):>20.2f}\\nRatio nontoxics Test (Predicted): {nontoxics_test/len(test_df):>9.2f}')"
   ]
  },
  {
   "cell_type": "code",
   "execution_count": 472,
   "metadata": {},
   "outputs": [
    {
     "data": {
      "image/png": "[encoded data removed]",
      "text/plain": [
       "<matplotlib.figure.Figure at 0x7f91e8339550>"
      ]
     },
     "metadata": {},
     "output_type": "display_data"
    }
   ],
   "source": [
    "colors = ['steelblue','firebrick']\n",
    "fg, ax = plt.subplots(figsize=(12,12), )\n",
    "plt.bar([i for i in range(6)], toxics, color=colors[1], alpha=0.9)\n",
    "plt.bar([i for i in range(6)], predicted_toxics, color=colors[0], alpha=0.7)\n",
    "plt.xticks(np.arange(len(list_classes)), list_classes)\n",
    "plt.legend(['Toxic: Training Data','Toxic: Test Data (Predicted)'], fontsize=15)\n",
    "plt.show()"
   ]
  },
  {
   "cell_type": "markdown",
   "metadata": {},
   "source": [
    "The ratios actually look similar."
   ]
  },
  {
   "cell_type": "markdown",
   "metadata": {},
   "source": [
    "## 7. Out-of-Dataset Testing"
   ]
  },
  {
   "cell_type": "markdown",
   "metadata": {},
   "source": [
    "Finally, it's always good to test-drive your models and get a feel for how they perform. Sometimes this can reveal valuable insight into why a model may be underperforming, or lead to other ideas for improvement."
   ]
  },
  {
   "cell_type": "code",
   "execution_count": 20,
   "metadata": {},
   "outputs": [],
   "source": [
    "toxic_text = ['I think you are very fat.', \n",
    "              'Your shirt makes me want to renounce my citizenship.', \n",
    "              'What I hate about you is your face.', \n",
    "              'That sounds like something someone with no spine would say.']\n",
    "nontoxic_text = ['There are seventy-five elephants in Chicago.', 'The sky is blue.', 'Where did you park my car?']\n",
    "\n",
    "text = [i for i in toxic_text]\n",
    "text.extend(nontoxic_text)\n",
    "text = pd.DataFrame(text, index=None, columns=['comment_text'])\n",
    "\n",
    "# For NB-SVM\n",
    "text_doc = tfidf_vectorizer.transform(text[\"comment_text\"])\n",
    "# For RNNs\n",
    "list_sentences_text = text[\"comment_text\"].fillna(\"_na_\").values\n",
    "list_tokenized_text = tokenizer.texts_to_sequences(list_sentences_text)\n",
    "input_text = pad_sequences(list_tokenized_text, maxlen=maxlen)"
   ]
  },
  {
   "cell_type": "code",
   "execution_count": 25,
   "metadata": {},
   "outputs": [
    {
     "name": "stdout",
     "output_type": "stream",
     "text": [
      "fit toxic\n",
      "fit severe_toxic\n",
      "fit obscene\n",
      "fit threat\n",
      "fit insult\n",
      "fit identity_hate\n",
      "7/7 [==============================] - 1s 86ms/step\n",
      "7/7 [==============================] - 1s 94ms/step\n"
     ]
    }
   ],
   "source": [
    "# NB-SVM\n",
    "nbsvm_predictions = np.zeros((len(text), len(list_classes))) # NBSVM model wasnt saved so it's re-fitted\n",
    "for i, clss in enumerate(list_classes):\n",
    "    print('fit', clss)\n",
    "    m, r = get_mdl(train_term_doc, train_df[clss])\n",
    "    nbsvm_predictions[:,i] = m.predict_proba(text_doc.multiply(r))[:,1]\n",
    "\n",
    "# LSTM:\n",
    "model = BiLSTM()\n",
    "model.compile(optimizer=\"adam\", loss=\"binary_crossentropy\", metrics=[\"accuracy\"])\n",
    "model.load_weights(fpath_LSTM)\n",
    "\n",
    "lstm_predictions = model.predict(input_text, batch_size=1024, verbose=1)\n",
    "\n",
    "# GRU-Conv:\n",
    "model = BiGRU_ConvNet()\n",
    "model.compile(optimizer=\"adam\", loss=\"binary_crossentropy\", metrics=[\"accuracy\"])\n",
    "model.load_weights(fpath_GRU)\n",
    "\n",
    "gru_predictions = model.predict(input_text, batch_size=1024, verbose=1)"
   ]
  },
  {
   "cell_type": "markdown",
   "metadata": {},
   "source": [
    "If CV has gotten fast at real-time image analysis, NLP has the potential to be a whole world faster. 72ms is about the time it takes your brain to process a visual shape, forget analyzing an entire block of text."
   ]
  },
  {
   "cell_type": "code",
   "execution_count": 26,
   "metadata": {},
   "outputs": [],
   "source": [
    "predictions = (nbsvm_predictions + lstm_predictions + gru_predictions) / 3"
   ]
  },
  {
   "cell_type": "code",
   "execution_count": 27,
   "metadata": {},
   "outputs": [
    {
     "data": {
      "text/html": [
       "<div>\n",
       "<style scoped>\n",
       "    .dataframe tbody tr th:only-of-type {\n",
       "        vertical-align: middle;\n",
       "    }\n",
       "\n",
       "    .dataframe tbody tr th {\n",
       "        vertical-align: top;\n",
       "    }\n",
       "\n",
       "    .dataframe thead th {\n",
       "        text-align: right;\n",
       "    }\n",
       "</style>\n",
       "<table border=\"1\" class=\"dataframe\">\n",
       "  <thead>\n",
       "    <tr style=\"text-align: right;\">\n",
       "      <th></th>\n",
       "      <th>toxic</th>\n",
       "      <th>severe_toxic</th>\n",
       "      <th>obscene</th>\n",
       "      <th>threat</th>\n",
       "      <th>insult</th>\n",
       "      <th>identity_hate</th>\n",
       "      <th>comment_text</th>\n",
       "    </tr>\n",
       "  </thead>\n",
       "  <tbody>\n",
       "    <tr>\n",
       "      <th>0</th>\n",
       "      <td>0.787972</td>\n",
       "      <td>0.012439</td>\n",
       "      <td>0.107208</td>\n",
       "      <td>0.003304</td>\n",
       "      <td>0.652755</td>\n",
       "      <td>0.031449</td>\n",
       "      <td>I think you are very fat.</td>\n",
       "    </tr>\n",
       "    <tr>\n",
       "      <th>1</th>\n",
       "      <td>0.180767</td>\n",
       "      <td>0.001490</td>\n",
       "      <td>0.011164</td>\n",
       "      <td>0.000847</td>\n",
       "      <td>0.029337</td>\n",
       "      <td>0.001436</td>\n",
       "      <td>Your shirt makes me want to renounce my citize...</td>\n",
       "    </tr>\n",
       "    <tr>\n",
       "      <th>2</th>\n",
       "      <td>0.865179</td>\n",
       "      <td>0.041606</td>\n",
       "      <td>0.144977</td>\n",
       "      <td>0.021721</td>\n",
       "      <td>0.408337</td>\n",
       "      <td>0.043636</td>\n",
       "      <td>What I hate about you is your face.</td>\n",
       "    </tr>\n",
       "    <tr>\n",
       "      <th>3</th>\n",
       "      <td>0.035322</td>\n",
       "      <td>0.000524</td>\n",
       "      <td>0.003333</td>\n",
       "      <td>0.000199</td>\n",
       "      <td>0.006656</td>\n",
       "      <td>0.000262</td>\n",
       "      <td>That sounds like something someone with no spi...</td>\n",
       "    </tr>\n",
       "    <tr>\n",
       "      <th>4</th>\n",
       "      <td>0.012663</td>\n",
       "      <td>0.000308</td>\n",
       "      <td>0.001883</td>\n",
       "      <td>0.000521</td>\n",
       "      <td>0.003832</td>\n",
       "      <td>0.000446</td>\n",
       "      <td>There are seventy-five elephants in Chicago.</td>\n",
       "    </tr>\n",
       "    <tr>\n",
       "      <th>5</th>\n",
       "      <td>0.017501</td>\n",
       "      <td>0.000444</td>\n",
       "      <td>0.002564</td>\n",
       "      <td>0.000234</td>\n",
       "      <td>0.005640</td>\n",
       "      <td>0.000530</td>\n",
       "      <td>The sky is blue.</td>\n",
       "    </tr>\n",
       "    <tr>\n",
       "      <th>6</th>\n",
       "      <td>0.079832</td>\n",
       "      <td>0.001786</td>\n",
       "      <td>0.009042</td>\n",
       "      <td>0.001148</td>\n",
       "      <td>0.019915</td>\n",
       "      <td>0.000740</td>\n",
       "      <td>Where did you park my car?</td>\n",
       "    </tr>\n",
       "  </tbody>\n",
       "</table>\n",
       "</div>"
      ],
      "text/plain": [
       "      toxic  severe_toxic   obscene    threat    insult  identity_hate  \\\n",
       "0  0.787972      0.012439  0.107208  0.003304  0.652755       0.031449   \n",
       "1  0.180767      0.001490  0.011164  0.000847  0.029337       0.001436   \n",
       "2  0.865179      0.041606  0.144977  0.021721  0.408337       0.043636   \n",
       "3  0.035322      0.000524  0.003333  0.000199  0.006656       0.000262   \n",
       "4  0.012663      0.000308  0.001883  0.000521  0.003832       0.000446   \n",
       "5  0.017501      0.000444  0.002564  0.000234  0.005640       0.000530   \n",
       "6  0.079832      0.001786  0.009042  0.001148  0.019915       0.000740   \n",
       "\n",
       "                                        comment_text  \n",
       "0                          I think you are very fat.  \n",
       "1  Your shirt makes me want to renounce my citize...  \n",
       "2                What I hate about you is your face.  \n",
       "3  That sounds like something someone with no spi...  \n",
       "4       There are seventy-five elephants in Chicago.  \n",
       "5                                   The sky is blue.  \n",
       "6                         Where did you park my car?  "
      ]
     },
     "execution_count": 27,
     "metadata": {},
     "output_type": "execute_result"
    }
   ],
   "source": [
    "predicted_text = pd.read_csv(PATH_COMP/'sample_submission.csv')\n",
    "predicted_text.drop(columns=[\"id\"], inplace=True)\n",
    "predicted_text = predicted_text[:0]\n",
    "predicted_text[\"comment_text\"] = text[\"comment_text\"]\n",
    "predicted_text[list_classes] = predictions\n",
    "predicted_text"
   ]
  },
  {
   "cell_type": "code",
   "execution_count": 29,
   "metadata": {},
   "outputs": [],
   "source": [
    "predicted_text.to_csv(PATH_COMP/'dummy_predictions.csv', index=False)"
   ]
  },
  {
   "cell_type": "code",
   "execution_count": 111,
   "metadata": {},
   "outputs": [
    {
     "name": "stdout",
     "output_type": "stream",
     "text": [
      "\"I think you are very fat.\"\n",
      "toxic: 0.7880\n",
      "insult: 0.6528\n",
      "\n",
      "\"Your shirt makes me want to renounce my citizenship.\"\n",
      "Nontoxic\n",
      "\n",
      "\"What I hate about you is your face.\"\n",
      "toxic: 0.8652\n",
      "\n",
      "\"That sounds like something someone with no spine would say.\"\n",
      "Nontoxic\n",
      "\n",
      "\"There are seventy-five elephants in Chicago.\"\n",
      "Nontoxic\n",
      "\n",
      "\"The sky is blue.\"\n",
      "Nontoxic\n",
      "\n",
      "\"Where did you park my car?\"\n",
      "Nontoxic\n",
      "\n"
     ]
    }
   ],
   "source": [
    "def analyze_comments(predicted_text, list_classes, threshold=0.5):\n",
    "    for i in range(len(predicted_text.comment_text)):\n",
    "        list_classes = np.asarray(list_classes)\n",
    "        toxic_idxs = np.where(predicted_text[list_classes].iloc[i] > threshold)        \n",
    "        toxic_detections = list_classes[toxic_idxs]\n",
    "        toxic_values = predicted_text[toxic_detections].iloc[i]\n",
    "        \n",
    "        print(f'\"{predicted_text.iloc[i].comment_text}\"')\n",
    "        for keyval in toxic_values.items():\n",
    "            print(f'{keyval[0]}: {keyval[1]:.4f}')\n",
    "        if len(toxic_idxs[0]) == 0:\n",
    "            print(f'Nontoxic')\n",
    "        print()\n",
    "        \n",
    "analyze_comments(predicted_text, list_classes)"
   ]
  },
  {
   "cell_type": "markdown",
   "metadata": {},
   "source": [
    "Not so bad, although the not-so-subtle jab does get through."
   ]
  },
  {
   "cell_type": "markdown",
   "metadata": {},
   "source": [
    "## Notes"
   ]
  },
  {
   "cell_type": "markdown",
   "metadata": {},
   "source": [
    "This notebook does not demonstrate Cross Validation. The built-in Keras `validation_split` parameter in `Model.fit` sets aside a fraction of the data *before* it is shuffled."
   ]
  },
  {
   "cell_type": "markdown",
   "metadata": {},
   "source": [
    "---"
   ]
  },
  {
   "cell_type": "markdown",
   "metadata": {},
   "source": [
    "## Asides"
   ]
  },
  {
   "cell_type": "markdown",
   "metadata": {},
   "source": [
    "### Aside 1: Terms"
   ]
  },
  {
   "cell_type": "markdown",
   "metadata": {},
   "source": [
    "- LSTM: [Long Short-Term Memory Network](http://colah.github.io/posts/2015-08-Understanding-LSTMs/#lstm-networks)\n",
    "- GRU : [Gated Recurrent Unit Network](http://colah.github.io/posts/2015-08-Understanding-LSTMs/#variants-on-long-short-term-memory)\n",
    "- NB-SVM: [Naïve Bayes Support Vector Machine](https://nlp.stanford.edu/pubs/sidaw12_simple_sentiment.pdf)\n",
    "- ConvNet: [Convolutional Neural Network](http://cs231n.github.io/convolutional-networks/)\n",
    "- RNN: [Recurrent Neural Network](http://karpathy.github.io/2015/05/21/rnn-effectiveness/)\n",
    "- AUC-ROC: [Area Under Curve: Region of Operating Characteristics](http://gim.unmc.edu/dxtests/roc3.htm)"
   ]
  },
  {
   "cell_type": "markdown",
   "metadata": {},
   "source": [
    "---"
   ]
  },
  {
   "cell_type": "markdown",
   "metadata": {},
   "source": [
    "### Aside 2: Sequence Padding: Keras vs. PyTorch"
   ]
  },
  {
   "cell_type": "markdown",
   "metadata": {},
   "source": [
    "PyTorch's `torchtext.data.BucketIterator` pads by batch, whereas Keras' `keras.preprocessing.text.pad_sequences` pads the entire dataset. \n",
    "\n",
    "This points to some memory savings in PyTorch and makes it some to pay attention to as the library and as FastAI integration develop. ie: Keras pads all sequences in the dataset to `maxlen`, but PyTorch sorts each batch by length and pads to the longest-length sequence in each batch. This seems like something doable in TensorFlow that's hidden by Keras' level of abstraction."
   ]
  },
  {
   "cell_type": "markdown",
   "metadata": {},
   "source": [
    "---"
   ]
  },
  {
   "cell_type": "markdown",
   "metadata": {},
   "source": [
    "### Aside 3: checking bcolz compressor"
   ]
  },
  {
   "cell_type": "markdown",
   "metadata": {},
   "source": [
    "Making sure I'm using the [bcolz compression library](https://github.com/Blosc/bcolz) correctly. Restarting this notebook requires a ~27 second wait for input data preprocessing. One way to handle this is to use a subset of the data during development, but the dataset is not so large as to necessitate that. Instead I save the preprocessed dataset as compressed arrays on disk for quick iteration. \n",
    "\n",
    "Pandas' `to_feather` is another good solution for temporary storage (not compressed), but it's meant for DataFrames - so I opted to use bcolz instead of a few extra processing steps. At a write-read-check wall time of under 500ms, the extra speed of  `to_feather` is not necessary for me.\n",
    "\n",
    "Below I make sure an array is written and read back from disk correctly."
   ]
  },
  {
   "cell_type": "code",
   "execution_count": 43,
   "metadata": {},
   "outputs": [
    {
     "name": "stdout",
     "output_type": "stream",
     "text": [
      "True\n",
      "CPU times: user 376 ms, sys: 176 ms, total: 552 ms\n",
      "Wall time: 338 ms\n"
     ]
    }
   ],
   "source": [
    "%%time\n",
    "# compressed data directory\n",
    "os.makedirs(PATH_COMP/'tmp/bc', exist_ok=True)\n",
    "\n",
    "# write compressed array\n",
    "fname = 'tmp/bc/input_train'\n",
    "bcolz.carray(input_train, rootdir=PATH_COMP/fname, mode='w').flush()\n",
    "# read compressed array\n",
    "temp = bcolz.open(rootdir=PATH_COMP/fname)\n",
    "\n",
    "print(False not in np.isclose(temp, input_train)) # True if all good"
   ]
  },
  {
   "cell_type": "markdown",
   "metadata": {},
   "source": [
    "Below are timings of the data preproc and loading steps. This reveals what should be written to disk if we want fast notebook execution."
   ]
  },
  {
   "cell_type": "code",
   "execution_count": 103,
   "metadata": {},
   "outputs": [
    {
     "name": "stdout",
     "output_type": "stream",
     "text": [
      "Tokenizer & Vocabulary initialization\n",
      "CPU times: user 0 ns, sys: 0 ns, total: 0 ns\n",
      "Wall time: 15 µs\n",
      "CPU times: user 10.4 s, sys: 68 ms, total: 10.5 s\n",
      "Wall time: 10.5 s\n",
      "\n",
      "Tokenization & Numericalization\n",
      "CPU times: user 7.72 s, sys: 24 ms, total: 7.74 s\n",
      "Wall time: 7.74 s\n",
      "CPU times: user 6.51 s, sys: 20 ms, total: 6.53 s\n",
      "Wall time: 6.53 s\n",
      "\n",
      "Padding\n",
      "CPU times: user 1.66 s, sys: 52 ms, total: 1.71 s\n",
      "Wall time: 1.47 s\n",
      "CPU times: user 1.55 s, sys: 68 ms, total: 1.62 s\n",
      "Wall time: 1.38 s\n",
      "\n",
      "Total:\n",
      "CPU times: user 27.9 s, sys: 232 ms, total: 28.1 s\n",
      "Wall time: 27.7 s\n"
     ]
    }
   ],
   "source": [
    "%%time\n",
    "\n",
    "print(\"Tokenizer & Vocabulary initialization\")\n",
    "%time tokenizer = Tokenizer(num_words=max_feat, lower=True, oov_token='<unk>')\n",
    "%time tokenizer.fit_on_texts(list(list_sentences_train))\n",
    "\n",
    "print(\"\\nTokenization & Numericalization\")\n",
    "%time list_tokenized_train = tokenizer.texts_to_sequences(list_sentences_train)\n",
    "%time list_tokenized_test  = tokenizer.texts_to_sequences(list_sentences_test)\n",
    "\n",
    "print(\"\\nPadding\")\n",
    "%time input_train = sequence.pad_sequences(list_tokenized_train, maxlen=maxlen)\n",
    "%time input_test  = sequence.pad_sequences(list_tokenized_test, maxlen=maxlen)\n",
    "\n",
    "print(\"\\nTotal:\")"
   ]
  },
  {
   "cell_type": "markdown",
   "metadata": {},
   "source": [
    "We can even turn this into a pie-chart for a quick-glance visual representation:"
   ]
  },
  {
   "cell_type": "code",
   "execution_count": 437,
   "metadata": {},
   "outputs": [
    {
     "data": {
      "image/png": "[encoded data removed]",
      "text/plain": [
       "<matplotlib.figure.Figure at 0x7f91eb5d9978>"
      ]
     },
     "metadata": {},
     "output_type": "display_data"
    },
    {
     "name": "stdout",
     "output_type": "stream",
     "text": [
      "CPU times: user 29.8 s, sys: 0 ns, total: 29.8 s\n",
      "Wall time: 29 s\n"
     ]
    }
   ],
   "source": [
    "%%time\n",
    "def get_pie_chart_time_data():\n",
    "    times = []\n",
    "\n",
    "    t0 = time.time()\n",
    "    tokenizer = Tokenizer(num_words=max_feat, lower=True, oov_token='<unk>')\n",
    "    tokenizer.fit_on_texts(list(list_sentences_train))\n",
    "    times.append(time.time() - t0)\n",
    "\n",
    "    t0 = time.time()\n",
    "    list_tokenized_train = tokenizer.texts_to_sequences(list_sentences_train)\n",
    "    list_tokenized_test  = tokenizer.texts_to_sequences(list_sentences_test)\n",
    "    times.append(time.time() - t0)\n",
    "\n",
    "    t0 = time.time()\n",
    "    input_train = pad_sequences(list_tokenized_train, maxlen=maxlen)\n",
    "    input_test  = pad_sequences(list_tokenized_test, maxlen=maxlen)\n",
    "    times.append(time.time() - t0)\n",
    "    \n",
    "    return times\n",
    "\n",
    "def pie_time_visualize(times):\n",
    "    # pie chart\n",
    "    plt.style.use('seaborn')\n",
    "    fg, ax = plt.subplots(figsize=(15,15))\n",
    "    _, text, autotexts = ax.pie(times, \n",
    "                                labels=['Tokenizer & Vocab Init', 'Tokenization & Numericalization', 'Padding'], \n",
    "                                shadow=False, autopct='%1.1f%%', startangle=90)\n",
    "    # text size\n",
    "    for i,a in enumerate(autotexts):\n",
    "        autotexts[i].set_fontsize(30)\n",
    "    for i,t in enumerate(text):\n",
    "        text[i].set_fontsize(24)\n",
    "\n",
    "    ax.axis('equal')\n",
    "    # pie chart -> donut chart\n",
    "    circle = plt.Circle((0,0), 0.8, color='white')\n",
    "    p = plt.gcf()\n",
    "    p.gca().add_artist(circle)\n",
    "    # display\n",
    "    plt.show()\n",
    "\n",
    "times = get_pie_chart_time_data()\n",
    "pie_time_visualize(times)"
   ]
  },
  {
   "cell_type": "markdown",
   "metadata": {},
   "source": [
    "Finally, an example of the speedup of saving data to disk:"
   ]
  },
  {
   "cell_type": "code",
   "execution_count": 113,
   "metadata": {},
   "outputs": [
    {
     "name": "stdout",
     "output_type": "stream",
     "text": [
      "TIME: COMPRESS & WRITE\n",
      "19.7980 s\n",
      "TIME: DECOMPRESS & READ\n",
      "0.1103 s\n",
      "CPU times: user 11.5 s, sys: 7.68 s, total: 19.1 s\n",
      "Wall time: 19.9 s\n"
     ]
    }
   ],
   "source": [
    "%%time\n",
    "PATH_BC = PATH_COMP/'tmp/bc'\n",
    "os.makedirs(PATH_BC, exist_ok=True)\n",
    "\n",
    "# WRITE\n",
    "t0 = time.time()\n",
    "bcolz.carray(list_tokenized_train, rootdir=PATH_BC/'list_tokenized_train', mode='w').flush()\n",
    "bcolz.carray(list_tokenized_test, rootdir=PATH_BC/'list_tokenized_test', mode='w').flush()\n",
    "bcolz.carray(input_train, rootdir=PATH_BC/'input_train', mode='w').flush()\n",
    "bcolz.carray(input_test,  rootdir=PATH_BC/'input_test',  mode='w').flush()\n",
    "print(f'TIME: COMPRESS & WRITE\\n{time.time()-t0:.4f} s')\n",
    "\n",
    "# READ\n",
    "t0 = time.time()\n",
    "list_tokenized_train = bcolz.open(rootdir=PATH_BC/'list_tokenized_train')\n",
    "list_tokenized_test  = bcolz.open(rootdir=PATH_BC/'list_tokenized_test')\n",
    "input_train = bcolz.open(rootdir=PATH_BC/'input_train')\n",
    "input_test  = bcolz.open(rootdir=PATH_BC/'input_test')\n",
    "print(f'TIME: DECOMPRESS & READ\\n{time.time()-t0:.4f} s')"
   ]
  },
  {
   "cell_type": "markdown",
   "metadata": {},
   "source": [
    "With the data already on disk, this step can take 0.1 seconds instead of 27, about 0.37% the original time.\n",
    "\n",
    "**NOTE**: it does take a non-trivial amount of time for bcolz to deal with existing data on disk. Even though it's read/write mode `'w'` automatically overwrites what's on disk, having to do so for the data above takes an average of 50 seconds for write-&-read. It takes only an average of 18.5 seconds if the directory is empty. \n",
    "\n",
    "However the intended use case is only to speed up read (load) time, so this isn't an issue; Only something to keep in mind if you are overwriting compressed bcolz arrays.\n",
    "\n",
    "Overwriting bcolz data, while that data is currently loaded in an object, is a *bad* idea. Since the data lives on disk, the bcolz library has to juggle overwriting with maintaining the object's integrity.\n",
    "\n",
    "Lastly, data loaded from bcolz is of the `carray` datatype, which is meant to retain most numpy.ndarray functionality while living on disk. To move the object to memory call:\n",
    "\n",
    "`data_object = np.asarray(data_object)`\n",
    "\n",
    "Where `data_object` is initially loaded as a `bcolz.carray` object."
   ]
  },
  {
   "cell_type": "markdown",
   "metadata": {},
   "source": [
    "---"
   ]
  },
  {
   "cell_type": "markdown",
   "metadata": {},
   "source": [
    "### Aside 4: Taking a look at embedding vectors"
   ]
  },
  {
   "cell_type": "code",
   "execution_count": 14,
   "metadata": {},
   "outputs": [
    {
     "name": "stdout",
     "output_type": "stream",
     "text": [
      "50\n",
      "the 0.418 0.24968 -0.41242 0.1217 0.34527 -0.044457 -0.49688 -0.17862 -0.00066023 -0.6566 0.27843 -0.14767 -0.55677 0.14658 -0.0095095 0.011658 0.10204 -0.12792 -0.8443 -0.12181 -0.016801 -0.33279 -0.1552 -0.23131 -0.19181 -1.8823 -0.76746 0.099051 -0.42125 -0.19526 4.0071 -0.18594 -0.52287 -0.31681 0.00059213 0.0074449 0.17778 -0.15897 0.012041 -0.054223 -0.29871 -0.15749 -0.34758 -0.045637 -0.44251 0.18785 0.0027849 -0.18411 -0.11514 -0.78581\n",
      "\n"
     ]
    }
   ],
   "source": [
    "# GloVe 50d - First Vector\n",
    "for o in open(EMBEDDING_GLOVE):\n",
    "    print(len(o.split()) - 1)\n",
    "    print(o)\n",
    "    break"
   ]
  },
  {
   "cell_type": "code",
   "execution_count": 15,
   "metadata": {},
   "outputs": [
    {
     "name": "stdout",
     "output_type": "stream",
     "text": [
      "2000000 300\n",
      "\n",
      "the 0.0231 0.0170 0.0157 -0.0773 0.1088 0.0031 -0.1487 -0.2672 -0.0357 -0.0487 0.0807 0.1532 -0.0739 -0.0291 -0.0445 -0.0014 0.1014 0.0186 -0.0253 0.0200 -0.0026 -0.0179 0.0005 0.0054 -0.0134 0.0233 -0.0755 -0.0156 0.0415 -0.4985 0.0410 -0.0616 0.0047 0.0325 -0.0162 -0.0172 0.0988 0.0766 -0.0796 -0.0345 0.0124 -0.1007 -0.0292 -0.0762 -0.1261 -0.0531 0.0424 0.0144 -0.0683 0.2859 0.0399 0.0201 0.3240 -0.0656 -0.0497 0.0090 0.0902 -0.0138 -0.0412 -0.0297 0.3139 -0.1428 0.0166 -0.0219 -0.0575 0.1359 -0.1655 0.0019 0.0323 -0.0013 -0.3033 -0.0091 0.1462 0.1860 -0.0524 0.1886 -0.7372 -0.0248 -0.0205 0.0022 0.5988 -0.0359 -0.0269 -0.0483 0.0109 -0.0044 0.0592 0.0174 0.0010 -0.0012 -0.0251 0.4620 -0.0443 -0.0350 0.0115 0.1496 0.3125 -0.0091 0.2517 0.0654 0.0237 -0.0432 0.0952 0.0650 -0.2932 0.0630 0.0236 0.0340 -0.0012 0.0889 -0.0006 -0.1736 0.0374 0.0313 -0.6184 0.0282 -0.3836 0.0589 0.2443 0.0602 0.0057 -0.0038 0.1352 0.0053 0.0193 -0.0213 0.0248 0.0214 0.2334 -0.0438 0.0527 0.0262 0.0655 -0.0859 0.2642 -0.0393 -0.0163 0.0681 -0.0175 -0.1158 0.0950 0.0475 0.0069 0.5164 -0.0026 -0.0255 -0.0801 -0.0262 0.1113 0.0798 -0.0015 0.0252 -0.0379 -0.0260 -0.0282 -0.0420 0.0482 -0.0175 0.0282 0.0400 0.3998 -0.1054 0.0755 0.1027 -0.0199 0.0381 -0.0333 -0.0342 0.0267 0.0865 0.0024 -0.0091 0.0163 -0.0287 0.0364 -0.0202 -0.0367 -0.0356 -0.0614 -0.0551 0.2649 -0.0371 0.0207 0.0364 0.0512 -0.0843 -0.0138 0.0710 0.0843 0.0291 -0.0100 0.0398 -0.0646 -0.0595 -0.0258 -0.0282 0.0311 0.0147 -0.0449 0.0276 -0.1168 0.0219 -0.0231 -0.0162 -0.0286 0.0128 -0.0259 0.0153 0.1042 -0.1207 -0.0135 0.5405 -0.0362 0.0476 -0.0180 -0.0735 0.0034 -0.0026 -0.0057 0.0380 -0.0401 -0.1016 0.0344 0.0402 0.0513 -0.0815 0.0390 0.0076 0.0175 0.0030 -0.0707 0.0150 -0.1174 0.0266 -0.0795 0.1988 0.0978 -0.0587 -0.0533 0.0273 0.0442 -0.0463 -0.0708 0.0176 -0.0994 0.0846 0.3620 -0.0207 0.0256 -0.0145 0.0309 0.0082 0.0042 -0.0314 0.1196 -0.0346 0.0386 -0.0368 -0.0333 -0.0032 -0.0048 -0.0006 0.0509 -0.0232 0.1183 -0.1314 0.0149 0.0762 -0.0161 0.0160 0.0390 -0.1922 0.0031 -0.0666 0.0593 -0.0621 0.0421 0.0328 -0.0901 -0.0159 0.1015 0.6164 -0.0650 0.1241 0.0059 0.0653 -0.0386 0.0166 0.0403 0.0169 -0.0008 0.0052 -0.0363 -0.2508 0.1252 -0.1008 -0.0308 0.0744 -0.1118 0.0963 \n",
      "\n"
     ]
    }
   ],
   "source": [
    "# fastText 300d - First Vector\n",
    "i = 0\n",
    "for o in open(EMBEDDING_FASTTEXT):\n",
    "    if i == 0:\n",
    "        print(o)\n",
    "    if i == 2: \n",
    "        print(o)\n",
    "        break\n",
    "    i += 1"
   ]
  },
  {
   "cell_type": "markdown",
   "metadata": {},
   "source": [
    "### Aside 5: 'None' Label"
   ]
  },
  {
   "cell_type": "markdown",
   "metadata": {},
   "source": [
    "Do the neural networks improve if I add a 'None' label? This is done for the NB-SVM. The use of a neutral 'background' class is used in CV in Object Detection ... it sounds like it should offer improvement: ie: allow the NN to pick a 'none' label instead of not picking any classes: explicit vs. implicit. I would experiment with this in a deeper analysis.\n",
    "\n",
    "The summary below suggests that about 90% of the training data is not labelled as any kind of toxic (a mean of 0.898 across the dataset for a binary label). -- **NOTE** the 'mean' row does not sum to 1 because some comments have multiple toxic-type labels."
   ]
  },
  {
   "cell_type": "code",
   "execution_count": 13,
   "metadata": {},
   "outputs": [
    {
     "data": {
      "text/html": [
       "<div>\n",
       "<style scoped>\n",
       "    .dataframe tbody tr th:only-of-type {\n",
       "        vertical-align: middle;\n",
       "    }\n",
       "\n",
       "    .dataframe tbody tr th {\n",
       "        vertical-align: top;\n",
       "    }\n",
       "\n",
       "    .dataframe thead th {\n",
       "        text-align: right;\n",
       "    }\n",
       "</style>\n",
       "<table border=\"1\" class=\"dataframe\">\n",
       "  <thead>\n",
       "    <tr style=\"text-align: right;\">\n",
       "      <th></th>\n",
       "      <th>toxic</th>\n",
       "      <th>severe_toxic</th>\n",
       "      <th>obscene</th>\n",
       "      <th>threat</th>\n",
       "      <th>insult</th>\n",
       "      <th>identity_hate</th>\n",
       "      <th>none</th>\n",
       "    </tr>\n",
       "  </thead>\n",
       "  <tbody>\n",
       "    <tr>\n",
       "      <th>count</th>\n",
       "      <td>159571.000000</td>\n",
       "      <td>159571.000000</td>\n",
       "      <td>159571.000000</td>\n",
       "      <td>159571.000000</td>\n",
       "      <td>159571.000000</td>\n",
       "      <td>159571.000000</td>\n",
       "      <td>159571.000000</td>\n",
       "    </tr>\n",
       "    <tr>\n",
       "      <th>mean</th>\n",
       "      <td>0.095844</td>\n",
       "      <td>0.009996</td>\n",
       "      <td>0.052948</td>\n",
       "      <td>0.002996</td>\n",
       "      <td>0.049364</td>\n",
       "      <td>0.008805</td>\n",
       "      <td>0.898321</td>\n",
       "    </tr>\n",
       "    <tr>\n",
       "      <th>std</th>\n",
       "      <td>0.294379</td>\n",
       "      <td>0.099477</td>\n",
       "      <td>0.223931</td>\n",
       "      <td>0.054650</td>\n",
       "      <td>0.216627</td>\n",
       "      <td>0.093420</td>\n",
       "      <td>0.302226</td>\n",
       "    </tr>\n",
       "    <tr>\n",
       "      <th>min</th>\n",
       "      <td>0.000000</td>\n",
       "      <td>0.000000</td>\n",
       "      <td>0.000000</td>\n",
       "      <td>0.000000</td>\n",
       "      <td>0.000000</td>\n",
       "      <td>0.000000</td>\n",
       "      <td>0.000000</td>\n",
       "    </tr>\n",
       "    <tr>\n",
       "      <th>25%</th>\n",
       "      <td>0.000000</td>\n",
       "      <td>0.000000</td>\n",
       "      <td>0.000000</td>\n",
       "      <td>0.000000</td>\n",
       "      <td>0.000000</td>\n",
       "      <td>0.000000</td>\n",
       "      <td>1.000000</td>\n",
       "    </tr>\n",
       "    <tr>\n",
       "      <th>50%</th>\n",
       "      <td>0.000000</td>\n",
       "      <td>0.000000</td>\n",
       "      <td>0.000000</td>\n",
       "      <td>0.000000</td>\n",
       "      <td>0.000000</td>\n",
       "      <td>0.000000</td>\n",
       "      <td>1.000000</td>\n",
       "    </tr>\n",
       "    <tr>\n",
       "      <th>75%</th>\n",
       "      <td>0.000000</td>\n",
       "      <td>0.000000</td>\n",
       "      <td>0.000000</td>\n",
       "      <td>0.000000</td>\n",
       "      <td>0.000000</td>\n",
       "      <td>0.000000</td>\n",
       "      <td>1.000000</td>\n",
       "    </tr>\n",
       "    <tr>\n",
       "      <th>max</th>\n",
       "      <td>1.000000</td>\n",
       "      <td>1.000000</td>\n",
       "      <td>1.000000</td>\n",
       "      <td>1.000000</td>\n",
       "      <td>1.000000</td>\n",
       "      <td>1.000000</td>\n",
       "      <td>1.000000</td>\n",
       "    </tr>\n",
       "  </tbody>\n",
       "</table>\n",
       "</div>"
      ],
      "text/plain": [
       "               toxic   severe_toxic        obscene         threat  \\\n",
       "count  159571.000000  159571.000000  159571.000000  159571.000000   \n",
       "mean        0.095844       0.009996       0.052948       0.002996   \n",
       "std         0.294379       0.099477       0.223931       0.054650   \n",
       "min         0.000000       0.000000       0.000000       0.000000   \n",
       "25%         0.000000       0.000000       0.000000       0.000000   \n",
       "50%         0.000000       0.000000       0.000000       0.000000   \n",
       "75%         0.000000       0.000000       0.000000       0.000000   \n",
       "max         1.000000       1.000000       1.000000       1.000000   \n",
       "\n",
       "              insult  identity_hate           none  \n",
       "count  159571.000000  159571.000000  159571.000000  \n",
       "mean        0.049364       0.008805       0.898321  \n",
       "std         0.216627       0.093420       0.302226  \n",
       "min         0.000000       0.000000       0.000000  \n",
       "25%         0.000000       0.000000       1.000000  \n",
       "50%         0.000000       0.000000       1.000000  \n",
       "75%         0.000000       0.000000       1.000000  \n",
       "max         1.000000       1.000000       1.000000  "
      ]
     },
     "execution_count": 13,
     "metadata": {},
     "output_type": "execute_result"
    }
   ],
   "source": [
    "# summary of the dataset\n",
    "train_df.describe()"
   ]
  },
  {
   "cell_type": "markdown",
   "metadata": {},
   "source": [
    "# End"
   ]
  }
 ],
 "metadata": {
  "kernelspec": {
   "display_name": "Python (Aersu)",
   "language": "python",
   "name": "aersu"
  },
  "language_info": {
   "codemirror_mode": {
    "name": "ipython",
    "version": 3
   },
   "file_extension": ".py",
   "mimetype": "text/x-python",
   "name": "python",
   "nbconvert_exporter": "python",
   "pygments_lexer": "ipython3",
   "version": "3.6.4"
  }
 },
 "nbformat": 4,
 "nbformat_minor": 2
}
