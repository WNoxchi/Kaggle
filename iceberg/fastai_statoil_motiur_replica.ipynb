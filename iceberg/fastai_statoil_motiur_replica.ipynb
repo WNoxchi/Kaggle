{
 "cells": [
  {
   "cell_type": "markdown",
   "metadata": {},
   "source": [
    "fastai_statoil_motiur -- 2\n",
    "\n",
    "Replicating: https://github.com/motiur/fastai/blob/master/statoil_4.ipynb"
   ]
  },
  {
   "cell_type": "code",
   "execution_count": 1,
   "metadata": {
    "collapsed": true
   },
   "outputs": [],
   "source": [
    "# Put these at the top of every notebook, to get automatic reloading and inline plotting\n",
    "%reload_ext autoreload\n",
    "%autoreload 2\n",
    "%matplotlib inline"
   ]
  },
  {
   "cell_type": "code",
   "execution_count": 3,
   "metadata": {
    "collapsed": true
   },
   "outputs": [],
   "source": [
    "import sys, os\n",
    "sys.path.insert(1,os.path.join('../'))"
   ]
  },
  {
   "cell_type": "code",
   "execution_count": 4,
   "metadata": {
    "collapsed": true
   },
   "outputs": [],
   "source": [
    "from fastai.imports import *\n",
    "from fastai.transforms import *\n",
    "from fastai.conv_learner import *\n",
    "from fastai.model import *\n",
    "from fastai.dataset import *\n",
    "from fastai.sgdr import *\n",
    "from fastai.plots import *"
   ]
  },
  {
   "cell_type": "code",
   "execution_count": 5,
   "metadata": {
    "collapsed": true
   },
   "outputs": [],
   "source": [
    "PATH  = \"data/\"; TRAIN = \"train/\"; VALID = \"valid/\"; TEST  = \"test/\""
   ]
  },
  {
   "cell_type": "code",
   "execution_count": 7,
   "metadata": {
    "collapsed": true
   },
   "outputs": [],
   "source": [
    "train = pd.read_json(PATH+\"train.json\")\n",
    "test  = pd.read_json(PATH+\"test.json\")"
   ]
  },
  {
   "cell_type": "code",
   "execution_count": 8,
   "metadata": {
    "collapsed": true
   },
   "outputs": [],
   "source": [
    "X_band_1=np.array([np.array(band).astype(np.float32).reshape(75, 75) for band in train[\"band_1\"]])\n",
    "X_band_2=np.array([np.array(band).astype(np.float32).reshape(75, 75) for band in train[\"band_2\"]])\n",
    "X_train = np.concatenate([0.3*X_band_1[:, :, :, np.newaxis], 0.6*X_band_2[:, :, :, np.newaxis],(0.1*(X_band_1+X_band_2)/2)[:, :, :, np.newaxis]], axis=-1)"
   ]
  },
  {
   "cell_type": "code",
   "execution_count": 9,
   "metadata": {
    "collapsed": true
   },
   "outputs": [],
   "source": [
    "X_band_test_1=np.array([np.array(band).astype(np.float32).reshape(75, 75) for band in test[\"band_1\"]])\n",
    "X_band_test_2=np.array([np.array(band).astype(np.float32).reshape(75, 75) for band in test[\"band_2\"]])\n",
    "X_test = np.concatenate([0.3*X_band_test_1[:, :, :, np.newaxis], 0.6*X_band_test_2[:, :, :, np.newaxis], (0.1*(X_band_test_1+X_band_test_2)/2)[:, :, :, np.newaxis]], axis=-1)"
   ]
  },
  {
   "cell_type": "code",
   "execution_count": 11,
   "metadata": {},
   "outputs": [
    {
     "name": "stdout",
     "output_type": "stream",
     "text": [
      "1604\n"
     ]
    }
   ],
   "source": [
    "import sys\n",
    "lenTrain = len(train)\n",
    "print(lenTrain)\n",
    "for i in range(0,lenTrain):\n",
    "    isIceberg = (train.ix[i]['is_iceberg'])\n",
    "    if(isIceberg == 1):scipy.misc.imsave(PATH+'train/iceberg.'+str(i)+'.jpg', X_train[i])\n",
    "    else:scipy.misc.imsave(PATH+'train/ship.'+str(i)+'.jpg', X_train[i])"
   ]
  },
  {
   "cell_type": "code",
   "execution_count": 45,
   "metadata": {
    "collapsed": true
   },
   "outputs": [],
   "source": [
    "%cd $TRAIN\n",
    "g = glob('*.jpg')\n",
    "shuf = np.random.permutation(g)\n",
    "for i in range(400):\n",
    "    os.rename(shuf[i], '../'+VALID+shuf[i])"
   ]
  },
  {
   "cell_type": "code",
   "execution_count": 49,
   "metadata": {},
   "outputs": [
    {
     "name": "stdout",
     "output_type": "stream",
     "text": [
      "/home/wnixalo/iceberg/temp\n",
      "/home/wnixalo/iceberg/temp/data/valid\n"
     ]
    }
   ],
   "source": [
    "%cd ../..\n",
    "%cd $PATH$VALID\n",
    "%mv iceberg.*.jpg ice/\n",
    "%mv ship.*.jpg    ship/"
   ]
  },
  {
   "cell_type": "code",
   "execution_count": 50,
   "metadata": {},
   "outputs": [
    {
     "name": "stdout",
     "output_type": "stream",
     "text": [
      "/home/wnixalo/iceberg/temp\n",
      "/home/wnixalo/iceberg/temp/data/train\n"
     ]
    }
   ],
   "source": [
    "%cd ../..\n",
    "%cd $PATH$TRAIN\n",
    "%mv iceberg.*.jpg ice/\n",
    "%mv ship.*.jpg    ship/"
   ]
  },
  {
   "cell_type": "code",
   "execution_count": 51,
   "metadata": {},
   "outputs": [
    {
     "name": "stdout",
     "output_type": "stream",
     "text": [
      "/home/wnixalo/iceberg/temp\n",
      "/home/wnixalo/iceberg/temp/data\n",
      "8424\n"
     ]
    }
   ],
   "source": [
    "%cd ../..\n",
    "%cd $PATH\n",
    "lenTest = len(test)\n",
    "print(lenTest)\n",
    "for i in range(lenTest):\n",
    "    scipy.misc.imsave(TEST+str(i)+'.jpg', X_test[i])"
   ]
  },
  {
   "cell_type": "code",
   "execution_count": 54,
   "metadata": {},
   "outputs": [
    {
     "data": {
      "text/plain": [
       "'/home/wnixalo/iceberg/temp/data'"
      ]
     },
     "execution_count": 54,
     "metadata": {},
     "output_type": "execute_result"
    }
   ],
   "source": [
    "%pwd"
   ]
  },
  {
   "cell_type": "code",
   "execution_count": 56,
   "metadata": {
    "collapsed": true
   },
   "outputs": [],
   "source": [
    "ARCH = resnet50\n",
    "sz   = 224\n",
    "\n",
    "# IMPORTANT NOTE: PATH MUST BE ABSOLUTE PATH -- FOR IMAGE_CLASSIFIER_DATA.FROM_PATHS(..)\n",
    "data = ImageClassifierData.from_paths(os.getcwd(), bs = 16,\n",
    "                                      tfms=tfms_from_model(ARCH, sz,\n",
    "                                                           aug_tfms=transforms_basic,\n",
    "                                                           max_zoom = 1.0), \n",
    "                                      trn_name='train',val_name='valid', \n",
    "                                      test_name = 'test',num_workers=8)"
   ]
  },
  {
   "cell_type": "code",
   "execution_count": 57,
   "metadata": {},
   "outputs": [
    {
     "name": "stderr",
     "output_type": "stream",
     "text": [
      "Downloading: \"https://download.pytorch.org/models/resnet50-19c8e357.pth\" to /home/wnixalo/.torch/models/resnet50-19c8e357.pth\n",
      "100%|██████████| 102502400/102502400 [00:34<00:00, 2938255.44it/s]\n"
     ]
    },
    {
     "name": "stdout",
     "output_type": "stream",
     "text": [
      "100%|██████████| 76/76 [00:21<00:00,  3.60it/s]\n",
      "100%|██████████| 25/25 [00:07<00:00,  3.83it/s]\n",
      "100%|██████████| 527/527 [02:18<00:00,  4.45it/s]\n"
     ]
    }
   ],
   "source": [
    "learn = ConvLearner.pretrained(ARCH, data, precompute=True)"
   ]
  },
  {
   "cell_type": "code",
   "execution_count": 58,
   "metadata": {},
   "outputs": [
    {
     "data": {
      "application/vnd.jupyter.widget-view+json": {
       "model_id": "f9fbec5bcc2f4aa38062e58e8b909748"
      }
     },
     "metadata": {},
     "output_type": "display_data"
    },
    {
     "name": "stdout",
     "output_type": "stream",
     "text": [
      "[ 0.       0.48046  0.46676  0.7675 ]                      \n",
      "[ 1.       0.56045  0.40745  0.795  ]                      \n",
      "[ 2.       0.58357  0.40445  0.815  ]                      \n",
      "\n"
     ]
    }
   ],
   "source": [
    "learn.fit(1e-2, 3)"
   ]
  },
  {
   "cell_type": "code",
   "execution_count": 61,
   "metadata": {},
   "outputs": [
    {
     "name": "stdout",
     "output_type": "stream",
     "text": [
      "(8424, 2)\n"
     ]
    }
   ],
   "source": [
    "test_preds = learn.predict(is_test=True)\n",
    "print(test_preds.shape)"
   ]
  },
  {
   "cell_type": "code",
   "execution_count": 63,
   "metadata": {},
   "outputs": [
    {
     "data": {
      "application/vnd.jupyter.widget-view+json": {
       "model_id": "00272c287f974beb9c08e0a5a2af20e6"
      }
     },
     "metadata": {},
     "output_type": "display_data"
    },
    {
     "name": "stdout",
     "output_type": "stream",
     "text": [
      " 71%|███████   | 54/76 [00:00<00:03,  6.10it/s, loss=0.563]\n",
      "                                                           \r"
     ]
    }
   ],
   "source": [
    "lrf = learn.lr_find()"
   ]
  },
  {
   "cell_type": "code",
   "execution_count": 64,
   "metadata": {},
   "outputs": [
    {
     "data": {
      "image/png": "[encoded data removed]",
      "text/plain": [
       "<matplotlib.figure.Figure at 0x7f597ab58ef0>"
      ]
     },
     "metadata": {},
     "output_type": "display_data"
    }
   ],
   "source": [
    "learn.sched.plot_lr()"
   ]
  },
  {
   "cell_type": "code",
   "execution_count": 65,
   "metadata": {},
   "outputs": [
    {
     "data": {
      "image/png": "[encoded data removed]",
      "text/plain": [
       "<matplotlib.figure.Figure at 0x7f595dd51048>"
      ]
     },
     "metadata": {},
     "output_type": "display_data"
    }
   ],
   "source": [
    "learn.sched.plot()"
   ]
  },
  {
   "cell_type": "markdown",
   "metadata": {},
   "source": [
    "#### Differential Learning & Finetuning"
   ]
  },
  {
   "cell_type": "code",
   "execution_count": 67,
   "metadata": {},
   "outputs": [
    {
     "data": {
      "application/vnd.jupyter.widget-view+json": {
       "model_id": "3eb3df6f678e4bb2baf65ed296136d56"
      }
     },
     "metadata": {},
     "output_type": "display_data"
    },
    {
     "name": "stdout",
     "output_type": "stream",
     "text": [
      "[ 0.       0.44131  0.36507  0.8175 ]                      \n",
      "\n"
     ]
    }
   ],
   "source": [
    "learn.precompute=False\n",
    "learn.fit(1e-2, 1, cycle_len=1)"
   ]
  },
  {
   "cell_type": "code",
   "execution_count": 68,
   "metadata": {},
   "outputs": [
    {
     "data": {
      "text/plain": [
       "(0.8175, 0.35443731293466613)"
      ]
     },
     "execution_count": 68,
     "metadata": {},
     "output_type": "execute_result"
    }
   ],
   "source": [
    "# This gives the validation accuracy and log loss\n",
    "from sklearn import metrics\n",
    "\n",
    "log_preds, labels = learn.TTA()\n",
    "probs = np.exp(log_preds)\n",
    "accuracy(log_preds, labels), metrics.log_loss(labels, probs)"
   ]
  },
  {
   "cell_type": "code",
   "execution_count": 69,
   "metadata": {
    "collapsed": true
   },
   "outputs": [],
   "source": [
    "learn.unfreeze()\n",
    "lr = np.array([1e-2, 3e-2, 9e-2])"
   ]
  },
  {
   "cell_type": "code",
   "execution_count": 70,
   "metadata": {},
   "outputs": [
    {
     "data": {
      "application/vnd.jupyter.widget-view+json": {
       "model_id": "b46c3662908949d7a3535b95465885f8"
      }
     },
     "metadata": {},
     "output_type": "display_data"
    },
    {
     "name": "stdout",
     "output_type": "stream",
     "text": [
      "[ 0.       1.89775  1.1183   0.595  ]                     \n",
      "[ 1.       2.33167  2.34574  0.525  ]                     \n",
      "[ 2.       1.39482  0.72513  0.62   ]                     \n",
      "[ 3.       0.86514  0.58355  0.665  ]                      \n",
      "[ 4.       0.80417  0.68014  0.5975 ]                      \n",
      "[ 5.       0.72892  0.55509  0.69   ]                      \n",
      "[ 6.       0.65658  0.58582  0.645  ]                      \n",
      "[ 7.       0.63932  0.54809  0.6875 ]                      \n",
      "[ 8.       0.64216  0.5953   0.6025 ]                      \n",
      "[ 9.       0.62174  0.51948  0.7275 ]                      \n",
      "[ 10.        0.61306   0.55096   0.71   ]                  \n",
      "[ 11.        0.5994    0.52884   0.7225 ]                  \n",
      "[ 12.        0.60868   0.52419   0.71   ]                  \n",
      "\n"
     ]
    }
   ],
   "source": [
    "learn.fit(lr, 3, cycle_len=1, cycle_mult=3)"
   ]
  },
  {
   "cell_type": "code",
   "execution_count": 71,
   "metadata": {
    "collapsed": true
   },
   "outputs": [],
   "source": [
    "# for file submission\n",
    "test_preds = learn.TTA(is_test=True)\n",
    "submission = pd.DataFrame()\n",
    "submission['id'] = test['id']\n",
    "submission['is_iceberg'] = pd.DataFrame({'is_iceberg':list(np.exp(test_preds[0][:][:,0]))})\n",
    "submission.to_csv('sub.csv', index=False)"
   ]
  },
  {
   "cell_type": "code",
   "execution_count": null,
   "metadata": {
    "collapsed": true
   },
   "outputs": [],
   "source": []
  }
 ],
 "metadata": {
  "kernelspec": {
   "display_name": "Python 3 (FAI)",
   "language": "python",
   "name": "fai"
  },
  "language_info": {
   "codemirror_mode": {
    "name": "ipython",
    "version": 3
   },
   "file_extension": ".py",
   "mimetype": "text/x-python",
   "name": "python",
   "nbconvert_exporter": "python",
   "pygments_lexer": "ipython3",
   "version": "3.6.1"
  }
 },
 "nbformat": 4,
 "nbformat_minor": 2
}
