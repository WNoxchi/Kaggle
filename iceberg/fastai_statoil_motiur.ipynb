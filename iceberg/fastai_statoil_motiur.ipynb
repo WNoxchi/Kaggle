{
 "cells": [
  {
   "cell_type": "markdown",
   "metadata": {},
   "source": [
    "fastai_statoil_motiur\n",
    "\n",
    "Replicating: https://github.com/motiur/fastai/blob/master/statoil_4.ipynb"
   ]
  },
  {
   "cell_type": "code",
   "execution_count": 1,
   "metadata": {
    "collapsed": true
   },
   "outputs": [],
   "source": [
    "%reload_ext autoreload\n",
    "%autoreload 2\n",
    "%matplotlib inline"
   ]
  },
  {
   "cell_type": "code",
   "execution_count": 24,
   "metadata": {
    "collapsed": true
   },
   "outputs": [],
   "source": [
    "from fastai.imports import *\n",
    "from fastai.transforms import *\n",
    "from fastai.conv_learner import *\n",
    "from fastai.model import *\n",
    "from fastai.dataset import *\n",
    "from fastai.sgdr import *\n",
    "from fastai.plots import *"
   ]
  },
  {
   "cell_type": "code",
   "execution_count": 3,
   "metadata": {
    "collapsed": true
   },
   "outputs": [],
   "source": [
    "PATH  = \"data/\"; TRAIN = \"train/\"; VALID = \"valid/\"; TEST  = \"test/\""
   ]
  },
  {
   "cell_type": "code",
   "execution_count": 4,
   "metadata": {
    "collapsed": true
   },
   "outputs": [],
   "source": [
    "train_data = pd.read_json(PATH+'train.json')"
   ]
  },
  {
   "cell_type": "code",
   "execution_count": 5,
   "metadata": {
    "collapsed": true
   },
   "outputs": [],
   "source": [
    "band_1 = [np.array(band).astype(np.float32).reshape(75,75) for band in train_data['band_1']]\n",
    "band_2 = [np.array(band).astype(np.float32).reshape(75,75) for band in train_data['band_2']]"
   ]
  },
  {
   "cell_type": "code",
   "execution_count": 6,
   "metadata": {
    "collapsed": true
   },
   "outputs": [],
   "source": [
    "band_1 = np.array(band_1)\n",
    "band_2 = np.array(band_2)"
   ]
  },
  {
   "cell_type": "markdown",
   "metadata": {},
   "source": [
    "All implementations I've seen, turn the data into a 3D tensor. Think it's safe to say, if you want it any other way: you have to refactor the architecture itself.\n",
    "\n",
    "*Okay... no shit.* Well I was having trouble getting a 3D tensor in there anyhow. Will check that soon after this notebook."
   ]
  },
  {
   "cell_type": "code",
   "execution_count": 7,
   "metadata": {
    "collapsed": true
   },
   "outputs": [],
   "source": [
    "train_data_array = np.concatenate([band_1[:,:,:, np.newaxis], \n",
    "                                   band_2[:,:,:, np.newaxis],\n",
    "                                   ((band_1+band_2)/2)[:,:,:, np.newaxis]],\n",
    "                                  axis=-1)"
   ]
  },
  {
   "cell_type": "code",
   "execution_count": 8,
   "metadata": {
    "collapsed": true
   },
   "outputs": [],
   "source": [
    "band_1=np.array([np.array(band).astype(np.float32).reshape(75, 75) for band in train_data[\"band_1\"]])\n",
    "band_2=np.array([np.array(band).astype(np.float32).reshape(75, 75) for band in train_data[\"band_2\"]])\n",
    "train_data_array = np.concatenate([band_1[:, :, :, np.newaxis], band_2[:, :, :, np.newaxis],\n",
    "                                   ((band_1+band_2)/2)[:, :, :, np.newaxis]], axis=-1)\n"
   ]
  },
  {
   "cell_type": "code",
   "execution_count": 9,
   "metadata": {
    "collapsed": true
   },
   "outputs": [],
   "source": [
    "%rm -r data/train/ship/*.jpg\n",
    "%rm -r data/train/ice/*.jpg"
   ]
  },
  {
   "cell_type": "code",
   "execution_count": 10,
   "metadata": {
    "collapsed": true
   },
   "outputs": [],
   "source": [
    "for idx in range(len(train_data_array)):\n",
    "    if train_data.iloc[idx]['is_iceberg'] == 0:\n",
    "        CAT = 'ship/'\n",
    "    else:\n",
    "        CAT = 'ice/'\n",
    "    scipy.misc.imsave(PATH+TRAIN+CAT+'{:0=4d}.jpg'.format(idx), train_data_array[idx])\n",
    "\n",
    "# %rm -rf data/train/ship/*.jpg\n",
    "# %rm -rf data/train/ice/*.jpg"
   ]
  },
  {
   "cell_type": "markdown",
   "metadata": {},
   "source": [
    "Interesting message for usage of `.ix`:\n",
    "\n",
    "```\n",
    "/home/wnixalo/miniconda3/envs/FAI/lib/python3.6/site-packages/ipykernel_launcher.py:2: DeprecationWarning: \n",
    ".ix is deprecated. Please use\n",
    ".loc for label based indexing or\n",
    ".iloc for positional indexing\n",
    "\n",
    "See the documentation here:\n",
    "http://pandas.pydata.org/pandas-docs/stable/indexing.html#ix-indexer-is-deprecated\n",
    "```\n",
    "\n",
    "I'll use `.iloc` since I'm using integer indices then."
   ]
  },
  {
   "cell_type": "code",
   "execution_count": 9,
   "metadata": {
    "collapsed": true
   },
   "outputs": [],
   "source": [
    "# CATS = ['ice/','ship/']\n",
    "# for CAT in CATS:\n",
    "#     %cd $PATH$TRAIN$CAT\n",
    "    \n",
    "#     g = glob('*.jpg')\n",
    "#     shuf = np.random.permutation(g)\n",
    "#     for i in range(400): os.rename(shuf[i], PATH+VALID+CAT+shuf[i])"
   ]
  },
  {
   "cell_type": "markdown",
   "metadata": {},
   "source": [
    "NOTE: `ImageClassifierData.from_paths(..)` **WILL** fail if `val_name` and `test_name` do not equal `'valid'` and `'test'`. I though I could get away w/ calling them `'train'` to proceed w/o validation or test folders. Also I *think* the `PATH` par of `.from_paths(..)` must be the *absolute* path. (ie: from home)\n",
    "\n",
    "NOTE: *Ahhhh*... I think what it needs is for those folders to not be empty..\n",
    "\n",
    "--> Confirmed, and *both* are true."
   ]
  },
  {
   "cell_type": "code",
   "execution_count": 30,
   "metadata": {},
   "outputs": [
    {
     "name": "stdout",
     "output_type": "stream",
     "text": [
      "100%|██████████| 101/101 [00:17<00:00,  5.67it/s]\n",
      "100%|██████████| 101/101 [00:17<00:00,  5.88it/s]\n",
      "100%|██████████| 527/527 [01:28<00:00,  5.94it/s]\n"
     ]
    }
   ],
   "source": [
    "ARCH = resnet34\n",
    "sz = 224\n",
    "\n",
    "resnet_data = ImageClassifierData.from_paths(os.getcwd()+'/'+PATH, bs=16, \n",
    "                                             tfms=tfms_from_model(ARCH, sz, \n",
    "                                                                  aug_tfms=transforms_basic, \n",
    "                                                                  max_zoom=1.0),\n",
    "                                             trn_name='train', val_name='valid',\n",
    "                                             test_name='test', num_workers=8)\n",
    "\n",
    "# resnet_data = ImageClassifierData.from_paths(os.getcwd()+'/'+PATH, bs = 16,\n",
    "#                                       tfms=tfms_from_model(ARCH, sz,\n",
    "#                                                            aug_tfms=transforms_basic,\n",
    "#                                                            max_zoom = 1.0), \n",
    "#                                       trn_name='train',val_name='valid', \n",
    "#                                       test_name = 'test',num_workers=8)\n",
    "\n",
    "learn = ConvLearner.pretrained(ARCH, resnet_data, precompute=True)"
   ]
  },
  {
   "cell_type": "code",
   "execution_count": 31,
   "metadata": {
    "scrolled": true
   },
   "outputs": [
    {
     "data": {
      "application/vnd.jupyter.widget-view+json": {
       "model_id": "609644c2ab1f455f9596f5c7e87ca9cf"
      }
     },
     "metadata": {},
     "output_type": "display_data"
    },
    {
     "name": "stdout",
     "output_type": "stream",
     "text": [
      "[ 0.       0.54137  0.41833  0.79394]                       \n",
      "[ 1.       0.50318  0.36625  0.82549]                       \n",
      "[ 2.       0.47231  0.35622  0.84096]                       \n",
      "\n"
     ]
    }
   ],
   "source": [
    "learn.fit(1e-3, 3)"
   ]
  },
  {
   "cell_type": "markdown",
   "metadata": {},
   "source": [
    "Okay, a collossal memory issue here. Calling `X = pd.read_json(json_file_path)` will load that into memory, but will NOT free memory previously allocated in X... So you can crash your system in a few `shift-return`'s... \n",
    "\n",
    "Unfortunately running `del X` will only free the memory currently allocated to `X`. What was bound before will still be occupied in RAM. ffs...\n",
    "\n",
    "**NOTE:** the below `test_...` operations should be above with their `train_...` counterparts."
   ]
  },
  {
   "cell_type": "code",
   "execution_count": 11,
   "metadata": {
    "collapsed": true
   },
   "outputs": [],
   "source": [
    "test_data = pd.read_json(PATH+\"test.json\")"
   ]
  },
  {
   "cell_type": "code",
   "execution_count": 12,
   "metadata": {
    "collapsed": true
   },
   "outputs": [],
   "source": [
    "test_band_1 = [np.array(band).astype(np.float32).reshape(75,75) for band in test_data['band_1']]\n",
    "test_band_2 = [np.array(band).astype(np.float32).reshape(75,75) for band in test_data['band_2']]\n",
    "test_band_1 = np.array(test_band_1)\n",
    "test_band_2 = np.array(test_band_2)\n",
    "test_data_array = np.concatenate([test_band_1[:,:,:, np.newaxis], \n",
    "                                  test_band_2[:,:,:, np.newaxis],\n",
    "                                  ((test_band_1+test_band_2)/2)[:,:,:, np.newaxis]],\n",
    "                                  axis=-1)"
   ]
  },
  {
   "cell_type": "code",
   "execution_count": 13,
   "metadata": {},
   "outputs": [
    {
     "data": {
      "text/plain": [
       "(8424, 4)"
      ]
     },
     "execution_count": 13,
     "metadata": {},
     "output_type": "execute_result"
    }
   ],
   "source": [
    "test_data.shape"
   ]
  },
  {
   "cell_type": "code",
   "execution_count": 14,
   "metadata": {},
   "outputs": [
    {
     "data": {
      "text/plain": [
       "(8424, 75, 75, 3)"
      ]
     },
     "execution_count": 14,
     "metadata": {},
     "output_type": "execute_result"
    }
   ],
   "source": [
    "test_data_array.shape"
   ]
  },
  {
   "cell_type": "code",
   "execution_count": 32,
   "metadata": {
    "collapsed": true
   },
   "outputs": [],
   "source": [
    "# save testing data to test folder:\n",
    "for idx in range(len(test_data_array)):\n",
    "    scipy.misc.imsave(PATH+TEST+'{:0=4d}.jpg'.format(idx), test_data_array[idx])"
   ]
  },
  {
   "cell_type": "code",
   "execution_count": 33,
   "metadata": {},
   "outputs": [
    {
     "name": "stdout",
     "output_type": "stream",
     "text": [
      "(8424, 2)\n"
     ]
    }
   ],
   "source": [
    "test_preds = learn.predict(is_test=True)\n",
    "print(test_preds.shape)"
   ]
  },
  {
   "cell_type": "code",
   "execution_count": 34,
   "metadata": {},
   "outputs": [
    {
     "data": {
      "application/vnd.jupyter.widget-view+json": {
       "model_id": "782f83f399244150b8729b24497c20a8"
      }
     },
     "metadata": {},
     "output_type": "display_data"
    },
    {
     "name": "stdout",
     "output_type": "stream",
     "text": [
      " 79%|███████▉  | 80/101 [00:00<00:03,  6.89it/s, loss=1.37] \n",
      "                                                           \r"
     ]
    }
   ],
   "source": [
    "λrf = learn.lr_find()"
   ]
  },
  {
   "cell_type": "code",
   "execution_count": 35,
   "metadata": {},
   "outputs": [
    {
     "data": {
      "image/png": "[encoded data removed]",
      "text/plain": [
       "<matplotlib.figure.Figure at 0x7f684f105630>"
      ]
     },
     "metadata": {},
     "output_type": "display_data"
    }
   ],
   "source": [
    "learn.sched.plot_lr()"
   ]
  },
  {
   "cell_type": "code",
   "execution_count": 36,
   "metadata": {},
   "outputs": [
    {
     "data": {
      "image/png": "[encoded data removed]",
      "text/plain": [
       "<matplotlib.figure.Figure at 0x7f684f105358>"
      ]
     },
     "metadata": {},
     "output_type": "display_data"
    }
   ],
   "source": [
    "learn.sched.plot()"
   ]
  },
  {
   "cell_type": "markdown",
   "metadata": {
    "collapsed": true
   },
   "source": [
    "#### Differential Learning & Finetuning"
   ]
  },
  {
   "cell_type": "code",
   "execution_count": 37,
   "metadata": {},
   "outputs": [
    {
     "data": {
      "application/vnd.jupyter.widget-view+json": {
       "model_id": "77cd6d0d7e3c45078205d40bf46d1f22"
      }
     },
     "metadata": {},
     "output_type": "display_data"
    },
    {
     "name": "stdout",
     "output_type": "stream",
     "text": [
      "[ 0.       0.51223  0.34626  0.82178]                        \n",
      "\n"
     ]
    }
   ],
   "source": [
    "learn.precompute = False\n",
    "learn.fit(1e-2, 1, cycle_len=1)"
   ]
  },
  {
   "cell_type": "code",
   "execution_count": 39,
   "metadata": {},
   "outputs": [
    {
     "data": {
      "text/plain": [
       "(0.82730673316708225, 0.35399877791289563)"
      ]
     },
     "execution_count": 39,
     "metadata": {},
     "output_type": "execute_result"
    }
   ],
   "source": [
    "# Validation accuracy and log loss (although I didn't separate any validation data here)\n",
    "from sklearn import metrics\n",
    "log_preds, labels = learn.TTA()\n",
    "probs = np.exp(log_preds)\n",
    "accuracy(log_preds, labels), metrics.log_loss(labels, probs)"
   ]
  },
  {
   "cell_type": "code",
   "execution_count": 40,
   "metadata": {
    "collapsed": true
   },
   "outputs": [],
   "source": [
    "learn.unfreeze()\n",
    "λr = np.array([1e-2, 3e-2, 9e-2])"
   ]
  },
  {
   "cell_type": "code",
   "execution_count": 41,
   "metadata": {},
   "outputs": [
    {
     "data": {
      "application/vnd.jupyter.widget-view+json": {
       "model_id": "97e2cb140862473185828f78807c993a"
      }
     },
     "metadata": {},
     "output_type": "display_data"
    },
    {
     "name": "stdout",
     "output_type": "stream",
     "text": [
      "[ 0.       1.81896  1.52258  0.61819]                       \n",
      "[ 1.       2.05542  1.2733   0.57611]                       \n",
      "[ 2.       1.04116  0.67779  0.56745]                       \n",
      "[ 3.       0.73303  0.65036  0.56807]                        \n",
      "[ 4.       0.77082  0.74725  0.53465]                        \n",
      "[ 5.       0.73078  0.67012  0.55012]                        \n",
      "[ 6.       0.65693  0.69824  0.66399]                        \n",
      "[ 7.       0.61545  0.54296  0.71163]                        \n",
      "[ 8.       0.59277  0.46422  0.78775]                        \n",
      "[ 9.       0.53985  0.44084  0.80198]                        \n",
      "[ 10.        0.51571   0.44041   0.79517]                    \n",
      "[ 11.        0.48845   0.4046    0.8224 ]                    \n",
      "[ 12.        0.47839   0.40626   0.81993]                    \n",
      "\n"
     ]
    }
   ],
   "source": [
    "learn.fit(λr, 3, cycle_len=1, cycle_mult=3)"
   ]
  },
  {
   "cell_type": "code",
   "execution_count": 44,
   "metadata": {
    "collapsed": true
   },
   "outputs": [],
   "source": [
    "# file submission\n",
    "test_preds = learn.TTA(is_test=True)\n",
    "submission = pd.DataFrame()\n",
    "submission['id'] = test_data['id']\n",
    "submission['is_iceberg'] = pd.DataFrame({'is_iceberg':list(np.exp(test_preds[0][:][:,0]))})\n",
    "submission.to_csv(PATH+'results/'+'submission_fastai_motiurrepl.csv', index = False)"
   ]
  },
  {
   "cell_type": "code",
   "execution_count": null,
   "metadata": {
    "collapsed": true
   },
   "outputs": [],
   "source": []
  },
  {
   "cell_type": "code",
   "execution_count": null,
   "metadata": {
    "collapsed": true
   },
   "outputs": [],
   "source": []
  },
  {
   "cell_type": "code",
   "execution_count": null,
   "metadata": {
    "collapsed": true
   },
   "outputs": [],
   "source": []
  },
  {
   "cell_type": "code",
   "execution_count": null,
   "metadata": {
    "collapsed": true
   },
   "outputs": [],
   "source": []
  },
  {
   "cell_type": "code",
   "execution_count": null,
   "metadata": {
    "collapsed": true
   },
   "outputs": [],
   "source": []
  },
  {
   "cell_type": "code",
   "execution_count": null,
   "metadata": {
    "collapsed": true
   },
   "outputs": [],
   "source": []
  },
  {
   "cell_type": "code",
   "execution_count": null,
   "metadata": {
    "collapsed": true
   },
   "outputs": [],
   "source": []
  },
  {
   "cell_type": "code",
   "execution_count": null,
   "metadata": {
    "collapsed": true
   },
   "outputs": [],
   "source": []
  }
 ],
 "metadata": {
  "kernelspec": {
   "display_name": "Python 3 (FAI)",
   "language": "python",
   "name": "fai"
  },
  "language_info": {
   "codemirror_mode": {
    "name": "ipython",
    "version": 3
   },
   "file_extension": ".py",
   "mimetype": "text/x-python",
   "name": "python",
   "nbconvert_exporter": "python",
   "pygments_lexer": "ipython3",
   "version": "3.6.1"
  }
 },
 "nbformat": 4,
 "nbformat_minor": 2
}
